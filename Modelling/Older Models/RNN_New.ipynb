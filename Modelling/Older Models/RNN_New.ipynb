{
  "cells": [
    {
      "cell_type": "markdown",
      "metadata": {
        "id": "1r2A_GKQp5JS"
      },
      "source": [
        "### Pipeline for Pre-processing"
      ]
    },
    {
      "cell_type": "code",
      "execution_count": 1,
      "metadata": {
        "id": "FotXXbFKp5JU"
      },
      "outputs": [],
      "source": [
        "# Importing the required libraries\n",
        "import pandas as pd\n",
        "import numpy as np\n",
        "from sklearn.model_selection import train_test_split\n",
        "from sklearn.preprocessing import StandardScaler, OneHotEncoder, MinMaxScaler\n",
        "from sklearn.impute import SimpleImputer\n",
        "from sklearn.compose import ColumnTransformer\n",
        "from sklearn.pipeline import Pipeline\n",
        "from sklearn.metrics import mean_squared_error,  r2_score\n",
        "from sklearn.base import BaseEstimator, TransformerMixin\n",
        "import numpy as np\n",
        "import pandas as pd\n",
        "from tensorflow.keras.preprocessing.sequence import TimeseriesGenerator\n",
        "from tensorflow.keras.models import Sequential\n",
        "from tensorflow.keras.layers import LSTM, Dense\n",
        "#import tensorflow.keras.layers as layers\n",
        "from scipy.sparse import isspmatrix\n",
        "import matplotlib.pyplot as plt\n",
        "#from sklearn.model_selection import GridSearchCV\n",
        "# from tensorflow.keras.wrappers.scikit_learn import KerasClassifier, KerasRegressor\n",
        "from scikeras.wrappers import KerasRegressor\n",
        "from sklearn.model_selection import GridSearchCV"
      ]
    },
    {
      "cell_type": "code",
      "source": [
        "# Mouting the drive\n",
        "from google.colab import drive\n",
        "drive.mount('/content/drive')"
      ],
      "metadata": {
        "colab": {
          "base_uri": "https://localhost:8080/"
        },
        "id": "UseERZVnp9fk",
        "outputId": "a6428074-43f5-40f0-ea42-121e558429f9"
      },
      "execution_count": 2,
      "outputs": [
        {
          "output_type": "stream",
          "name": "stdout",
          "text": [
            "Drive already mounted at /content/drive; to attempt to forcibly remount, call drive.mount(\"/content/drive\", force_remount=True).\n"
          ]
        }
      ]
    },
    {
      "cell_type": "code",
      "source": [
        "!ls \"/content/drive/My Drive\"\n"
      ],
      "metadata": {
        "colab": {
          "base_uri": "https://localhost:8080/"
        },
        "id": "VVBno_gDqsFW",
        "outputId": "31b52705-c728-4dcb-9823-c09c0558e556"
      },
      "execution_count": 3,
      "outputs": [
        {
          "output_type": "stream",
          "name": "stdout",
          "text": [
            "Energy-Prediction-Using-BDG2-Data\n"
          ]
        }
      ]
    },
    {
      "cell_type": "code",
      "source": [
        "# Loading the dataset\n",
        "# Train Data\n",
        "temp_df = pd.read_csv(\"/content/drive/My Drive/Energy-Prediction-Using-BDG2-Data/data/cleaned/train.csv\", nrows=0)  # Read only the header\n",
        "total_columns = len(temp_df.columns)\n",
        "columns_to_use = temp_df.columns[1:total_columns]\n",
        "train_data = pd.read_csv(\"/content/drive/My Drive/Energy-Prediction-Using-BDG2-Data/data/cleaned/train.csv\",  usecols=columns_to_use)\n",
        "print(train_data.head(5))\n",
        "\n",
        "# Test Data\n",
        "test_data = pd.read_csv(\"/content/drive/My Drive/Energy-Prediction-Using-BDG2-Data/data/cleaned/test.csv\", usecols=columns_to_use)\n",
        "print(test_data.head())\n",
        "\n",
        "# Dropping the columns that are not relevant to our analysis\n",
        "train_data = train_data.drop(columns=['building_name', 'site_name'])\n",
        "test_data = test_data.drop(columns=['building_name', 'site_name'])"
      ],
      "metadata": {
        "colab": {
          "base_uri": "https://localhost:8080/"
        },
        "id": "c4-6WwYm5XIC",
        "outputId": "afb155d5-9542-4d2d-d445-f0c3437700a6"
      },
      "execution_count": 4,
      "outputs": [
        {
          "output_type": "stream",
          "name": "stdout",
          "text": [
            "            building_name        meter        date  meter_reading site_name  \\\n",
            "0  Bear_education_Alfredo  electricity  2016-01-01         2.9050      Bear   \n",
            "1  Bear_education_Alfredo  electricity  2016-01-02         2.7700      Bear   \n",
            "2  Bear_education_Alfredo  electricity  2016-01-03         2.6725      Bear   \n",
            "3  Bear_education_Alfredo  electricity  2016-01-04         4.5650      Bear   \n",
            "4  Bear_education_Alfredo  electricity  2016-01-05         4.7825      Bear   \n",
            "\n",
            "  sub_primaryspaceusage    sqm    sqft    timezone  airTemperature  \\\n",
            "0             Education  609.8  6564.0  US/Pacific        5.246861   \n",
            "1             Education  609.8  6564.0  US/Pacific        5.993973   \n",
            "2             Education  609.8  6564.0  US/Pacific        5.660314   \n",
            "3             Education  609.8  6564.0  US/Pacific        5.048507   \n",
            "4             Education  609.8  6564.0  US/Pacific        4.745567   \n",
            "\n",
            "   cloudCoverage  dewTemperature  precipDepth1HR  precipDepth6HR  \\\n",
            "0       1.927009        0.254484        0.351088       10.801125   \n",
            "1       1.997893        0.892188        0.409453       11.105558   \n",
            "2       1.946017        0.778475        0.552568       11.167389   \n",
            "3       1.987616       -0.268905        0.479493       11.089874   \n",
            "4       2.007311        0.321921        1.033857       11.723586   \n",
            "\n",
            "   seaLvlPressure  windDirection  windSpeed  season  building_id  site_id  \n",
            "0     1018.888301     172.924863   3.807399  Winter            1        1  \n",
            "1     1014.347411     181.359441   4.202455  Winter            1        1  \n",
            "2     1010.396019     208.978674   4.015919  Winter            1        1  \n",
            "3     1008.903334     211.377040   3.909701  Winter            1        1  \n",
            "4     1012.747700     170.002007   3.528571  Winter            1        1  \n",
            "            building_name        meter        date  meter_reading site_name  \\\n",
            "0  Bear_education_Alfredo  electricity  2017-01-01         2.1775      Bear   \n",
            "1  Bear_education_Alfredo  electricity  2017-01-02         2.7925      Bear   \n",
            "2  Bear_education_Alfredo  electricity  2017-01-03         7.1100      Bear   \n",
            "3  Bear_education_Alfredo  electricity  2017-01-04         6.8450      Bear   \n",
            "4  Bear_education_Alfredo  electricity  2017-01-05         3.9500      Bear   \n",
            "\n",
            "  sub_primaryspaceusage    sqm    sqft    timezone  airTemperature  \\\n",
            "0             Education  609.8  6564.0  US/Pacific        6.313140   \n",
            "1             Education  609.8  6564.0  US/Pacific        5.297363   \n",
            "2             Education  609.8  6564.0  US/Pacific        5.970330   \n",
            "3             Education  609.8  6564.0  US/Pacific        5.959649   \n",
            "4             Education  609.8  6564.0  US/Pacific        1.717660   \n",
            "\n",
            "   cloudCoverage  dewTemperature  precipDepth1HR  precipDepth6HR  \\\n",
            "0       2.126542        1.751662        0.414432       11.077130   \n",
            "1       1.923200        2.274505        0.930626       11.221247   \n",
            "2       2.180302        3.279560        2.242145       12.169223   \n",
            "3       2.309525        1.680482        1.715769       12.168157   \n",
            "4       2.071431       -3.608609        0.294415       10.758541   \n",
            "\n",
            "   seaLvlPressure  windDirection  windSpeed  season  building_id  site_id  \n",
            "0     1017.729660     167.173422   3.224944  Winter            1        1  \n",
            "1     1023.168730     128.275621   3.071918  Winter            1        1  \n",
            "2     1017.886469     178.171787   3.910330  Winter            1        1  \n",
            "3     1013.028823     243.891423   3.783333  Winter            1        1  \n",
            "4     1018.172131     207.449203   2.771794  Winter            1        1  \n"
          ]
        }
      ]
    },
    {
      "cell_type": "code",
      "execution_count": 5,
      "metadata": {
        "id": "tHXTK55Bp5JW"
      },
      "outputs": [],
      "source": [
        "# Filtering for solar meter_reading\n",
        "train_data = train_data[train_data['meter'] == 'solar']\n",
        "test_data = test_data[test_data['meter'] == 'solar']\n",
        "\n",
        "train_data = train_data.drop(columns=['meter'])\n",
        "test_data = test_data.drop(columns=['meter'])"
      ]
    },
    {
      "cell_type": "code",
      "execution_count": 6,
      "metadata": {
        "id": "dOesNxnep5JX",
        "outputId": "f367fb13-2d82-45aa-e2d7-3956236b5ca3",
        "colab": {
          "base_uri": "https://localhost:8080/"
        }
      },
      "outputs": [
        {
          "output_type": "stream",
          "name": "stdout",
          "text": [
            "             date  meter_reading sub_primaryspaceusage      sqm      sqft  \\\n",
            "31089  2016-12-11       119.7102        Student Center  17358.0  186840.0   \n",
            "26080  2016-04-04       131.0700              Academic  11254.8  121146.0   \n",
            "\n",
            "          timezone  airTemperature  cloudCoverage  dewTemperature  \\\n",
            "31089  US/Mountain        4.960440       2.158598        1.325934   \n",
            "26080  US/Mountain       10.475877       1.930225        2.050877   \n",
            "\n",
            "       precipDepth1HR  precipDepth6HR  seaLvlPressure  windDirection  \\\n",
            "31089        0.558275       11.229932     1023.512693     157.514351   \n",
            "26080        0.380880       12.085381     1014.273334     180.232336   \n",
            "\n",
            "       windSpeed  season  building_id  site_id  \n",
            "31089   2.724666  Winter           72        2  \n",
            "26080   3.516447  Spring           68        2  \n",
            "-------------------------------------------------------------\n",
            "             date  meter_reading sub_primaryspaceusage      sqm      sqft  \\\n",
            "25985  2017-03-12            0.0              Academic  11254.8  121146.0   \n",
            "28957  2017-05-03          138.7              Academic  10551.9  113580.0   \n",
            "\n",
            "          timezone  airTemperature  cloudCoverage  dewTemperature  \\\n",
            "25985  US/Mountain        5.993860       2.134772       -0.717105   \n",
            "28957  US/Mountain       15.673246       1.704658        6.500439   \n",
            "\n",
            "       precipDepth1HR  precipDepth6HR  seaLvlPressure  windDirection  \\\n",
            "25985        0.439072       12.189988     1021.598157     214.380037   \n",
            "28957        0.380356       12.137786     1016.495703     159.291330   \n",
            "\n",
            "       windSpeed  season  building_id  site_id  \n",
            "25985   3.368860  Spring           68        2  \n",
            "28957   4.033808  Spring           71        2  \n"
          ]
        }
      ],
      "source": [
        "# Inspecting the data frames\n",
        "print(train_data.sample(2))\n",
        "print('-------------------------------------------------------------')\n",
        "print(test_data.sample(2))"
      ]
    },
    {
      "cell_type": "code",
      "execution_count": 7,
      "metadata": {
        "id": "J2sQEWdVp5JX"
      },
      "outputs": [],
      "source": [
        "# Separating into X and Y dataframes\n",
        "X_train = train_data.drop(columns=['meter_reading'])  # Exclude target variable\n",
        "y_train = train_data['meter_reading']\n",
        "\n",
        "X_test = test_data.drop(columns=['meter_reading'])  # Exclude target variable\n",
        "y_test = test_data['meter_reading']"
      ]
    },
    {
      "cell_type": "markdown",
      "metadata": {
        "id": "m73eOl0Pp5JY"
      },
      "source": [
        "#### Setting up a pipeline to process the data"
      ]
    },
    {
      "cell_type": "code",
      "execution_count": 8,
      "metadata": {
        "id": "J11-wXAGp5JY"
      },
      "outputs": [],
      "source": [
        "# Convert 'site_id' from numeric to categorical\n",
        "X_train['site_id'] = X_train['site_id'].astype('category')\n",
        "X_test['site_id'] = X_test['site_id'].astype('category')\n",
        "\n",
        "# Making sure the date columns is in the right format\n",
        "X_train['date'] = pd.to_datetime(X_train['date'])\n",
        "X_test['date'] = pd.to_datetime(X_test['date'])"
      ]
    },
    {
      "cell_type": "code",
      "execution_count": 9,
      "metadata": {
        "id": "-ENkMSpfp5JY",
        "outputId": "1aac884f-202d-4342-dc3a-e0f11c7b2fca",
        "colab": {
          "base_uri": "https://localhost:8080/"
        }
      },
      "outputs": [
        {
          "output_type": "stream",
          "name": "stdout",
          "text": [
            "date                     datetime64[ns]\n",
            "sub_primaryspaceusage            object\n",
            "sqm                             float64\n",
            "sqft                            float64\n",
            "timezone                         object\n",
            "airTemperature                  float64\n",
            "cloudCoverage                   float64\n",
            "dewTemperature                  float64\n",
            "precipDepth1HR                  float64\n",
            "precipDepth6HR                  float64\n",
            "seaLvlPressure                  float64\n",
            "windDirection                   float64\n",
            "windSpeed                       float64\n",
            "season                           object\n",
            "building_id                       int64\n",
            "site_id                        category\n",
            "dtype: object\n",
            "Index(['date', 'sub_primaryspaceusage', 'sqm', 'sqft', 'timezone',\n",
            "       'airTemperature', 'cloudCoverage', 'dewTemperature', 'precipDepth1HR',\n",
            "       'precipDepth6HR', 'seaLvlPressure', 'windDirection', 'windSpeed',\n",
            "       'season', 'building_id', 'site_id'],\n",
            "      dtype='object')\n"
          ]
        }
      ],
      "source": [
        "print(X_train.dtypes)\n",
        "print(X_train.columns)"
      ]
    },
    {
      "cell_type": "code",
      "execution_count": 10,
      "metadata": {
        "id": "MWTuBmHOp5JY"
      },
      "outputs": [],
      "source": [
        "# Define features and types based on your dataset\n",
        "numerical_features = ['sqm', 'sqft', 'airTemperature', 'cloudCoverage', 'dewTemperature',\n",
        "                      'precipDepth1HR', 'precipDepth6HR', 'seaLvlPressure', 'windDirection', 'windSpeed']\n",
        "categorical_features = ['timezone', 'season', 'sub_primaryspaceusage', 'site_id']\n",
        "date_feature = 'date'\n",
        "id_feature = 'building_id'"
      ]
    },
    {
      "cell_type": "code",
      "execution_count": 11,
      "metadata": {
        "id": "vA0Yecp-p5JY"
      },
      "outputs": [],
      "source": [
        "# Save the 'building_id' and 'date' columns\n",
        "building_ids_train = X_train[id_feature].values\n",
        "dates_train = X_train[date_feature].values\n",
        "building_ids_test = X_test[id_feature].values\n",
        "dates_test = X_test[date_feature].values"
      ]
    },
    {
      "cell_type": "code",
      "execution_count": 12,
      "metadata": {
        "id": "ZWazfj_Xp5JZ"
      },
      "outputs": [],
      "source": [
        "# Drop the 'building_id' and 'date' columns for preprocessing\n",
        "X_train = X_train.drop(columns=[id_feature, date_feature])\n",
        "X_test = X_test.drop(columns=[id_feature, date_feature])\n",
        "\n",
        "# Create a preprocessing pipeline\n",
        "preprocessor = ColumnTransformer(\n",
        "    transformers=[\n",
        "        ('num', MinMaxScaler(), numerical_features),\n",
        "        ('cat', OneHotEncoder(handle_unknown='ignore'), categorical_features)\n",
        "    ])\n",
        "\n",
        "# Fit the preprocessor on the training data and transform both training and test data\n",
        "preprocessor.fit(X_train)\n",
        "X_train_processed = preprocessor.transform(X_train)\n",
        "X_test_processed = preprocessor.transform(X_test)"
      ]
    },
    {
      "cell_type": "code",
      "execution_count": 13,
      "metadata": {
        "id": "1PFFxR7Gp5JZ"
      },
      "outputs": [],
      "source": [
        "# Convert the processed data back to dense DataFrames\n",
        "# X_train_processed_df = pd.DataFrame(X_train_processed.toarray(), columns=preprocessor.get_feature_names_out())\n",
        "# X_test_processed_df = pd.DataFrame(X_test_processed.toarray(), columns=preprocessor.get_feature_names_out())\n",
        "\n",
        "\n",
        "X_train_processed_df = pd.DataFrame(X_train_processed, columns=preprocessor.get_feature_names_out())\n",
        "X_test_processed_df = pd.DataFrame(X_test_processed, columns=preprocessor.get_feature_names_out())"
      ]
    },
    {
      "cell_type": "code",
      "execution_count": 14,
      "metadata": {
        "id": "KqrFbLUop5JZ"
      },
      "outputs": [],
      "source": [
        "# Reattach the 'building_id' and 'date' columns to the processed data\n",
        "X_train_processed_df[id_feature] = building_ids_train\n",
        "X_train_processed_df[date_feature] = dates_train\n",
        "X_test_processed_df[id_feature] = building_ids_test\n",
        "X_test_processed_df[date_feature] = dates_test\n",
        "\n",
        "# Sort the DataFrames by 'building_id' and 'date' to ensure the correct sequence\n",
        "X_train_processed_df.sort_values(by=[id_feature, date_feature], inplace=True)\n",
        "X_test_processed_df.sort_values(by=[id_feature, date_feature], inplace=True)"
      ]
    },
    {
      "cell_type": "code",
      "execution_count": 15,
      "metadata": {
        "id": "WrteEG2Bp5JZ",
        "outputId": "758734f7-0527-4578-eca3-55406e399140",
        "colab": {
          "base_uri": "https://localhost:8080/"
        }
      },
      "outputs": [
        {
          "output_type": "execute_result",
          "data": {
            "text/plain": [
              "Index(['num__sqm', 'num__sqft', 'num__airTemperature', 'num__cloudCoverage',\n",
              "       'num__dewTemperature', 'num__precipDepth1HR', 'num__precipDepth6HR',\n",
              "       'num__seaLvlPressure', 'num__windDirection', 'num__windSpeed',\n",
              "       'cat__timezone_US/Mountain', 'cat__season_Fall', 'cat__season_Spring',\n",
              "       'cat__season_Summer', 'cat__season_Winter',\n",
              "       'cat__sub_primaryspaceusage_Academic',\n",
              "       'cat__sub_primaryspaceusage_Student Center', 'cat__site_id_2',\n",
              "       'building_id', 'date'],\n",
              "      dtype='object')"
            ]
          },
          "metadata": {},
          "execution_count": 15
        }
      ],
      "source": [
        "X_train_processed_df.columns"
      ]
    },
    {
      "cell_type": "code",
      "execution_count": 16,
      "metadata": {
        "id": "ITyLB9vIp5JZ"
      },
      "outputs": [],
      "source": [
        "# Assume y_train and y_test are Pandas Series with 'meter_reading' for training and testing datasets\n",
        "y_train_scaled = np.log1p(y_train.values.reshape(-1, 1))\n",
        "y_test_scaled = np.log1p(y_test.values.reshape(-1, 1))"
      ]
    },
    {
      "cell_type": "code",
      "execution_count": 17,
      "metadata": {
        "id": "2gN9xo2Zp5JZ"
      },
      "outputs": [],
      "source": [
        "# Making it suitable for timeseries data\n",
        "sequence_length = 5\n",
        "\n",
        "def create_sequences(data, target, sequence_length):\n",
        "    X = []\n",
        "    y = []\n",
        "    for i in range(sequence_length, data.shape[0]):  # Start from sequence_length\n",
        "        if isspmatrix(data):  # Check if 'data' is a sparse matrix\n",
        "            seq = data[(i - sequence_length):i].toarray()  # Convert to dense array\n",
        "        else:  # If 'data' is already a dense array or DataFrame\n",
        "            seq = data.iloc[(i - sequence_length):i].values if hasattr(data, 'iloc') else data[(i - sequence_length):i]\n",
        "        X.append(seq)\n",
        "        y.append(target[i])\n",
        "    return np.array(X), np.array(y)\n",
        "\n",
        "# Ensure y_train_scaled and y_test_scaled are numpy arrays for consistency\n",
        "y_train_scaled = np.array(y_train_scaled).flatten()\n",
        "y_test_scaled = np.array(y_test_scaled).flatten()\n",
        "\n",
        "# Create sequences using the modified function\n",
        "X_train_sequences, y_train_scaled_sequences = create_sequences(X_train_processed, y_train_scaled, sequence_length)\n",
        "X_test_sequences, y_test_scaled_sequences = create_sequences(X_test_processed, y_test_scaled, sequence_length)\n"
      ]
    },
    {
      "cell_type": "markdown",
      "metadata": {
        "id": "aU1ybhKtp5JZ"
      },
      "source": [
        "#### Fitting the RNN"
      ]
    },
    {
      "cell_type": "code",
      "execution_count": 18,
      "metadata": {
        "id": "VdQoLUG0p5JZ"
      },
      "outputs": [],
      "source": [
        "param_grid = {\n",
        "    'lstm_units': [20, 50, 100],\n",
        "    'activation': ['relu', 'tanh', 'sigmoid'],\n",
        "    'batch_size': [16, 32, 64],\n",
        "    'epochs': [10, 20],\n",
        "    'optimizer': ['adam', 'rmsprop']\n",
        "}"
      ]
    },
    {
      "cell_type": "code",
      "execution_count": 19,
      "metadata": {
        "id": "4LtzqXxep5JZ",
        "outputId": "a293f7d7-616c-47f5-dca1-0c8494adcb86",
        "colab": {
          "base_uri": "https://localhost:8080/"
        }
      },
      "outputs": [
        {
          "output_type": "stream",
          "name": "stdout",
          "text": [
            "Epoch 1/10\n",
            "28/28 [==============================] - 2s 18ms/step - loss: 19.7940 - val_loss: 3.7727\n",
            "Epoch 2/10\n",
            "28/28 [==============================] - 0s 8ms/step - loss: 8.9010 - val_loss: 1.5193\n",
            "Epoch 3/10\n",
            "28/28 [==============================] - 0s 7ms/step - loss: 7.3738 - val_loss: 2.3385\n",
            "Epoch 4/10\n",
            "28/28 [==============================] - 0s 7ms/step - loss: 7.1206 - val_loss: 2.4745\n",
            "Epoch 5/10\n",
            "28/28 [==============================] - 0s 7ms/step - loss: 6.8957 - val_loss: 2.9684\n",
            "Epoch 6/10\n",
            "28/28 [==============================] - 0s 7ms/step - loss: 6.6010 - val_loss: 2.1794\n",
            "Epoch 7/10\n",
            "28/28 [==============================] - 0s 8ms/step - loss: 6.3644 - val_loss: 2.5524\n",
            "Epoch 8/10\n",
            "28/28 [==============================] - 0s 7ms/step - loss: 6.2687 - val_loss: 2.7582\n",
            "Epoch 9/10\n",
            "28/28 [==============================] - 0s 7ms/step - loss: 6.2321 - val_loss: 1.2632\n",
            "Epoch 10/10\n",
            "28/28 [==============================] - 0s 7ms/step - loss: 6.2116 - val_loss: 1.6867\n"
          ]
        }
      ],
      "source": [
        "# Define RNN model\n",
        "model = Sequential()\n",
        "model.add(LSTM(50, activation='relu', input_shape=(X_train_sequences.shape[1], X_train_sequences.shape[2])))\n",
        "model.add(Dense(1))  # The output layer with one neuron, as we are doing regression to predict 'meter reading'\n",
        "model.compile(optimizer='adam', loss='mse')\n",
        "\n",
        "# Fit the RNN model on the training data\n",
        "history = model.fit(X_train_sequences, y_train_scaled, epochs=10, batch_size=32, validation_split=0.2)"
      ]
    },
    {
      "cell_type": "code",
      "execution_count": 20,
      "metadata": {
        "id": "zxkbmkG2p5JZ",
        "outputId": "c4dfbca1-185c-48de-bd43-09bdcf5bbf51",
        "colab": {
          "base_uri": "https://localhost:8080/"
        }
      },
      "outputs": [
        {
          "output_type": "stream",
          "name": "stdout",
          "text": [
            "35/35 [==============================] - 0s 4ms/step\n",
            "Mean Squared Error (MSE) on Test Data: 8.214397655782388\n",
            "R-squared Score on Test Data: 0.015560765705619373\n"
          ]
        }
      ],
      "source": [
        "# Evaluate the model on the test data\n",
        "y_pred_scaled = model.predict(X_test_sequences)\n",
        "y_pred_scaled = np.nan_to_num(y_pred_scaled, nan=0)\n",
        "y_test_scaled = y_test_scaled[sequence_length:]\n",
        "\n",
        "# Inverse the scaling of the predictions to get them on the same scale as the original 'meter reading' data\n",
        "#y_pred = scaler.inverse_transform(y_pred_scaled)\n",
        "#y_true = scaler.inverse_transform(y_test_scaled.reshape(-1, 1))  # Reshape if y_test_scaled is a 1D array\n",
        "\n",
        "# Calculate MSE and R^2\n",
        "mse = mean_squared_error(y_test_scaled, y_pred_scaled)\n",
        "r_squared = r2_score(y_test_scaled, y_pred_scaled)\n",
        "\n",
        "print(f'Mean Squared Error (MSE) on Test Data: {mse}')\n",
        "print(f'R-squared Score on Test Data: {r_squared}')"
      ]
    },
    {
      "cell_type": "code",
      "execution_count": null,
      "metadata": {
        "id": "9W4Pdwvvp5JZ",
        "outputId": "d140854d-edda-45db-9188-5cbbca049e14"
      },
      "outputs": [
        {
          "data": {
            "image/png": "[encoded data removed]",
            "text/plain": [
              "<Figure size 800x600 with 1 Axes>"
            ]
          },
          "metadata": {},
          "output_type": "display_data"
        }
      ],
      "source": [
        "# Plotting y_pred against y_true\n",
        "plt.figure(figsize=(8, 6))\n",
        "plt.scatter(y_true, y_pred, color='blue', alpha=0.5)\n",
        "plt.plot([y_true.min(), y_true.max()], [y_true.min(), y_true.max()], 'k--', lw=2)  # Plotting the diagonal line\n",
        "plt.xlabel('True Values')\n",
        "plt.ylabel('Predicted Values')\n",
        "plt.title('True vs Predicted Values')\n",
        "plt.grid(True)\n",
        "plt.show()"
      ]
    },
    {
      "cell_type": "markdown",
      "metadata": {
        "id": "o8RsViBep5Ja"
      },
      "source": [
        "##### Hyperparameter tuning"
      ]
    },
    {
      "cell_type": "code",
      "source": [
        "from tensorflow.keras.models import Sequential\n",
        "from tensorflow.keras.layers import LSTM, Dense\n",
        "from tensorflow.keras.optimizers import Adam\n",
        "from sklearn.model_selection import TimeSeriesSplit\n",
        "from sklearn.metrics import mean_squared_error\n",
        "from tensorflow.keras.callbacks import EarlyStopping\n",
        "\n",
        "def create_rnn_model(input_shape, units, learning_rate):\n",
        "    model = Sequential([\n",
        "        LSTM(units=50, activation='relu', input_shape=(sequence_length, num_features), return_sequences=False)\n",
        "    ])\n",
        "    model.compile(optimizer=Adam(learning_rate=learning_rate), loss='mse')\n",
        "    return model\n",
        "\n",
        "# Hyperparameters to tune\n",
        "hyperparameters = {\n",
        "    'units': [20, 50],  # Reduced from three values to two\n",
        "    'learning_rate': [0.001, 0.01]  # Reduced from three values to two\n",
        "}"
      ],
      "metadata": {
        "id": "4lvfvFbZXAyQ"
      },
      "execution_count": 22,
      "outputs": []
    },
    {
      "cell_type": "code",
      "source": [
        "n_splits = 2  # Adjust based on your data size\n",
        "tscv = TimeSeriesSplit(n_splits=n_splits)\n",
        "input_shape = (X_train_sequences.shape[1], X_train_sequences.shape[2])\n",
        "\n",
        "best_mse = float('inf')\n",
        "best_hyperparams = {}\n",
        "\n",
        "for units in hyperparameters['units']:\n",
        "    for learning_rate in hyperparameters['learning_rate']:\n",
        "        fold_mse = []  # Store the MSE of each fold\n",
        "\n",
        "        for train_index, val_index in tscv.split(X_train_sequences):\n",
        "            X_train_fold, X_val_fold = X_train_sequences[train_index], X_train_sequences[val_index]\n",
        "            y_train_fold, y_val_fold = X_train_sequences[train_index], X_train_sequences[val_index]\n",
        "\n",
        "            model = create_rnn_model(input_shape, units, learning_rate)\n",
        "\n",
        "            early_stopping = EarlyStopping(monitor='val_loss', patience=3, mode='min')  # Reduced patience\n",
        "\n",
        "\n",
        "            model.fit(X_train_fold, y_train_fold, epochs=5, batch_size=64,\n",
        "                      validation_data=(X_val_fold, y_val_fold), callbacks=[early_stopping], verbose=0)\n",
        "\n",
        "            y_pred_fold = model.predict(X_val_fold)\n",
        "            mse = mean_squared_error(y_val_fold, y_pred_fold)\n",
        "            fold_mse.append(mse)\n",
        "\n",
        "        avg_mse = np.mean(fold_mse)\n",
        "        print(f'Average MSE for units={units}, lr={learning_rate}: {avg_mse}')\n",
        "\n",
        "        if avg_mse < best_mse:\n",
        "            best_mse = avg_mse\n",
        "            best_hyperparams = {'units': units, 'learning_rate': learning_rate}\n",
        "\n",
        "print(f'Best hyperparameters: {best_hyperparams} with MSE: {best_mse}')"
      ],
      "metadata": {
        "colab": {
          "base_uri": "https://localhost:8080/",
          "height": 341
        },
        "id": "ah7x-Ko3XA7X",
        "outputId": "aec39bbd-d0ca-4b1e-ae27-a1f630ee51d7"
      },
      "execution_count": 23,
      "outputs": [
        {
          "output_type": "error",
          "ename": "NameError",
          "evalue": "name 'num_features' is not defined",
          "traceback": [
            "\u001b[0;31m---------------------------------------------------------------------------\u001b[0m",
            "\u001b[0;31mNameError\u001b[0m                                 Traceback (most recent call last)",
            "\u001b[0;32m<ipython-input-23-25d950b4ba96>\u001b[0m in \u001b[0;36m<cell line: 8>\u001b[0;34m()\u001b[0m\n\u001b[1;32m     14\u001b[0m             \u001b[0my_train_fold\u001b[0m\u001b[0;34m,\u001b[0m \u001b[0my_val_fold\u001b[0m \u001b[0;34m=\u001b[0m \u001b[0mX_train_sequences\u001b[0m\u001b[0;34m[\u001b[0m\u001b[0mtrain_index\u001b[0m\u001b[0;34m]\u001b[0m\u001b[0;34m,\u001b[0m \u001b[0mX_train_sequences\u001b[0m\u001b[0;34m[\u001b[0m\u001b[0mval_index\u001b[0m\u001b[0;34m]\u001b[0m\u001b[0;34m\u001b[0m\u001b[0;34m\u001b[0m\u001b[0m\n\u001b[1;32m     15\u001b[0m \u001b[0;34m\u001b[0m\u001b[0m\n\u001b[0;32m---> 16\u001b[0;31m             \u001b[0mmodel\u001b[0m \u001b[0;34m=\u001b[0m \u001b[0mcreate_rnn_model\u001b[0m\u001b[0;34m(\u001b[0m\u001b[0minput_shape\u001b[0m\u001b[0;34m,\u001b[0m \u001b[0munits\u001b[0m\u001b[0;34m,\u001b[0m \u001b[0mlearning_rate\u001b[0m\u001b[0;34m)\u001b[0m\u001b[0;34m\u001b[0m\u001b[0;34m\u001b[0m\u001b[0m\n\u001b[0m\u001b[1;32m     17\u001b[0m \u001b[0;34m\u001b[0m\u001b[0m\n\u001b[1;32m     18\u001b[0m             \u001b[0mearly_stopping\u001b[0m \u001b[0;34m=\u001b[0m \u001b[0mEarlyStopping\u001b[0m\u001b[0;34m(\u001b[0m\u001b[0mmonitor\u001b[0m\u001b[0;34m=\u001b[0m\u001b[0;34m'val_loss'\u001b[0m\u001b[0;34m,\u001b[0m \u001b[0mpatience\u001b[0m\u001b[0;34m=\u001b[0m\u001b[0;36m3\u001b[0m\u001b[0;34m,\u001b[0m \u001b[0mmode\u001b[0m\u001b[0;34m=\u001b[0m\u001b[0;34m'min'\u001b[0m\u001b[0;34m)\u001b[0m  \u001b[0;31m# Reduced patience\u001b[0m\u001b[0;34m\u001b[0m\u001b[0;34m\u001b[0m\u001b[0m\n",
            "\u001b[0;32m<ipython-input-22-d697da1482cb>\u001b[0m in \u001b[0;36mcreate_rnn_model\u001b[0;34m(input_shape, units, learning_rate)\u001b[0m\n\u001b[1;32m      8\u001b[0m \u001b[0;32mdef\u001b[0m \u001b[0mcreate_rnn_model\u001b[0m\u001b[0;34m(\u001b[0m\u001b[0minput_shape\u001b[0m\u001b[0;34m,\u001b[0m \u001b[0munits\u001b[0m\u001b[0;34m,\u001b[0m \u001b[0mlearning_rate\u001b[0m\u001b[0;34m)\u001b[0m\u001b[0;34m:\u001b[0m\u001b[0;34m\u001b[0m\u001b[0;34m\u001b[0m\u001b[0m\n\u001b[1;32m      9\u001b[0m     model = Sequential([\n\u001b[0;32m---> 10\u001b[0;31m         \u001b[0mLSTM\u001b[0m\u001b[0;34m(\u001b[0m\u001b[0munits\u001b[0m\u001b[0;34m=\u001b[0m\u001b[0;36m50\u001b[0m\u001b[0;34m,\u001b[0m \u001b[0mactivation\u001b[0m\u001b[0;34m=\u001b[0m\u001b[0;34m'relu'\u001b[0m\u001b[0;34m,\u001b[0m \u001b[0minput_shape\u001b[0m\u001b[0;34m=\u001b[0m\u001b[0;34m(\u001b[0m\u001b[0msequence_length\u001b[0m\u001b[0;34m,\u001b[0m \u001b[0mnum_features\u001b[0m\u001b[0;34m)\u001b[0m\u001b[0;34m,\u001b[0m \u001b[0mreturn_sequences\u001b[0m\u001b[0;34m=\u001b[0m\u001b[0;32mFalse\u001b[0m\u001b[0;34m)\u001b[0m\u001b[0;34m\u001b[0m\u001b[0;34m\u001b[0m\u001b[0m\n\u001b[0m\u001b[1;32m     11\u001b[0m     ])\n\u001b[1;32m     12\u001b[0m     \u001b[0mmodel\u001b[0m\u001b[0;34m.\u001b[0m\u001b[0mcompile\u001b[0m\u001b[0;34m(\u001b[0m\u001b[0moptimizer\u001b[0m\u001b[0;34m=\u001b[0m\u001b[0mAdam\u001b[0m\u001b[0;34m(\u001b[0m\u001b[0mlearning_rate\u001b[0m\u001b[0;34m=\u001b[0m\u001b[0mlearning_rate\u001b[0m\u001b[0;34m)\u001b[0m\u001b[0;34m,\u001b[0m \u001b[0mloss\u001b[0m\u001b[0;34m=\u001b[0m\u001b[0;34m'mse'\u001b[0m\u001b[0;34m)\u001b[0m\u001b[0;34m\u001b[0m\u001b[0;34m\u001b[0m\u001b[0m\n",
            "\u001b[0;31mNameError\u001b[0m: name 'num_features' is not defined"
          ]
        }
      ]
    },
    {
      "cell_type": "code",
      "source": [],
      "metadata": {
        "id": "6gKKBxjbXBB8"
      },
      "execution_count": null,
      "outputs": []
    },
    {
      "cell_type": "code",
      "source": [],
      "metadata": {
        "id": "H6ntQcnFXBE1"
      },
      "execution_count": null,
      "outputs": []
    },
    {
      "cell_type": "code",
      "source": [],
      "metadata": {
        "id": "1Ajm6hSbXBH3"
      },
      "execution_count": null,
      "outputs": []
    },
    {
      "cell_type": "code",
      "source": [
        "# Define RNN model\n",
        "model = Sequential()\n",
        "model.add(LSTM(50, activation='relu', input_shape=(X_train_sequences.shape[1], X_train_sequences.shape[2])))\n",
        "model.add(Dense(1))  # The output layer with one neuron, as we are doing regression to predict 'meter reading'\n",
        "model.compile(optimizer='rmsprop', loss='mse')\n",
        "\n",
        "# Fit the RNN model on the training data\n",
        "history = model.fit(X_train_sequences, y_train_scaled, epochs=10, batch_size=32, validation_split=0.2)\n",
        "\n",
        "# Evaluate the model on the test data\n",
        "y_pred_scaled = model.predict(X_test_sequences)\n",
        "y_pred_scaled = np.nan_to_num(y_pred_scaled, nan=0)\n",
        "#y_test_scaled = y_test_scaled[sequence_length:]\n",
        "\n",
        "# Inverse the scaling of the predictions to get them on the same scale as the original 'meter reading' data\n",
        "#y_pred = scaler.inverse_transform(y_pred_scaled)\n",
        "#y_true = scaler.inverse_transform(y_test_scaled.reshape(-1, 1))  # Reshape if y_test_scaled is a 1D array\n",
        "\n",
        "# Calculate MSE and R^2\n",
        "mse = mean_squared_error(y_test_scaled, y_pred_scaled)\n",
        "r_squared = r2_score(y_test_scaled, y_pred_scaled)\n",
        "\n",
        "print(f'Mean Squared Error (MSE) on Test Data: {mse}')\n",
        "print(f'R-squared Score on Test Data: {r_squared}')"
      ],
      "metadata": {
        "colab": {
          "base_uri": "https://localhost:8080/"
        },
        "id": "UhXTTdqPTHKd",
        "outputId": "718f3454-275e-4b04-994a-b0f8b25f7aac"
      },
      "execution_count": 27,
      "outputs": [
        {
          "output_type": "stream",
          "name": "stdout",
          "text": [
            "Epoch 1/10\n",
            "28/28 [==============================] - 3s 27ms/step - loss: 14.6470 - val_loss: 1.0138\n",
            "Epoch 2/10\n",
            "28/28 [==============================] - 0s 12ms/step - loss: 7.8116 - val_loss: 0.7469\n",
            "Epoch 3/10\n",
            "28/28 [==============================] - 0s 12ms/step - loss: 7.1594 - val_loss: 1.3498\n",
            "Epoch 4/10\n",
            "28/28 [==============================] - 0s 12ms/step - loss: 6.8648 - val_loss: 1.9596\n",
            "Epoch 5/10\n",
            "28/28 [==============================] - 0s 12ms/step - loss: 6.4811 - val_loss: 4.7456\n",
            "Epoch 6/10\n",
            "28/28 [==============================] - 0s 11ms/step - loss: 6.6189 - val_loss: 5.4652\n",
            "Epoch 7/10\n",
            "28/28 [==============================] - 0s 7ms/step - loss: 6.4626 - val_loss: 5.6528\n",
            "Epoch 8/10\n",
            "28/28 [==============================] - 0s 6ms/step - loss: 6.3285 - val_loss: 10.1578\n",
            "Epoch 9/10\n",
            "28/28 [==============================] - 0s 7ms/step - loss: 6.4008 - val_loss: 8.6037\n",
            "Epoch 10/10\n",
            "28/28 [==============================] - 0s 8ms/step - loss: 6.2724 - val_loss: 11.1434\n",
            "35/35 [==============================] - 0s 3ms/step\n",
            "Mean Squared Error (MSE) on Test Data: 10.070028144298625\n",
            "R-squared Score on Test Data: -0.20682382459508486\n"
          ]
        }
      ]
    },
    {
      "cell_type": "code",
      "source": [],
      "metadata": {
        "id": "TwXmuQ1nW_cn"
      },
      "execution_count": null,
      "outputs": []
    },
    {
      "cell_type": "code",
      "source": [
        "import numpy as np\n",
        "from tensorflow.keras.models import Sequential\n",
        "from tensorflow.keras.layers import LSTM, Dense\n",
        "from tensorflow.keras.callbacks import EarlyStopping\n",
        "from sklearn.model_selection import TimeSeriesSplit\n",
        "from sklearn.metrics import mean_squared_error"
      ],
      "metadata": {
        "id": "3AYQGp6hTJLY"
      },
      "execution_count": 28,
      "outputs": []
    },
    {
      "cell_type": "code",
      "source": [
        "def create_rnn_model(input_shape):\n",
        "    model = Sequential()\n",
        "    model.add(LSTM(units=50, activation='relu', input_shape=input_shape))\n",
        "    model.add(Dense(1))  # Assuming a regression problem\n",
        "    model.compile(optimizer='adam', loss='mse')\n",
        "    return model"
      ],
      "metadata": {
        "id": "NsLo2twcV6Pj"
      },
      "execution_count": null,
      "outputs": []
    },
    {
      "cell_type": "code",
      "source": [
        "n_splits = 5  # For example, change according to your dataset size and needs\n",
        "tscv = TimeSeriesSplit(n_splits=n_splits)\n",
        "input_shape = (X_train.shape[1], X_train.shape[2])  # Make sure this matches your data\n",
        "\n",
        "for train_index, val_index in tscv.split(X_train):\n",
        "    X_train_fold, X_val_fold = X_train[train_index], X_train[val_index]\n",
        "    y_train_fold, y_val_fold = y_train[train_index], y_train[val_index]\n",
        "\n",
        "    # Create a new instance of the model for each fold\n",
        "    model = create_rnn_model(input_shape)\n",
        "\n",
        "    # Early stopping to avoid overfitting\n",
        "    early_stopping = EarlyStopping(monitor='val_loss', patience=5, mode='min')\n",
        "\n",
        "    # Fit the model\n",
        "    history = model.fit(X_train_fold, y_train_fold,\n",
        "                        epochs=10,\n",
        "                        batch_size=32,\n",
        "                        validation_data=(X_val_fold, y_val_fold),\n",
        "                        callbacks=[early_stopping],\n",
        "                        verbose=1)\n",
        "\n",
        "    # Predict on the validation set\n",
        "    y_pred_fold = model.predict(X_val_fold)\n",
        "\n",
        "    # Evaluate the model\n",
        "    mse = mean_squared_error(y_val_fold, y_pred_fold)\n",
        "    print(f'MSE for this fold: {mse}')"
      ],
      "metadata": {
        "colab": {
          "base_uri": "https://localhost:8080/",
          "height": 216
        },
        "id": "HxEKtBDpV6VJ",
        "outputId": "4667a292-fbc9-4803-f0eb-61d34ed040d2"
      },
      "execution_count": 29,
      "outputs": [
        {
          "output_type": "error",
          "ename": "IndexError",
          "evalue": "tuple index out of range",
          "traceback": [
            "\u001b[0;31m---------------------------------------------------------------------------\u001b[0m",
            "\u001b[0;31mIndexError\u001b[0m                                Traceback (most recent call last)",
            "\u001b[0;32m<ipython-input-29-7df6e024ccf6>\u001b[0m in \u001b[0;36m<cell line: 3>\u001b[0;34m()\u001b[0m\n\u001b[1;32m      1\u001b[0m \u001b[0mn_splits\u001b[0m \u001b[0;34m=\u001b[0m \u001b[0;36m5\u001b[0m  \u001b[0;31m# For example, change according to your dataset size and needs\u001b[0m\u001b[0;34m\u001b[0m\u001b[0;34m\u001b[0m\u001b[0m\n\u001b[1;32m      2\u001b[0m \u001b[0mtscv\u001b[0m \u001b[0;34m=\u001b[0m \u001b[0mTimeSeriesSplit\u001b[0m\u001b[0;34m(\u001b[0m\u001b[0mn_splits\u001b[0m\u001b[0;34m=\u001b[0m\u001b[0mn_splits\u001b[0m\u001b[0;34m)\u001b[0m\u001b[0;34m\u001b[0m\u001b[0;34m\u001b[0m\u001b[0m\n\u001b[0;32m----> 3\u001b[0;31m \u001b[0minput_shape\u001b[0m \u001b[0;34m=\u001b[0m \u001b[0;34m(\u001b[0m\u001b[0mX_train\u001b[0m\u001b[0;34m.\u001b[0m\u001b[0mshape\u001b[0m\u001b[0;34m[\u001b[0m\u001b[0;36m1\u001b[0m\u001b[0;34m]\u001b[0m\u001b[0;34m,\u001b[0m \u001b[0mX_train\u001b[0m\u001b[0;34m.\u001b[0m\u001b[0mshape\u001b[0m\u001b[0;34m[\u001b[0m\u001b[0;36m2\u001b[0m\u001b[0;34m]\u001b[0m\u001b[0;34m)\u001b[0m  \u001b[0;31m# Make sure this matches your data\u001b[0m\u001b[0;34m\u001b[0m\u001b[0;34m\u001b[0m\u001b[0m\n\u001b[0m\u001b[1;32m      4\u001b[0m \u001b[0;34m\u001b[0m\u001b[0m\n\u001b[1;32m      5\u001b[0m \u001b[0;32mfor\u001b[0m \u001b[0mtrain_index\u001b[0m\u001b[0;34m,\u001b[0m \u001b[0mval_index\u001b[0m \u001b[0;32min\u001b[0m \u001b[0mtscv\u001b[0m\u001b[0;34m.\u001b[0m\u001b[0msplit\u001b[0m\u001b[0;34m(\u001b[0m\u001b[0mX_train\u001b[0m\u001b[0;34m)\u001b[0m\u001b[0;34m:\u001b[0m\u001b[0;34m\u001b[0m\u001b[0;34m\u001b[0m\u001b[0m\n",
            "\u001b[0;31mIndexError\u001b[0m: tuple index out of range"
          ]
        }
      ]
    },
    {
      "cell_type": "code",
      "source": [
        "tscv = TimeSeriesSplit(n_splits=n_splits)"
      ],
      "metadata": {
        "id": "dIWugnRxV6YL"
      },
      "execution_count": 30,
      "outputs": []
    },
    {
      "cell_type": "code",
      "source": [],
      "metadata": {
        "id": "xfJYjY-XV6xR"
      },
      "execution_count": null,
      "outputs": []
    },
    {
      "cell_type": "code",
      "source": [],
      "metadata": {
        "id": "fVMqm43GV66k"
      },
      "execution_count": null,
      "outputs": []
    },
    {
      "cell_type": "code",
      "source": [],
      "metadata": {
        "id": "-IBakXOlV69m"
      },
      "execution_count": null,
      "outputs": []
    },
    {
      "cell_type": "code",
      "source": [],
      "metadata": {
        "id": "ZvzXAHM4V6_-"
      },
      "execution_count": null,
      "outputs": []
    },
    {
      "cell_type": "code",
      "source": [],
      "metadata": {
        "id": "dAG--XIlTJPA"
      },
      "execution_count": null,
      "outputs": []
    },
    {
      "cell_type": "code",
      "source": [],
      "metadata": {
        "id": "Pwn7KePNTJSz"
      },
      "execution_count": null,
      "outputs": []
    },
    {
      "cell_type": "code",
      "source": [],
      "metadata": {
        "id": "36Nb8iw4TJWF"
      },
      "execution_count": null,
      "outputs": []
    },
    {
      "cell_type": "code",
      "execution_count": null,
      "metadata": {
        "id": "7TKV0mSnp5Ja"
      },
      "outputs": [],
      "source": [
        "def create_rnn_model(lstm_units=50, activation='relu', optimizer='adam', input_shape=(None, None)):\n",
        "    # Define the model\n",
        "    model = Sequential()\n",
        "    model.add(LSTM(units=lstm_units, activation=activation, input_shape=input_shape))  # Adjust according to your data\n",
        "    model.add(Dense(1))\n",
        "    model.compile(optimizer=optimizer, loss='mse')\n",
        "    return model\n",
        "\n",
        "# Initialize the KerasRegressor with the shape of training sequences\n",
        "model = KerasRegressor(build_fn=lambda: create_rnn_model(input_shape=(X_train_sequences.shape[1], X_train_sequences.shape[2])))\n",
        "\n",
        "\n",
        "# Define the parameter grid, note the changes in prefix for model-specific parameters\n",
        "param_grid = {\n",
        "    'model__lstm_units': [20, 50, 100],\n",
        "    'model__activation': ['relu', 'tanh', 'sigmoid'],\n",
        "    'batch_size': [16, 32, 64],\n",
        "    'epochs': [10, 20],\n",
        "    'model__optimizer': ['adam', 'rmsprop']  # Prefix 'model__' is important here\n",
        "}\n",
        "\n",
        "# Setup GridSearchCV\n",
        "grid = GridSearchCV(estimator=model, param_grid=param_grid, n_jobs=-1, cv=3, scoring='neg_mean_squared_error')\n",
        "\n",
        "\n",
        "# Perform the grid search\n",
        "grid_result = grid.fit(X_train_sequences, y_train_scaled[sequence_length:])\n",
        "\n",
        "# Summarize the results\n",
        "print(\"Best: %f using %s\" % (grid_result.best_score_, grid_result.best_params_))\n",
        "\n"
      ]
    },
    {
      "cell_type": "code",
      "execution_count": null,
      "metadata": {
        "id": "KD3QzUlsp5Ja"
      },
      "outputs": [],
      "source": [
        "from keras.models import Sequential\n",
        "from keras.layers import LSTM, Dense\n",
        "\n",
        "# Define your custom model creation function\n",
        "def create_rnn_model(lstm_units=50, activation='relu', optimizer='adam'):\n",
        "    model = Sequential()\n",
        "    model.add(LSTM(units=lstm_units, activation=activation, input_shape=(5, 48)))  # Adjust based on your data shape\n",
        "    model.add(Dense(1))\n",
        "    model.compile(optimizer=optimizer, loss='mse')\n",
        "    return model\n",
        "\n",
        "# Instantiate the KerasRegressor\n",
        "model = KerasRegressor(model=create_rnn_model, model__lstm_units=50, model__activation='relu', model__optimizer='adam', epochs=100, batch_size=10)\n",
        "\n",
        "param_grid = {\n",
        "    'model__lstm_units': [20, 50, 100],\n",
        "    'model__activation': ['relu', 'tanh', 'sigmoid'],\n",
        "    'model__optimizer': ['adam', 'rmsprop'],\n",
        "    'batch_size': [16, 32, 64],\n",
        "    'epochs': [10, 20]\n",
        "}\n",
        "\n",
        "from sklearn.model_selection import GridSearchCV\n",
        "\n",
        "grid = GridSearchCV(estimator=model, param_grid=param_grid, n_jobs=-1, cv=3, scoring='neg_mean_squared_error')\n",
        "grid_result = grid.fit(X_train_sequences, y_train_scaled[sequence_length:])\n",
        "\n",
        "print(\"Best: %f using %s\" % (grid_result.best_score_, grid_result.best_params_))\n"
      ]
    },
    {
      "cell_type": "code",
      "source": [
        "X_test_processed_df.sample()"
      ],
      "metadata": {
        "colab": {
          "base_uri": "https://localhost:8080/",
          "height": 135
        },
        "id": "pHlEHYwaDfdx",
        "outputId": "445e3a2f-cb1f-4ebf-c79b-1d1bdbc6fe05"
      },
      "execution_count": 22,
      "outputs": [
        {
          "output_type": "execute_result",
          "data": {
            "text/plain": [
              "     num__sqm  num__sqft  num__airTemperature  num__cloudCoverage  \\\n",
              "434       0.0        0.0             0.252036            0.574781   \n",
              "\n",
              "     num__dewTemperature  num__precipDepth1HR  num__precipDepth6HR  \\\n",
              "434             0.214717             0.063182             0.140461   \n",
              "\n",
              "     num__seaLvlPressure  num__windDirection  num__windSpeed  \\\n",
              "434             0.574005            0.648689        0.373421   \n",
              "\n",
              "     cat__timezone_US/Mountain  cat__season_Fall  cat__season_Spring  \\\n",
              "434                        1.0               0.0                 1.0   \n",
              "\n",
              "     cat__season_Summer  cat__season_Winter  \\\n",
              "434                 0.0                 0.0   \n",
              "\n",
              "     cat__sub_primaryspaceusage_Academic  \\\n",
              "434                                  1.0   \n",
              "\n",
              "     cat__sub_primaryspaceusage_Student Center  cat__site_id_2  building_id  \\\n",
              "434                                        0.0             1.0           71   \n",
              "\n",
              "          date  \n",
              "434 2017-03-11  "
            ],
            "text/html": [
              "\n",
              "  <div id=\"df-c3d55a3f-9228-47bd-a466-36581ed9d8a2\" class=\"colab-df-container\">\n",
              "    <div>\n",
              "<style scoped>\n",
              "    .dataframe tbody tr th:only-of-type {\n",
              "        vertical-align: middle;\n",
              "    }\n",
              "\n",
              "    .dataframe tbody tr th {\n",
              "        vertical-align: top;\n",
              "    }\n",
              "\n",
              "    .dataframe thead th {\n",
              "        text-align: right;\n",
              "    }\n",
              "</style>\n",
              "<table border=\"1\" class=\"dataframe\">\n",
              "  <thead>\n",
              "    <tr style=\"text-align: right;\">\n",
              "      <th></th>\n",
              "      <th>num__sqm</th>\n",
              "      <th>num__sqft</th>\n",
              "      <th>num__airTemperature</th>\n",
              "      <th>num__cloudCoverage</th>\n",
              "      <th>num__dewTemperature</th>\n",
              "      <th>num__precipDepth1HR</th>\n",
              "      <th>num__precipDepth6HR</th>\n",
              "      <th>num__seaLvlPressure</th>\n",
              "      <th>num__windDirection</th>\n",
              "      <th>num__windSpeed</th>\n",
              "      <th>cat__timezone_US/Mountain</th>\n",
              "      <th>cat__season_Fall</th>\n",
              "      <th>cat__season_Spring</th>\n",
              "      <th>cat__season_Summer</th>\n",
              "      <th>cat__season_Winter</th>\n",
              "      <th>cat__sub_primaryspaceusage_Academic</th>\n",
              "      <th>cat__sub_primaryspaceusage_Student Center</th>\n",
              "      <th>cat__site_id_2</th>\n",
              "      <th>building_id</th>\n",
              "      <th>date</th>\n",
              "    </tr>\n",
              "  </thead>\n",
              "  <tbody>\n",
              "    <tr>\n",
              "      <th>434</th>\n",
              "      <td>0.0</td>\n",
              "      <td>0.0</td>\n",
              "      <td>0.252036</td>\n",
              "      <td>0.574781</td>\n",
              "      <td>0.214717</td>\n",
              "      <td>0.063182</td>\n",
              "      <td>0.140461</td>\n",
              "      <td>0.574005</td>\n",
              "      <td>0.648689</td>\n",
              "      <td>0.373421</td>\n",
              "      <td>1.0</td>\n",
              "      <td>0.0</td>\n",
              "      <td>1.0</td>\n",
              "      <td>0.0</td>\n",
              "      <td>0.0</td>\n",
              "      <td>1.0</td>\n",
              "      <td>0.0</td>\n",
              "      <td>1.0</td>\n",
              "      <td>71</td>\n",
              "      <td>2017-03-11</td>\n",
              "    </tr>\n",
              "  </tbody>\n",
              "</table>\n",
              "</div>\n",
              "    <div class=\"colab-df-buttons\">\n",
              "\n",
              "  <div class=\"colab-df-container\">\n",
              "    <button class=\"colab-df-convert\" onclick=\"convertToInteractive('df-c3d55a3f-9228-47bd-a466-36581ed9d8a2')\"\n",
              "            title=\"Convert this dataframe to an interactive table.\"\n",
              "            style=\"display:none;\">\n",
              "\n",
              "  <svg xmlns=\"http://www.w3.org/2000/svg\" height=\"24px\" viewBox=\"0 -960 960 960\">\n",
              "    <path d=\"M120-120v-720h720v720H120Zm60-500h600v-160H180v160Zm220 220h160v-160H400v160Zm0 220h160v-160H400v160ZM180-400h160v-160H180v160Zm440 0h160v-160H620v160ZM180-180h160v-160H180v160Zm440 0h160v-160H620v160Z\"/>\n",
              "  </svg>\n",
              "    </button>\n",
              "\n",
              "  <style>\n",
              "    .colab-df-container {\n",
              "      display:flex;\n",
              "      gap: 12px;\n",
              "    }\n",
              "\n",
              "    .colab-df-convert {\n",
              "      background-color: #E8F0FE;\n",
              "      border: none;\n",
              "      border-radius: 50%;\n",
              "      cursor: pointer;\n",
              "      display: none;\n",
              "      fill: #1967D2;\n",
              "      height: 32px;\n",
              "      padding: 0 0 0 0;\n",
              "      width: 32px;\n",
              "    }\n",
              "\n",
              "    .colab-df-convert:hover {\n",
              "      background-color: #E2EBFA;\n",
              "      box-shadow: 0px 1px 2px rgba(60, 64, 67, 0.3), 0px 1px 3px 1px rgba(60, 64, 67, 0.15);\n",
              "      fill: #174EA6;\n",
              "    }\n",
              "\n",
              "    .colab-df-buttons div {\n",
              "      margin-bottom: 4px;\n",
              "    }\n",
              "\n",
              "    [theme=dark] .colab-df-convert {\n",
              "      background-color: #3B4455;\n",
              "      fill: #D2E3FC;\n",
              "    }\n",
              "\n",
              "    [theme=dark] .colab-df-convert:hover {\n",
              "      background-color: #434B5C;\n",
              "      box-shadow: 0px 1px 3px 1px rgba(0, 0, 0, 0.15);\n",
              "      filter: drop-shadow(0px 1px 2px rgba(0, 0, 0, 0.3));\n",
              "      fill: #FFFFFF;\n",
              "    }\n",
              "  </style>\n",
              "\n",
              "    <script>\n",
              "      const buttonEl =\n",
              "        document.querySelector('#df-c3d55a3f-9228-47bd-a466-36581ed9d8a2 button.colab-df-convert');\n",
              "      buttonEl.style.display =\n",
              "        google.colab.kernel.accessAllowed ? 'block' : 'none';\n",
              "\n",
              "      async function convertToInteractive(key) {\n",
              "        const element = document.querySelector('#df-c3d55a3f-9228-47bd-a466-36581ed9d8a2');\n",
              "        const dataTable =\n",
              "          await google.colab.kernel.invokeFunction('convertToInteractive',\n",
              "                                                    [key], {});\n",
              "        if (!dataTable) return;\n",
              "\n",
              "        const docLinkHtml = 'Like what you see? Visit the ' +\n",
              "          '<a target=\"_blank\" href=https://colab.research.google.com/notebooks/data_table.ipynb>data table notebook</a>'\n",
              "          + ' to learn more about interactive tables.';\n",
              "        element.innerHTML = '';\n",
              "        dataTable['output_type'] = 'display_data';\n",
              "        await google.colab.output.renderOutput(dataTable, element);\n",
              "        const docLink = document.createElement('div');\n",
              "        docLink.innerHTML = docLinkHtml;\n",
              "        element.appendChild(docLink);\n",
              "      }\n",
              "    </script>\n",
              "  </div>\n",
              "\n",
              "\n",
              "    </div>\n",
              "  </div>\n"
            ],
            "application/vnd.google.colaboratory.intrinsic+json": {
              "type": "dataframe",
              "summary": "{\n  \"name\": \"X_test_processed_df\",\n  \"rows\": 1,\n  \"fields\": [\n    {\n      \"column\": \"num__sqm\",\n      \"properties\": {\n        \"dtype\": \"number\",\n        \"std\": null,\n        \"min\": 0.0,\n        \"max\": 0.0,\n        \"num_unique_values\": 1,\n        \"samples\": [\n          0.0\n        ],\n        \"semantic_type\": \"\",\n        \"description\": \"\"\n      }\n    },\n    {\n      \"column\": \"num__sqft\",\n      \"properties\": {\n        \"dtype\": \"number\",\n        \"std\": null,\n        \"min\": 0.0,\n        \"max\": 0.0,\n        \"num_unique_values\": 1,\n        \"samples\": [\n          0.0\n        ],\n        \"semantic_type\": \"\",\n        \"description\": \"\"\n      }\n    },\n    {\n      \"column\": \"num__airTemperature\",\n      \"properties\": {\n        \"dtype\": \"number\",\n        \"std\": null,\n        \"min\": 0.252036153756731,\n        \"max\": 0.252036153756731,\n        \"num_unique_values\": 1,\n        \"samples\": [\n          0.252036153756731\n        ],\n        \"semantic_type\": \"\",\n        \"description\": \"\"\n      }\n    },\n    {\n      \"column\": \"num__cloudCoverage\",\n      \"properties\": {\n        \"dtype\": \"number\",\n        \"std\": null,\n        \"min\": 0.5747810341504678,\n        \"max\": 0.5747810341504678,\n        \"num_unique_values\": 1,\n        \"samples\": [\n          0.5747810341504678\n        ],\n        \"semantic_type\": \"\",\n        \"description\": \"\"\n      }\n    },\n    {\n      \"column\": \"num__dewTemperature\",\n      \"properties\": {\n        \"dtype\": \"number\",\n        \"std\": null,\n        \"min\": 0.21471698467175132,\n        \"max\": 0.21471698467175132,\n        \"num_unique_values\": 1,\n        \"samples\": [\n          0.21471698467175132\n        ],\n        \"semantic_type\": \"\",\n        \"description\": \"\"\n      }\n    },\n    {\n      \"column\": \"num__precipDepth1HR\",\n      \"properties\": {\n        \"dtype\": \"number\",\n        \"std\": null,\n        \"min\": 0.06318173838700528,\n        \"max\": 0.06318173838700528,\n        \"num_unique_values\": 1,\n        \"samples\": [\n          0.06318173838700528\n        ],\n        \"semantic_type\": \"\",\n        \"description\": \"\"\n      }\n    },\n    {\n      \"column\": \"num__precipDepth6HR\",\n      \"properties\": {\n        \"dtype\": \"number\",\n        \"std\": null,\n        \"min\": 0.14046108272373792,\n        \"max\": 0.14046108272373792,\n        \"num_unique_values\": 1,\n        \"samples\": [\n          0.14046108272373792\n        ],\n        \"semantic_type\": \"\",\n        \"description\": \"\"\n      }\n    },\n    {\n      \"column\": \"num__seaLvlPressure\",\n      \"properties\": {\n        \"dtype\": \"number\",\n        \"std\": null,\n        \"min\": 0.5740045859658665,\n        \"max\": 0.5740045859658665,\n        \"num_unique_values\": 1,\n        \"samples\": [\n          0.5740045859658665\n        ],\n        \"semantic_type\": \"\",\n        \"description\": \"\"\n      }\n    },\n    {\n      \"column\": \"num__windDirection\",\n      \"properties\": {\n        \"dtype\": \"number\",\n        \"std\": null,\n        \"min\": 0.6486894845744768,\n        \"max\": 0.6486894845744768,\n        \"num_unique_values\": 1,\n        \"samples\": [\n          0.6486894845744768\n        ],\n        \"semantic_type\": \"\",\n        \"description\": \"\"\n      }\n    },\n    {\n      \"column\": \"num__windSpeed\",\n      \"properties\": {\n        \"dtype\": \"number\",\n        \"std\": null,\n        \"min\": 0.37342061033654983,\n        \"max\": 0.37342061033654983,\n        \"num_unique_values\": 1,\n        \"samples\": [\n          0.37342061033654983\n        ],\n        \"semantic_type\": \"\",\n        \"description\": \"\"\n      }\n    },\n    {\n      \"column\": \"cat__timezone_US/Mountain\",\n      \"properties\": {\n        \"dtype\": \"number\",\n        \"std\": null,\n        \"min\": 1.0,\n        \"max\": 1.0,\n        \"num_unique_values\": 1,\n        \"samples\": [\n          1.0\n        ],\n        \"semantic_type\": \"\",\n        \"description\": \"\"\n      }\n    },\n    {\n      \"column\": \"cat__season_Fall\",\n      \"properties\": {\n        \"dtype\": \"number\",\n        \"std\": null,\n        \"min\": 0.0,\n        \"max\": 0.0,\n        \"num_unique_values\": 1,\n        \"samples\": [\n          0.0\n        ],\n        \"semantic_type\": \"\",\n        \"description\": \"\"\n      }\n    },\n    {\n      \"column\": \"cat__season_Spring\",\n      \"properties\": {\n        \"dtype\": \"number\",\n        \"std\": null,\n        \"min\": 1.0,\n        \"max\": 1.0,\n        \"num_unique_values\": 1,\n        \"samples\": [\n          1.0\n        ],\n        \"semantic_type\": \"\",\n        \"description\": \"\"\n      }\n    },\n    {\n      \"column\": \"cat__season_Summer\",\n      \"properties\": {\n        \"dtype\": \"number\",\n        \"std\": null,\n        \"min\": 0.0,\n        \"max\": 0.0,\n        \"num_unique_values\": 1,\n        \"samples\": [\n          0.0\n        ],\n        \"semantic_type\": \"\",\n        \"description\": \"\"\n      }\n    },\n    {\n      \"column\": \"cat__season_Winter\",\n      \"properties\": {\n        \"dtype\": \"number\",\n        \"std\": null,\n        \"min\": 0.0,\n        \"max\": 0.0,\n        \"num_unique_values\": 1,\n        \"samples\": [\n          0.0\n        ],\n        \"semantic_type\": \"\",\n        \"description\": \"\"\n      }\n    },\n    {\n      \"column\": \"cat__sub_primaryspaceusage_Academic\",\n      \"properties\": {\n        \"dtype\": \"number\",\n        \"std\": null,\n        \"min\": 1.0,\n        \"max\": 1.0,\n        \"num_unique_values\": 1,\n        \"samples\": [\n          1.0\n        ],\n        \"semantic_type\": \"\",\n        \"description\": \"\"\n      }\n    },\n    {\n      \"column\": \"cat__sub_primaryspaceusage_Student Center\",\n      \"properties\": {\n        \"dtype\": \"number\",\n        \"std\": null,\n        \"min\": 0.0,\n        \"max\": 0.0,\n        \"num_unique_values\": 1,\n        \"samples\": [\n          0.0\n        ],\n        \"semantic_type\": \"\",\n        \"description\": \"\"\n      }\n    },\n    {\n      \"column\": \"cat__site_id_2\",\n      \"properties\": {\n        \"dtype\": \"number\",\n        \"std\": null,\n        \"min\": 1.0,\n        \"max\": 1.0,\n        \"num_unique_values\": 1,\n        \"samples\": [\n          1.0\n        ],\n        \"semantic_type\": \"\",\n        \"description\": \"\"\n      }\n    },\n    {\n      \"column\": \"building_id\",\n      \"properties\": {\n        \"dtype\": \"number\",\n        \"std\": null,\n        \"min\": 71,\n        \"max\": 71,\n        \"num_unique_values\": 1,\n        \"samples\": [\n          71\n        ],\n        \"semantic_type\": \"\",\n        \"description\": \"\"\n      }\n    },\n    {\n      \"column\": \"date\",\n      \"properties\": {\n        \"dtype\": \"date\",\n        \"min\": \"2017-03-11 00:00:00\",\n        \"max\": \"2017-03-11 00:00:00\",\n        \"num_unique_values\": 1,\n        \"samples\": [\n          \"2017-03-11 00:00:00\"\n        ],\n        \"semantic_type\": \"\",\n        \"description\": \"\"\n      }\n    }\n  ]\n}"
            }
          },
          "metadata": {},
          "execution_count": 22
        }
      ]
    },
    {
      "cell_type": "code",
      "source": [
        "X_train_processed_df.sample()"
      ],
      "metadata": {
        "colab": {
          "base_uri": "https://localhost:8080/",
          "height": 135
        },
        "id": "oswPazgjDgMP",
        "outputId": "64891bc3-8e41-4e7e-d7ee-7f75257243fb"
      },
      "execution_count": 23,
      "outputs": [
        {
          "output_type": "execute_result",
          "data": {
            "text/plain": [
              "     num__sqm  num__sqft  num__airTemperature  num__cloudCoverage  \\\n",
              "293  0.103275   0.103276             0.610029            0.222161   \n",
              "\n",
              "     num__dewTemperature  num__precipDepth1HR  num__precipDepth6HR  \\\n",
              "293             0.668637             0.236525             0.083877   \n",
              "\n",
              "     num__seaLvlPressure  num__windDirection  num__windSpeed  \\\n",
              "293             0.504633            0.491265        0.166299   \n",
              "\n",
              "     cat__timezone_US/Mountain  cat__season_Fall  cat__season_Spring  \\\n",
              "293                        1.0               1.0                 0.0   \n",
              "\n",
              "     cat__season_Summer  cat__season_Winter  \\\n",
              "293                 0.0                 0.0   \n",
              "\n",
              "     cat__sub_primaryspaceusage_Academic  \\\n",
              "293                                  1.0   \n",
              "\n",
              "     cat__sub_primaryspaceusage_Student Center  cat__site_id_2  building_id  \\\n",
              "293                                        0.0             1.0           68   \n",
              "\n",
              "          date  \n",
              "293 2016-10-20  "
            ],
            "text/html": [
              "\n",
              "  <div id=\"df-f41e1014-27c2-481f-bf1d-eaba0e4ceea6\" class=\"colab-df-container\">\n",
              "    <div>\n",
              "<style scoped>\n",
              "    .dataframe tbody tr th:only-of-type {\n",
              "        vertical-align: middle;\n",
              "    }\n",
              "\n",
              "    .dataframe tbody tr th {\n",
              "        vertical-align: top;\n",
              "    }\n",
              "\n",
              "    .dataframe thead th {\n",
              "        text-align: right;\n",
              "    }\n",
              "</style>\n",
              "<table border=\"1\" class=\"dataframe\">\n",
              "  <thead>\n",
              "    <tr style=\"text-align: right;\">\n",
              "      <th></th>\n",
              "      <th>num__sqm</th>\n",
              "      <th>num__sqft</th>\n",
              "      <th>num__airTemperature</th>\n",
              "      <th>num__cloudCoverage</th>\n",
              "      <th>num__dewTemperature</th>\n",
              "      <th>num__precipDepth1HR</th>\n",
              "      <th>num__precipDepth6HR</th>\n",
              "      <th>num__seaLvlPressure</th>\n",
              "      <th>num__windDirection</th>\n",
              "      <th>num__windSpeed</th>\n",
              "      <th>cat__timezone_US/Mountain</th>\n",
              "      <th>cat__season_Fall</th>\n",
              "      <th>cat__season_Spring</th>\n",
              "      <th>cat__season_Summer</th>\n",
              "      <th>cat__season_Winter</th>\n",
              "      <th>cat__sub_primaryspaceusage_Academic</th>\n",
              "      <th>cat__sub_primaryspaceusage_Student Center</th>\n",
              "      <th>cat__site_id_2</th>\n",
              "      <th>building_id</th>\n",
              "      <th>date</th>\n",
              "    </tr>\n",
              "  </thead>\n",
              "  <tbody>\n",
              "    <tr>\n",
              "      <th>293</th>\n",
              "      <td>0.103275</td>\n",
              "      <td>0.103276</td>\n",
              "      <td>0.610029</td>\n",
              "      <td>0.222161</td>\n",
              "      <td>0.668637</td>\n",
              "      <td>0.236525</td>\n",
              "      <td>0.083877</td>\n",
              "      <td>0.504633</td>\n",
              "      <td>0.491265</td>\n",
              "      <td>0.166299</td>\n",
              "      <td>1.0</td>\n",
              "      <td>1.0</td>\n",
              "      <td>0.0</td>\n",
              "      <td>0.0</td>\n",
              "      <td>0.0</td>\n",
              "      <td>1.0</td>\n",
              "      <td>0.0</td>\n",
              "      <td>1.0</td>\n",
              "      <td>68</td>\n",
              "      <td>2016-10-20</td>\n",
              "    </tr>\n",
              "  </tbody>\n",
              "</table>\n",
              "</div>\n",
              "    <div class=\"colab-df-buttons\">\n",
              "\n",
              "  <div class=\"colab-df-container\">\n",
              "    <button class=\"colab-df-convert\" onclick=\"convertToInteractive('df-f41e1014-27c2-481f-bf1d-eaba0e4ceea6')\"\n",
              "            title=\"Convert this dataframe to an interactive table.\"\n",
              "            style=\"display:none;\">\n",
              "\n",
              "  <svg xmlns=\"http://www.w3.org/2000/svg\" height=\"24px\" viewBox=\"0 -960 960 960\">\n",
              "    <path d=\"M120-120v-720h720v720H120Zm60-500h600v-160H180v160Zm220 220h160v-160H400v160Zm0 220h160v-160H400v160ZM180-400h160v-160H180v160Zm440 0h160v-160H620v160ZM180-180h160v-160H180v160Zm440 0h160v-160H620v160Z\"/>\n",
              "  </svg>\n",
              "    </button>\n",
              "\n",
              "  <style>\n",
              "    .colab-df-container {\n",
              "      display:flex;\n",
              "      gap: 12px;\n",
              "    }\n",
              "\n",
              "    .colab-df-convert {\n",
              "      background-color: #E8F0FE;\n",
              "      border: none;\n",
              "      border-radius: 50%;\n",
              "      cursor: pointer;\n",
              "      display: none;\n",
              "      fill: #1967D2;\n",
              "      height: 32px;\n",
              "      padding: 0 0 0 0;\n",
              "      width: 32px;\n",
              "    }\n",
              "\n",
              "    .colab-df-convert:hover {\n",
              "      background-color: #E2EBFA;\n",
              "      box-shadow: 0px 1px 2px rgba(60, 64, 67, 0.3), 0px 1px 3px 1px rgba(60, 64, 67, 0.15);\n",
              "      fill: #174EA6;\n",
              "    }\n",
              "\n",
              "    .colab-df-buttons div {\n",
              "      margin-bottom: 4px;\n",
              "    }\n",
              "\n",
              "    [theme=dark] .colab-df-convert {\n",
              "      background-color: #3B4455;\n",
              "      fill: #D2E3FC;\n",
              "    }\n",
              "\n",
              "    [theme=dark] .colab-df-convert:hover {\n",
              "      background-color: #434B5C;\n",
              "      box-shadow: 0px 1px 3px 1px rgba(0, 0, 0, 0.15);\n",
              "      filter: drop-shadow(0px 1px 2px rgba(0, 0, 0, 0.3));\n",
              "      fill: #FFFFFF;\n",
              "    }\n",
              "  </style>\n",
              "\n",
              "    <script>\n",
              "      const buttonEl =\n",
              "        document.querySelector('#df-f41e1014-27c2-481f-bf1d-eaba0e4ceea6 button.colab-df-convert');\n",
              "      buttonEl.style.display =\n",
              "        google.colab.kernel.accessAllowed ? 'block' : 'none';\n",
              "\n",
              "      async function convertToInteractive(key) {\n",
              "        const element = document.querySelector('#df-f41e1014-27c2-481f-bf1d-eaba0e4ceea6');\n",
              "        const dataTable =\n",
              "          await google.colab.kernel.invokeFunction('convertToInteractive',\n",
              "                                                    [key], {});\n",
              "        if (!dataTable) return;\n",
              "\n",
              "        const docLinkHtml = 'Like what you see? Visit the ' +\n",
              "          '<a target=\"_blank\" href=https://colab.research.google.com/notebooks/data_table.ipynb>data table notebook</a>'\n",
              "          + ' to learn more about interactive tables.';\n",
              "        element.innerHTML = '';\n",
              "        dataTable['output_type'] = 'display_data';\n",
              "        await google.colab.output.renderOutput(dataTable, element);\n",
              "        const docLink = document.createElement('div');\n",
              "        docLink.innerHTML = docLinkHtml;\n",
              "        element.appendChild(docLink);\n",
              "      }\n",
              "    </script>\n",
              "  </div>\n",
              "\n",
              "\n",
              "    </div>\n",
              "  </div>\n"
            ],
            "application/vnd.google.colaboratory.intrinsic+json": {
              "type": "dataframe",
              "summary": "{\n  \"name\": \"X_train_processed_df\",\n  \"rows\": 1,\n  \"fields\": [\n    {\n      \"column\": \"num__sqm\",\n      \"properties\": {\n        \"dtype\": \"number\",\n        \"std\": null,\n        \"min\": 0.10327500330585782,\n        \"max\": 0.10327500330585782,\n        \"num_unique_values\": 1,\n        \"samples\": [\n          0.10327500330585782\n        ],\n        \"semantic_type\": \"\",\n        \"description\": \"\"\n      }\n    },\n    {\n      \"column\": \"num__sqft\",\n      \"properties\": {\n        \"dtype\": \"number\",\n        \"std\": null,\n        \"min\": 0.10327600327600339,\n        \"max\": 0.10327600327600339,\n        \"num_unique_values\": 1,\n        \"samples\": [\n          0.10327600327600339\n        ],\n        \"semantic_type\": \"\",\n        \"description\": \"\"\n      }\n    },\n    {\n      \"column\": \"num__airTemperature\",\n      \"properties\": {\n        \"dtype\": \"number\",\n        \"std\": null,\n        \"min\": 0.6100287010498129,\n        \"max\": 0.6100287010498129,\n        \"num_unique_values\": 1,\n        \"samples\": [\n          0.6100287010498129\n        ],\n        \"semantic_type\": \"\",\n        \"description\": \"\"\n      }\n    },\n    {\n      \"column\": \"num__cloudCoverage\",\n      \"properties\": {\n        \"dtype\": \"number\",\n        \"std\": null,\n        \"min\": 0.22216102089401535,\n        \"max\": 0.22216102089401535,\n        \"num_unique_values\": 1,\n        \"samples\": [\n          0.22216102089401535\n        ],\n        \"semantic_type\": \"\",\n        \"description\": \"\"\n      }\n    },\n    {\n      \"column\": \"num__dewTemperature\",\n      \"properties\": {\n        \"dtype\": \"number\",\n        \"std\": null,\n        \"min\": 0.6686367857727619,\n        \"max\": 0.6686367857727619,\n        \"num_unique_values\": 1,\n        \"samples\": [\n          0.6686367857727619\n        ],\n        \"semantic_type\": \"\",\n        \"description\": \"\"\n      }\n    },\n    {\n      \"column\": \"num__precipDepth1HR\",\n      \"properties\": {\n        \"dtype\": \"number\",\n        \"std\": null,\n        \"min\": 0.2365253506887477,\n        \"max\": 0.2365253506887477,\n        \"num_unique_values\": 1,\n        \"samples\": [\n          0.2365253506887477\n        ],\n        \"semantic_type\": \"\",\n        \"description\": \"\"\n      }\n    },\n    {\n      \"column\": \"num__precipDepth6HR\",\n      \"properties\": {\n        \"dtype\": \"number\",\n        \"std\": null,\n        \"min\": 0.08387743827639171,\n        \"max\": 0.08387743827639171,\n        \"num_unique_values\": 1,\n        \"samples\": [\n          0.08387743827639171\n        ],\n        \"semantic_type\": \"\",\n        \"description\": \"\"\n      }\n    },\n    {\n      \"column\": \"num__seaLvlPressure\",\n      \"properties\": {\n        \"dtype\": \"number\",\n        \"std\": null,\n        \"min\": 0.5046330286214058,\n        \"max\": 0.5046330286214058,\n        \"num_unique_values\": 1,\n        \"samples\": [\n          0.5046330286214058\n        ],\n        \"semantic_type\": \"\",\n        \"description\": \"\"\n      }\n    },\n    {\n      \"column\": \"num__windDirection\",\n      \"properties\": {\n        \"dtype\": \"number\",\n        \"std\": null,\n        \"min\": 0.4912652619962772,\n        \"max\": 0.4912652619962772,\n        \"num_unique_values\": 1,\n        \"samples\": [\n          0.4912652619962772\n        ],\n        \"semantic_type\": \"\",\n        \"description\": \"\"\n      }\n    },\n    {\n      \"column\": \"num__windSpeed\",\n      \"properties\": {\n        \"dtype\": \"number\",\n        \"std\": null,\n        \"min\": 0.16629892142428393,\n        \"max\": 0.16629892142428393,\n        \"num_unique_values\": 1,\n        \"samples\": [\n          0.16629892142428393\n        ],\n        \"semantic_type\": \"\",\n        \"description\": \"\"\n      }\n    },\n    {\n      \"column\": \"cat__timezone_US/Mountain\",\n      \"properties\": {\n        \"dtype\": \"number\",\n        \"std\": null,\n        \"min\": 1.0,\n        \"max\": 1.0,\n        \"num_unique_values\": 1,\n        \"samples\": [\n          1.0\n        ],\n        \"semantic_type\": \"\",\n        \"description\": \"\"\n      }\n    },\n    {\n      \"column\": \"cat__season_Fall\",\n      \"properties\": {\n        \"dtype\": \"number\",\n        \"std\": null,\n        \"min\": 1.0,\n        \"max\": 1.0,\n        \"num_unique_values\": 1,\n        \"samples\": [\n          1.0\n        ],\n        \"semantic_type\": \"\",\n        \"description\": \"\"\n      }\n    },\n    {\n      \"column\": \"cat__season_Spring\",\n      \"properties\": {\n        \"dtype\": \"number\",\n        \"std\": null,\n        \"min\": 0.0,\n        \"max\": 0.0,\n        \"num_unique_values\": 1,\n        \"samples\": [\n          0.0\n        ],\n        \"semantic_type\": \"\",\n        \"description\": \"\"\n      }\n    },\n    {\n      \"column\": \"cat__season_Summer\",\n      \"properties\": {\n        \"dtype\": \"number\",\n        \"std\": null,\n        \"min\": 0.0,\n        \"max\": 0.0,\n        \"num_unique_values\": 1,\n        \"samples\": [\n          0.0\n        ],\n        \"semantic_type\": \"\",\n        \"description\": \"\"\n      }\n    },\n    {\n      \"column\": \"cat__season_Winter\",\n      \"properties\": {\n        \"dtype\": \"number\",\n        \"std\": null,\n        \"min\": 0.0,\n        \"max\": 0.0,\n        \"num_unique_values\": 1,\n        \"samples\": [\n          0.0\n        ],\n        \"semantic_type\": \"\",\n        \"description\": \"\"\n      }\n    },\n    {\n      \"column\": \"cat__sub_primaryspaceusage_Academic\",\n      \"properties\": {\n        \"dtype\": \"number\",\n        \"std\": null,\n        \"min\": 1.0,\n        \"max\": 1.0,\n        \"num_unique_values\": 1,\n        \"samples\": [\n          1.0\n        ],\n        \"semantic_type\": \"\",\n        \"description\": \"\"\n      }\n    },\n    {\n      \"column\": \"cat__sub_primaryspaceusage_Student Center\",\n      \"properties\": {\n        \"dtype\": \"number\",\n        \"std\": null,\n        \"min\": 0.0,\n        \"max\": 0.0,\n        \"num_unique_values\": 1,\n        \"samples\": [\n          0.0\n        ],\n        \"semantic_type\": \"\",\n        \"description\": \"\"\n      }\n    },\n    {\n      \"column\": \"cat__site_id_2\",\n      \"properties\": {\n        \"dtype\": \"number\",\n        \"std\": null,\n        \"min\": 1.0,\n        \"max\": 1.0,\n        \"num_unique_values\": 1,\n        \"samples\": [\n          1.0\n        ],\n        \"semantic_type\": \"\",\n        \"description\": \"\"\n      }\n    },\n    {\n      \"column\": \"building_id\",\n      \"properties\": {\n        \"dtype\": \"number\",\n        \"std\": null,\n        \"min\": 68,\n        \"max\": 68,\n        \"num_unique_values\": 1,\n        \"samples\": [\n          68\n        ],\n        \"semantic_type\": \"\",\n        \"description\": \"\"\n      }\n    },\n    {\n      \"column\": \"date\",\n      \"properties\": {\n        \"dtype\": \"date\",\n        \"min\": \"2016-10-20 00:00:00\",\n        \"max\": \"2016-10-20 00:00:00\",\n        \"num_unique_values\": 1,\n        \"samples\": [\n          \"2016-10-20 00:00:00\"\n        ],\n        \"semantic_type\": \"\",\n        \"description\": \"\"\n      }\n    }\n  ]\n}"
            }
          },
          "metadata": {},
          "execution_count": 23
        }
      ]
    },
    {
      "cell_type": "code",
      "source": [
        "y_test_scaled"
      ],
      "metadata": {
        "colab": {
          "base_uri": "https://localhost:8080/"
        },
        "id": "qpy-0QYxDgjj",
        "outputId": "48bc88c2-6b72-499b-9b86-f561789cf2c9"
      },
      "execution_count": 25,
      "outputs": [
        {
          "output_type": "execute_result",
          "data": {
            "text/plain": [
              "array([0., 0., 0., ..., 0., 0., 0.])"
            ]
          },
          "metadata": {},
          "execution_count": 25
        }
      ]
    },
    {
      "cell_type": "code",
      "source": [
        "y_train_scaled"
      ],
      "metadata": {
        "colab": {
          "base_uri": "https://localhost:8080/"
        },
        "id": "unHz2URRDmo4",
        "outputId": "9e7a68a3-43ea-444e-86e8-7cd387f3cfe6"
      },
      "execution_count": 26,
      "outputs": [
        {
          "output_type": "execute_result",
          "data": {
            "text/plain": [
              "array([0.35833554, 0.30000198, 0.31666888, ..., 0.02011871, 0.01887893,\n",
              "       0.00497436])"
            ]
          },
          "metadata": {},
          "execution_count": 26
        }
      ]
    },
    {
      "cell_type": "code",
      "source": [
        "y_test"
      ],
      "metadata": {
        "colab": {
          "base_uri": "https://localhost:8080/"
        },
        "id": "jW13df2FDpQJ",
        "outputId": "992ea4df-6bfe-4cfe-9d30-3c093ec65c02"
      },
      "execution_count": 27,
      "outputs": [
        {
          "output_type": "execute_result",
          "data": {
            "text/plain": [
              "25915    6815.7426\n",
              "25916    7340.0285\n",
              "25917    1179.6513\n",
              "25918       0.0000\n",
              "25919       0.0000\n",
              "           ...    \n",
              "31020       0.0000\n",
              "31021       0.0000\n",
              "31022       0.0000\n",
              "31023       0.0000\n",
              "31024       0.0000\n",
              "Name: meter_reading, Length: 1095, dtype: float64"
            ]
          },
          "metadata": {},
          "execution_count": 27
        }
      ]
    },
    {
      "cell_type": "code",
      "source": [
        "y_train"
      ],
      "metadata": {
        "colab": {
          "base_uri": "https://localhost:8080/"
        },
        "id": "yA4m87btDqkY",
        "outputId": "78ee87d5-d6f9-48fb-b667-9ff8b128b389"
      },
      "execution_count": 28,
      "outputs": [
        {
          "output_type": "execute_result",
          "data": {
            "text/plain": [
              "25986    2818.0658\n",
              "25987    2359.3120\n",
              "25988    2490.3858\n",
              "25989    1966.1010\n",
              "25990    2621.4415\n",
              "           ...    \n",
              "31105      22.2200\n",
              "31106      86.1300\n",
              "31107     158.2200\n",
              "31108     148.4700\n",
              "31109      39.1200\n",
              "Name: meter_reading, Length: 1098, dtype: float64"
            ]
          },
          "metadata": {},
          "execution_count": 28
        }
      ]
    },
    {
      "cell_type": "code",
      "source": [
        "test_data.tail()"
      ],
      "metadata": {
        "colab": {
          "base_uri": "https://localhost:8080/",
          "height": 313
        },
        "id": "cCJEvBgFDsl-",
        "outputId": "cf8d255a-1591-4328-d0c4-8da4d86cbb85"
      },
      "execution_count": 29,
      "outputs": [
        {
          "output_type": "execute_result",
          "data": {
            "text/plain": [
              "             date  meter_reading sub_primaryspaceusage      sqm      sqft  \\\n",
              "31020  2017-12-27            0.0        Student Center  17358.0  186840.0   \n",
              "31021  2017-12-28            0.0        Student Center  17358.0  186840.0   \n",
              "31022  2017-12-29            0.0        Student Center  17358.0  186840.0   \n",
              "31023  2017-12-30            0.0        Student Center  17358.0  186840.0   \n",
              "31024  2017-12-31            0.0        Student Center  17358.0  186840.0   \n",
              "\n",
              "          timezone  airTemperature  cloudCoverage  dewTemperature  \\\n",
              "31020  US/Mountain        0.148770       1.727177       -4.908725   \n",
              "31021  US/Mountain       -0.844098       1.555937       -6.204677   \n",
              "31022  US/Mountain        0.168282       2.037777       -5.045740   \n",
              "31023  US/Mountain        1.567716       2.108643       -3.203027   \n",
              "31024  US/Mountain        0.189310       1.886480       -5.218486   \n",
              "\n",
              "       precipDepth1HR  precipDepth6HR  seaLvlPressure  windDirection  \\\n",
              "31020        0.319127       11.634468     1020.046240     217.730218   \n",
              "31021        0.334733       10.882579     1023.015464     220.044428   \n",
              "31022        0.255286       10.993293     1018.470049     203.160684   \n",
              "31023        0.233554       10.862294     1014.599862     197.386918   \n",
              "31024        0.258218       11.111977     1017.914070     216.515384   \n",
              "\n",
              "       windSpeed  season  building_id  site_id  \n",
              "31020   3.687248  Winter           72        2  \n",
              "31021   3.277060  Winter           72        2  \n",
              "31022   3.687334  Winter           72        2  \n",
              "31023   4.084761  Winter           72        2  \n",
              "31024   4.398441  Winter           72        2  "
            ],
            "text/html": [
              "\n",
              "  <div id=\"df-8ebf472c-7eb5-45f2-9da1-6a43c12defed\" class=\"colab-df-container\">\n",
              "    <div>\n",
              "<style scoped>\n",
              "    .dataframe tbody tr th:only-of-type {\n",
              "        vertical-align: middle;\n",
              "    }\n",
              "\n",
              "    .dataframe tbody tr th {\n",
              "        vertical-align: top;\n",
              "    }\n",
              "\n",
              "    .dataframe thead th {\n",
              "        text-align: right;\n",
              "    }\n",
              "</style>\n",
              "<table border=\"1\" class=\"dataframe\">\n",
              "  <thead>\n",
              "    <tr style=\"text-align: right;\">\n",
              "      <th></th>\n",
              "      <th>date</th>\n",
              "      <th>meter_reading</th>\n",
              "      <th>sub_primaryspaceusage</th>\n",
              "      <th>sqm</th>\n",
              "      <th>sqft</th>\n",
              "      <th>timezone</th>\n",
              "      <th>airTemperature</th>\n",
              "      <th>cloudCoverage</th>\n",
              "      <th>dewTemperature</th>\n",
              "      <th>precipDepth1HR</th>\n",
              "      <th>precipDepth6HR</th>\n",
              "      <th>seaLvlPressure</th>\n",
              "      <th>windDirection</th>\n",
              "      <th>windSpeed</th>\n",
              "      <th>season</th>\n",
              "      <th>building_id</th>\n",
              "      <th>site_id</th>\n",
              "    </tr>\n",
              "  </thead>\n",
              "  <tbody>\n",
              "    <tr>\n",
              "      <th>31020</th>\n",
              "      <td>2017-12-27</td>\n",
              "      <td>0.0</td>\n",
              "      <td>Student Center</td>\n",
              "      <td>17358.0</td>\n",
              "      <td>186840.0</td>\n",
              "      <td>US/Mountain</td>\n",
              "      <td>0.148770</td>\n",
              "      <td>1.727177</td>\n",
              "      <td>-4.908725</td>\n",
              "      <td>0.319127</td>\n",
              "      <td>11.634468</td>\n",
              "      <td>1020.046240</td>\n",
              "      <td>217.730218</td>\n",
              "      <td>3.687248</td>\n",
              "      <td>Winter</td>\n",
              "      <td>72</td>\n",
              "      <td>2</td>\n",
              "    </tr>\n",
              "    <tr>\n",
              "      <th>31021</th>\n",
              "      <td>2017-12-28</td>\n",
              "      <td>0.0</td>\n",
              "      <td>Student Center</td>\n",
              "      <td>17358.0</td>\n",
              "      <td>186840.0</td>\n",
              "      <td>US/Mountain</td>\n",
              "      <td>-0.844098</td>\n",
              "      <td>1.555937</td>\n",
              "      <td>-6.204677</td>\n",
              "      <td>0.334733</td>\n",
              "      <td>10.882579</td>\n",
              "      <td>1023.015464</td>\n",
              "      <td>220.044428</td>\n",
              "      <td>3.277060</td>\n",
              "      <td>Winter</td>\n",
              "      <td>72</td>\n",
              "      <td>2</td>\n",
              "    </tr>\n",
              "    <tr>\n",
              "      <th>31022</th>\n",
              "      <td>2017-12-29</td>\n",
              "      <td>0.0</td>\n",
              "      <td>Student Center</td>\n",
              "      <td>17358.0</td>\n",
              "      <td>186840.0</td>\n",
              "      <td>US/Mountain</td>\n",
              "      <td>0.168282</td>\n",
              "      <td>2.037777</td>\n",
              "      <td>-5.045740</td>\n",
              "      <td>0.255286</td>\n",
              "      <td>10.993293</td>\n",
              "      <td>1018.470049</td>\n",
              "      <td>203.160684</td>\n",
              "      <td>3.687334</td>\n",
              "      <td>Winter</td>\n",
              "      <td>72</td>\n",
              "      <td>2</td>\n",
              "    </tr>\n",
              "    <tr>\n",
              "      <th>31023</th>\n",
              "      <td>2017-12-30</td>\n",
              "      <td>0.0</td>\n",
              "      <td>Student Center</td>\n",
              "      <td>17358.0</td>\n",
              "      <td>186840.0</td>\n",
              "      <td>US/Mountain</td>\n",
              "      <td>1.567716</td>\n",
              "      <td>2.108643</td>\n",
              "      <td>-3.203027</td>\n",
              "      <td>0.233554</td>\n",
              "      <td>10.862294</td>\n",
              "      <td>1014.599862</td>\n",
              "      <td>197.386918</td>\n",
              "      <td>4.084761</td>\n",
              "      <td>Winter</td>\n",
              "      <td>72</td>\n",
              "      <td>2</td>\n",
              "    </tr>\n",
              "    <tr>\n",
              "      <th>31024</th>\n",
              "      <td>2017-12-31</td>\n",
              "      <td>0.0</td>\n",
              "      <td>Student Center</td>\n",
              "      <td>17358.0</td>\n",
              "      <td>186840.0</td>\n",
              "      <td>US/Mountain</td>\n",
              "      <td>0.189310</td>\n",
              "      <td>1.886480</td>\n",
              "      <td>-5.218486</td>\n",
              "      <td>0.258218</td>\n",
              "      <td>11.111977</td>\n",
              "      <td>1017.914070</td>\n",
              "      <td>216.515384</td>\n",
              "      <td>4.398441</td>\n",
              "      <td>Winter</td>\n",
              "      <td>72</td>\n",
              "      <td>2</td>\n",
              "    </tr>\n",
              "  </tbody>\n",
              "</table>\n",
              "</div>\n",
              "    <div class=\"colab-df-buttons\">\n",
              "\n",
              "  <div class=\"colab-df-container\">\n",
              "    <button class=\"colab-df-convert\" onclick=\"convertToInteractive('df-8ebf472c-7eb5-45f2-9da1-6a43c12defed')\"\n",
              "            title=\"Convert this dataframe to an interactive table.\"\n",
              "            style=\"display:none;\">\n",
              "\n",
              "  <svg xmlns=\"http://www.w3.org/2000/svg\" height=\"24px\" viewBox=\"0 -960 960 960\">\n",
              "    <path d=\"M120-120v-720h720v720H120Zm60-500h600v-160H180v160Zm220 220h160v-160H400v160Zm0 220h160v-160H400v160ZM180-400h160v-160H180v160Zm440 0h160v-160H620v160ZM180-180h160v-160H180v160Zm440 0h160v-160H620v160Z\"/>\n",
              "  </svg>\n",
              "    </button>\n",
              "\n",
              "  <style>\n",
              "    .colab-df-container {\n",
              "      display:flex;\n",
              "      gap: 12px;\n",
              "    }\n",
              "\n",
              "    .colab-df-convert {\n",
              "      background-color: #E8F0FE;\n",
              "      border: none;\n",
              "      border-radius: 50%;\n",
              "      cursor: pointer;\n",
              "      display: none;\n",
              "      fill: #1967D2;\n",
              "      height: 32px;\n",
              "      padding: 0 0 0 0;\n",
              "      width: 32px;\n",
              "    }\n",
              "\n",
              "    .colab-df-convert:hover {\n",
              "      background-color: #E2EBFA;\n",
              "      box-shadow: 0px 1px 2px rgba(60, 64, 67, 0.3), 0px 1px 3px 1px rgba(60, 64, 67, 0.15);\n",
              "      fill: #174EA6;\n",
              "    }\n",
              "\n",
              "    .colab-df-buttons div {\n",
              "      margin-bottom: 4px;\n",
              "    }\n",
              "\n",
              "    [theme=dark] .colab-df-convert {\n",
              "      background-color: #3B4455;\n",
              "      fill: #D2E3FC;\n",
              "    }\n",
              "\n",
              "    [theme=dark] .colab-df-convert:hover {\n",
              "      background-color: #434B5C;\n",
              "      box-shadow: 0px 1px 3px 1px rgba(0, 0, 0, 0.15);\n",
              "      filter: drop-shadow(0px 1px 2px rgba(0, 0, 0, 0.3));\n",
              "      fill: #FFFFFF;\n",
              "    }\n",
              "  </style>\n",
              "\n",
              "    <script>\n",
              "      const buttonEl =\n",
              "        document.querySelector('#df-8ebf472c-7eb5-45f2-9da1-6a43c12defed button.colab-df-convert');\n",
              "      buttonEl.style.display =\n",
              "        google.colab.kernel.accessAllowed ? 'block' : 'none';\n",
              "\n",
              "      async function convertToInteractive(key) {\n",
              "        const element = document.querySelector('#df-8ebf472c-7eb5-45f2-9da1-6a43c12defed');\n",
              "        const dataTable =\n",
              "          await google.colab.kernel.invokeFunction('convertToInteractive',\n",
              "                                                    [key], {});\n",
              "        if (!dataTable) return;\n",
              "\n",
              "        const docLinkHtml = 'Like what you see? Visit the ' +\n",
              "          '<a target=\"_blank\" href=https://colab.research.google.com/notebooks/data_table.ipynb>data table notebook</a>'\n",
              "          + ' to learn more about interactive tables.';\n",
              "        element.innerHTML = '';\n",
              "        dataTable['output_type'] = 'display_data';\n",
              "        await google.colab.output.renderOutput(dataTable, element);\n",
              "        const docLink = document.createElement('div');\n",
              "        docLink.innerHTML = docLinkHtml;\n",
              "        element.appendChild(docLink);\n",
              "      }\n",
              "    </script>\n",
              "  </div>\n",
              "\n",
              "\n",
              "<div id=\"df-37a4d201-a864-4db6-bb0f-ad67264a64c4\">\n",
              "  <button class=\"colab-df-quickchart\" onclick=\"quickchart('df-37a4d201-a864-4db6-bb0f-ad67264a64c4')\"\n",
              "            title=\"Suggest charts\"\n",
              "            style=\"display:none;\">\n",
              "\n",
              "<svg xmlns=\"http://www.w3.org/2000/svg\" height=\"24px\"viewBox=\"0 0 24 24\"\n",
              "     width=\"24px\">\n",
              "    <g>\n",
              "        <path d=\"M19 3H5c-1.1 0-2 .9-2 2v14c0 1.1.9 2 2 2h14c1.1 0 2-.9 2-2V5c0-1.1-.9-2-2-2zM9 17H7v-7h2v7zm4 0h-2V7h2v10zm4 0h-2v-4h2v4z\"/>\n",
              "    </g>\n",
              "</svg>\n",
              "  </button>\n",
              "\n",
              "<style>\n",
              "  .colab-df-quickchart {\n",
              "      --bg-color: #E8F0FE;\n",
              "      --fill-color: #1967D2;\n",
              "      --hover-bg-color: #E2EBFA;\n",
              "      --hover-fill-color: #174EA6;\n",
              "      --disabled-fill-color: #AAA;\n",
              "      --disabled-bg-color: #DDD;\n",
              "  }\n",
              "\n",
              "  [theme=dark] .colab-df-quickchart {\n",
              "      --bg-color: #3B4455;\n",
              "      --fill-color: #D2E3FC;\n",
              "      --hover-bg-color: #434B5C;\n",
              "      --hover-fill-color: #FFFFFF;\n",
              "      --disabled-bg-color: #3B4455;\n",
              "      --disabled-fill-color: #666;\n",
              "  }\n",
              "\n",
              "  .colab-df-quickchart {\n",
              "    background-color: var(--bg-color);\n",
              "    border: none;\n",
              "    border-radius: 50%;\n",
              "    cursor: pointer;\n",
              "    display: none;\n",
              "    fill: var(--fill-color);\n",
              "    height: 32px;\n",
              "    padding: 0;\n",
              "    width: 32px;\n",
              "  }\n",
              "\n",
              "  .colab-df-quickchart:hover {\n",
              "    background-color: var(--hover-bg-color);\n",
              "    box-shadow: 0 1px 2px rgba(60, 64, 67, 0.3), 0 1px 3px 1px rgba(60, 64, 67, 0.15);\n",
              "    fill: var(--button-hover-fill-color);\n",
              "  }\n",
              "\n",
              "  .colab-df-quickchart-complete:disabled,\n",
              "  .colab-df-quickchart-complete:disabled:hover {\n",
              "    background-color: var(--disabled-bg-color);\n",
              "    fill: var(--disabled-fill-color);\n",
              "    box-shadow: none;\n",
              "  }\n",
              "\n",
              "  .colab-df-spinner {\n",
              "    border: 2px solid var(--fill-color);\n",
              "    border-color: transparent;\n",
              "    border-bottom-color: var(--fill-color);\n",
              "    animation:\n",
              "      spin 1s steps(1) infinite;\n",
              "  }\n",
              "\n",
              "  @keyframes spin {\n",
              "    0% {\n",
              "      border-color: transparent;\n",
              "      border-bottom-color: var(--fill-color);\n",
              "      border-left-color: var(--fill-color);\n",
              "    }\n",
              "    20% {\n",
              "      border-color: transparent;\n",
              "      border-left-color: var(--fill-color);\n",
              "      border-top-color: var(--fill-color);\n",
              "    }\n",
              "    30% {\n",
              "      border-color: transparent;\n",
              "      border-left-color: var(--fill-color);\n",
              "      border-top-color: var(--fill-color);\n",
              "      border-right-color: var(--fill-color);\n",
              "    }\n",
              "    40% {\n",
              "      border-color: transparent;\n",
              "      border-right-color: var(--fill-color);\n",
              "      border-top-color: var(--fill-color);\n",
              "    }\n",
              "    60% {\n",
              "      border-color: transparent;\n",
              "      border-right-color: var(--fill-color);\n",
              "    }\n",
              "    80% {\n",
              "      border-color: transparent;\n",
              "      border-right-color: var(--fill-color);\n",
              "      border-bottom-color: var(--fill-color);\n",
              "    }\n",
              "    90% {\n",
              "      border-color: transparent;\n",
              "      border-bottom-color: var(--fill-color);\n",
              "    }\n",
              "  }\n",
              "</style>\n",
              "\n",
              "  <script>\n",
              "    async function quickchart(key) {\n",
              "      const quickchartButtonEl =\n",
              "        document.querySelector('#' + key + ' button');\n",
              "      quickchartButtonEl.disabled = true;  // To prevent multiple clicks.\n",
              "      quickchartButtonEl.classList.add('colab-df-spinner');\n",
              "      try {\n",
              "        const charts = await google.colab.kernel.invokeFunction(\n",
              "            'suggestCharts', [key], {});\n",
              "      } catch (error) {\n",
              "        console.error('Error during call to suggestCharts:', error);\n",
              "      }\n",
              "      quickchartButtonEl.classList.remove('colab-df-spinner');\n",
              "      quickchartButtonEl.classList.add('colab-df-quickchart-complete');\n",
              "    }\n",
              "    (() => {\n",
              "      let quickchartButtonEl =\n",
              "        document.querySelector('#df-37a4d201-a864-4db6-bb0f-ad67264a64c4 button');\n",
              "      quickchartButtonEl.style.display =\n",
              "        google.colab.kernel.accessAllowed ? 'block' : 'none';\n",
              "    })();\n",
              "  </script>\n",
              "</div>\n",
              "\n",
              "    </div>\n",
              "  </div>\n"
            ],
            "application/vnd.google.colaboratory.intrinsic+json": {
              "type": "dataframe",
              "repr_error": "'str' object has no attribute 'empty'"
            }
          },
          "metadata": {},
          "execution_count": 29
        }
      ]
    },
    {
      "cell_type": "code",
      "source": [
        "# Extract the column you want to plot\n",
        "\n",
        "\n",
        "# Plot the histogram\n",
        "plt.figure(figsize=(10, 6))  # Adjust the figure size if needed\n",
        "plt.hist(test_data, bins=30)  # Adjust the number of bins as needed\n",
        "plt.ylabel('Frequency')\n",
        "plt.grid(True)\n",
        "plt.show()"
      ],
      "metadata": {
        "colab": {
          "base_uri": "https://localhost:8080/",
          "height": 522
        },
        "id": "85eMISyPDwCJ",
        "outputId": "4265cb5b-84d4-46ee-ea60-bb61528e51ed"
      },
      "execution_count": 32,
      "outputs": [
        {
          "output_type": "display_data",
          "data": {
            "text/plain": [
              "<Figure size 1000x600 with 1 Axes>"
            ],
            "image/png": "[encoded data removed]"
          },
          "metadata": {}
        }
      ]
    },
    {
      "cell_type": "code",
      "source": [
        "train_data['date'].nunique()"
      ],
      "metadata": {
        "colab": {
          "base_uri": "https://localhost:8080/"
        },
        "id": "-7f56bLZEAKu",
        "outputId": "9b7648dc-5159-444e-fe7d-9dcf5cbc9b41"
      },
      "execution_count": 41,
      "outputs": [
        {
          "output_type": "execute_result",
          "data": {
            "text/plain": [
              "366"
            ]
          },
          "metadata": {},
          "execution_count": 41
        }
      ]
    },
    {
      "cell_type": "code",
      "source": [
        "test_data['date'].nunique()"
      ],
      "metadata": {
        "colab": {
          "base_uri": "https://localhost:8080/"
        },
        "id": "fvvdjXKnFVH7",
        "outputId": "f6437317-4190-404b-fe5b-cae7792f9747"
      },
      "execution_count": 42,
      "outputs": [
        {
          "output_type": "execute_result",
          "data": {
            "text/plain": [
              "365"
            ]
          },
          "metadata": {},
          "execution_count": 42
        }
      ]
    },
    {
      "cell_type": "code",
      "source": [
        "plt.figure(figsize=(10, 6))  # Adjust the figure size if needed\n",
        "plt.hist(test_data['meter_reading'], bins=30)  # Adjust the number of bins as needed\n",
        "plt.ylabel('Frequency')\n",
        "plt.grid(True)\n",
        "plt.show()\n"
      ],
      "metadata": {
        "colab": {
          "base_uri": "https://localhost:8080/",
          "height": 522
        },
        "id": "5wcY3hdlFf_N",
        "outputId": "f173e6e7-9aa4-49b7-dc1b-9b4ebbae15cf"
      },
      "execution_count": 44,
      "outputs": [
        {
          "output_type": "display_data",
          "data": {
            "text/plain": [
              "<Figure size 1000x600 with 1 Axes>"
            ],
            "image/png": "[encoded data removed]"
          },
          "metadata": {}
        }
      ]
    },
    {
      "cell_type": "code",
      "source": [],
      "metadata": {
        "id": "qErWnEyzFvA-"
      },
      "execution_count": null,
      "outputs": []
    }
  ],
  "metadata": {
    "kernelspec": {
      "display_name": "work_env",
      "language": "python",
      "name": "work_env"
    },
    "language_info": {
      "codemirror_mode": {
        "name": "ipython",
        "version": 3
      },
      "file_extension": ".py",
      "mimetype": "text/x-python",
      "name": "python",
      "nbconvert_exporter": "python",
      "pygments_lexer": "ipython3",
      "version": "3.11.6"
    },
    "colab": {
      "provenance": []
    }
  },
  "nbformat": 4,
  "nbformat_minor": 0
}