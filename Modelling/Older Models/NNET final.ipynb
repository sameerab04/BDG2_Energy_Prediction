{
  "cells": [
    {
      "cell_type": "code",
      "execution_count": 1,
      "id": "926ab547-6052-4da9-86b9-afee80e6cea0",
      "metadata": {
        "id": "926ab547-6052-4da9-86b9-afee80e6cea0"
      },
      "outputs": [],
      "source": [
        "# Importing the required libraries\n",
        "import pandas as pd\n",
        "import numpy as np\n",
        "from sklearn.model_selection import train_test_split\n",
        "from sklearn.preprocessing import StandardScaler, OneHotEncoder, MinMaxScaler\n",
        "from sklearn.impute import SimpleImputer\n",
        "from sklearn.compose import ColumnTransformer\n",
        "from sklearn.pipeline import Pipeline\n",
        "from sklearn.metrics import mean_squared_error,  r2_score\n",
        "from sklearn.base import BaseEstimator, TransformerMixin\n",
        "import numpy as np\n",
        "import pandas as pd\n",
        "from sklearn.preprocessing import LabelEncoder\n",
        "from tensorflow.keras.models import Sequential\n",
        "from tensorflow.keras.layers import Dense"
      ]
    },
    {
      "cell_type": "code",
      "source": [
        "# Mouting the drive\n",
        "from google.colab import drive\n",
        "drive.mount('/content/drive')"
      ],
      "metadata": {
        "colab": {
          "base_uri": "https://localhost:8080/"
        },
        "id": "8Fhe3gYScVAH",
        "outputId": "05291d36-dbab-40cf-8b08-abc47fc84a38"
      },
      "id": "8Fhe3gYScVAH",
      "execution_count": 2,
      "outputs": [
        {
          "output_type": "stream",
          "name": "stdout",
          "text": [
            "Drive already mounted at /content/drive; to attempt to forcibly remount, call drive.mount(\"/content/drive\", force_remount=True).\n"
          ]
        }
      ]
    },
    {
      "cell_type": "code",
      "execution_count": 3,
      "id": "b07f2110-9548-444e-8d6d-658ce5e322e9",
      "metadata": {
        "id": "b07f2110-9548-444e-8d6d-658ce5e322e9",
        "colab": {
          "base_uri": "https://localhost:8080/"
        },
        "outputId": "e1de875f-9c78-4641-9b04-5cfe41e0f645"
      },
      "outputs": [
        {
          "output_type": "stream",
          "name": "stdout",
          "text": [
            "            building_name        meter        date  meter_reading site_name  \\\n",
            "0  Bear_education_Alfredo  electricity  2016-01-01         2.9050      Bear   \n",
            "1  Bear_education_Alfredo  electricity  2016-01-02         2.7700      Bear   \n",
            "2  Bear_education_Alfredo  electricity  2016-01-03         2.6725      Bear   \n",
            "3  Bear_education_Alfredo  electricity  2016-01-04         4.5650      Bear   \n",
            "4  Bear_education_Alfredo  electricity  2016-01-05         4.7825      Bear   \n",
            "\n",
            "  sub_primaryspaceusage    sqm    sqft    timezone  airTemperature  \\\n",
            "0             Education  609.8  6564.0  US/Pacific        5.246861   \n",
            "1             Education  609.8  6564.0  US/Pacific        5.993973   \n",
            "2             Education  609.8  6564.0  US/Pacific        5.660314   \n",
            "3             Education  609.8  6564.0  US/Pacific        5.048507   \n",
            "4             Education  609.8  6564.0  US/Pacific        4.745567   \n",
            "\n",
            "   cloudCoverage  dewTemperature  precipDepth1HR  precipDepth6HR  \\\n",
            "0       1.927009        0.254484        0.351088       10.801125   \n",
            "1       1.997893        0.892188        0.409453       11.105558   \n",
            "2       1.946017        0.778475        0.552568       11.167389   \n",
            "3       1.987616       -0.268905        0.479493       11.089874   \n",
            "4       2.007311        0.321921        1.033857       11.723586   \n",
            "\n",
            "   seaLvlPressure  windDirection  windSpeed  season  building_id  site_id  \n",
            "0     1018.888301     172.924863   3.807399  Winter            1        1  \n",
            "1     1014.347411     181.359441   4.202455  Winter            1        1  \n",
            "2     1010.396019     208.978674   4.015919  Winter            1        1  \n",
            "3     1008.903334     211.377040   3.909701  Winter            1        1  \n",
            "4     1012.747700     170.002007   3.528571  Winter            1        1  \n",
            "            building_name        meter        date  meter_reading site_name  \\\n",
            "0  Bear_education_Alfredo  electricity  2017-01-01         2.1775      Bear   \n",
            "1  Bear_education_Alfredo  electricity  2017-01-02         2.7925      Bear   \n",
            "2  Bear_education_Alfredo  electricity  2017-01-03         7.1100      Bear   \n",
            "3  Bear_education_Alfredo  electricity  2017-01-04         6.8450      Bear   \n",
            "4  Bear_education_Alfredo  electricity  2017-01-05         3.9500      Bear   \n",
            "\n",
            "  sub_primaryspaceusage    sqm    sqft    timezone  airTemperature  \\\n",
            "0             Education  609.8  6564.0  US/Pacific        6.313140   \n",
            "1             Education  609.8  6564.0  US/Pacific        5.297363   \n",
            "2             Education  609.8  6564.0  US/Pacific        5.970330   \n",
            "3             Education  609.8  6564.0  US/Pacific        5.959649   \n",
            "4             Education  609.8  6564.0  US/Pacific        1.717660   \n",
            "\n",
            "   cloudCoverage  dewTemperature  precipDepth1HR  precipDepth6HR  \\\n",
            "0       2.126542        1.751662        0.414432       11.077130   \n",
            "1       1.923200        2.274505        0.930626       11.221247   \n",
            "2       2.180302        3.279560        2.242145       12.169223   \n",
            "3       2.309525        1.680482        1.715769       12.168157   \n",
            "4       2.071431       -3.608609        0.294415       10.758541   \n",
            "\n",
            "   seaLvlPressure  windDirection  windSpeed  season  building_id  site_id  \n",
            "0     1017.729660     167.173422   3.224944  Winter            1        1  \n",
            "1     1023.168730     128.275621   3.071918  Winter            1        1  \n",
            "2     1017.886469     178.171787   3.910330  Winter            1        1  \n",
            "3     1013.028823     243.891423   3.783333  Winter            1        1  \n",
            "4     1018.172131     207.449203   2.771794  Winter            1        1  \n"
          ]
        }
      ],
      "source": [
        "# Loading the dataset\n",
        "# Train Data\n",
        "temp_df = pd.read_csv(\"/content/drive/My Drive/Energy-Prediction-Using-BDG2-Data/data/cleaned/train.csv\", nrows=0)  # Read only the header\n",
        "total_columns = len(temp_df.columns)\n",
        "columns_to_use = temp_df.columns[1:total_columns]\n",
        "train_data = pd.read_csv(\"/content/drive/My Drive/Energy-Prediction-Using-BDG2-Data/data/cleaned/train.csv\",  usecols=columns_to_use)\n",
        "print(train_data.head(5))\n",
        "\n",
        "# Test Data\n",
        "test_data = pd.read_csv(\"/content/drive/My Drive/Energy-Prediction-Using-BDG2-Data/data/cleaned/test.csv\", usecols=columns_to_use)\n",
        "print(test_data.head())\n",
        "\n",
        "# Dropping the columns that are not relevant to our analysis\n",
        "train_data = train_data.drop(columns=['building_name', 'site_name'])\n",
        "test_data = test_data.drop(columns=['building_name', 'site_name'])\n",
        "\n",
        "train_data = train_data[(train_data['meter'] == 'electricity') | (train_data['meter'] == 'chilledwater') | (train_data['meter'] == 'steam')\n",
        "| (train_data['meter'] == 'hotwater') | (train_data['meter'] == 'gas')]\n",
        "\n",
        "test_data = test_data[(test_data['meter'] == 'electricity') | (test_data['meter'] == 'chilledwater') | (test_data['meter'] == 'steam')\n",
        "| (test_data['meter'] == 'hotwater') | (test_data['meter'] == 'gas')]\n",
        "\n",
        "# Building index on building_id for furhter assessment\n",
        "train_data.set_index('building_id', inplace=True)\n",
        "test_data.set_index('building_id', inplace=True)"
      ]
    },
    {
      "cell_type": "code",
      "source": [
        "# Filtering for electrity meter_reading\n",
        "train_data = train_data[train_data['meter'] == 'steam']\n",
        "test_data = test_data[test_data['meter'] == 'steam']\n",
        "\n",
        "train_data = train_data.drop(columns=['meter'])\n",
        "test_data = test_data.drop(columns=['meter'])"
      ],
      "metadata": {
        "id": "AoRcA2jIf4S4"
      },
      "id": "AoRcA2jIf4S4",
      "execution_count": 4,
      "outputs": []
    },
    {
      "cell_type": "code",
      "execution_count": 5,
      "id": "29a8a71e-1bf9-4aed-b66b-7ebb82124a94",
      "metadata": {
        "colab": {
          "base_uri": "https://localhost:8080/"
        },
        "id": "29a8a71e-1bf9-4aed-b66b-7ebb82124a94",
        "outputId": "5f10a0a1-a9ec-40af-c50b-38bb607b8e3c"
      },
      "outputs": [
        {
          "output_type": "stream",
          "name": "stdout",
          "text": [
            "                   date  meter_reading sub_primaryspaceusage      sqm  \\\n",
            "building_id                                                             \n",
            "186          2016-07-28      8877.6947     College Classroom  16780.6   \n",
            "158          2016-04-06      8292.9035    College Laboratory   3079.5   \n",
            "\n",
            "                 sqft    timezone  airTemperature  cloudCoverage  \\\n",
            "building_id                                                        \n",
            "186          180625.0  US/Eastern       23.670989       2.214316   \n",
            "158           33148.0  US/Eastern       10.521538       1.675878   \n",
            "\n",
            "             dewTemperature  precipDepth1HR  precipDepth6HR  seaLvlPressure  \\\n",
            "building_id                                                                   \n",
            "186               16.152527        0.667022       17.467215     1012.905035   \n",
            "158                1.119341        1.032437       12.616553     1016.230858   \n",
            "\n",
            "             windDirection  windSpeed  season  site_id  \n",
            "building_id                                             \n",
            "186             195.893723    3.03011  Summer        4  \n",
            "158             179.354221    4.94044  Spring        4  \n",
            "-------------------------------------------------------------\n",
            "                   date  meter_reading sub_primaryspaceusage      sqm  \\\n",
            "building_id                                                             \n",
            "135          2017-03-03      1248.3953     College Classroom  20904.5   \n",
            "218          2017-11-25      3044.5374              Research   2359.8   \n",
            "\n",
            "                 sqft    timezone  airTemperature  cloudCoverage  \\\n",
            "building_id                                                        \n",
            "135          225014.0  US/Central        5.491868       2.164034   \n",
            "218           25401.0  US/Eastern        9.033991       1.257000   \n",
            "\n",
            "             dewTemperature  precipDepth1HR  precipDepth6HR  seaLvlPressure  \\\n",
            "building_id                                                                   \n",
            "135               -1.776703        0.330317       12.260622     1018.787808   \n",
            "218                3.583746        0.551971       11.454681     1013.357967   \n",
            "\n",
            "             windDirection  windSpeed  season  site_id  \n",
            "building_id                                             \n",
            "135             184.172854   4.334725  Spring        3  \n",
            "218             193.815118   3.080263    Fall        6  \n"
          ]
        }
      ],
      "source": [
        "# Inspecting the data frames\n",
        "print(train_data.sample(2))\n",
        "print('-------------------------------------------------------------')\n",
        "print(test_data.sample(2))"
      ]
    },
    {
      "cell_type": "code",
      "execution_count": 6,
      "id": "47c6226d-be30-43eb-ac25-375d3505d0a6",
      "metadata": {
        "id": "47c6226d-be30-43eb-ac25-375d3505d0a6"
      },
      "outputs": [],
      "source": [
        "# Separating into X and Y dataframes\n",
        "X_train = train_data.drop(columns=['meter_reading'])  # Exclude target variable\n",
        "y_train = train_data['meter_reading']\n",
        "\n",
        "X_test = test_data.drop(columns=['meter_reading'])  # Exclude target variable\n",
        "y_test = test_data['meter_reading']"
      ]
    },
    {
      "cell_type": "code",
      "execution_count": 7,
      "id": "f2eafd74-2b4e-4cd8-85a5-74f3aee323ee",
      "metadata": {
        "id": "f2eafd74-2b4e-4cd8-85a5-74f3aee323ee"
      },
      "outputs": [],
      "source": [
        "# Convert 'site_id' from numeric to categorical\n",
        "X_train['site_id'] = X_train['site_id'].astype('category')\n",
        "X_test['site_id'] = X_test['site_id'].astype('category')"
      ]
    },
    {
      "cell_type": "code",
      "execution_count": 8,
      "id": "78a819b1-8b89-4913-866b-75025a6e4c98",
      "metadata": {
        "colab": {
          "base_uri": "https://localhost:8080/"
        },
        "id": "78a819b1-8b89-4913-866b-75025a6e4c98",
        "outputId": "b6f5df80-b007-4e7d-f2ee-d98c91414c21",
        "scrolled": true
      },
      "outputs": [
        {
          "output_type": "stream",
          "name": "stdout",
          "text": [
            "date                       object\n",
            "sub_primaryspaceusage      object\n",
            "sqm                       float64\n",
            "sqft                      float64\n",
            "timezone                   object\n",
            "airTemperature            float64\n",
            "cloudCoverage             float64\n",
            "dewTemperature            float64\n",
            "precipDepth1HR            float64\n",
            "precipDepth6HR            float64\n",
            "seaLvlPressure            float64\n",
            "windDirection             float64\n",
            "windSpeed                 float64\n",
            "season                     object\n",
            "site_id                  category\n",
            "dtype: object\n",
            "Index(['date', 'sub_primaryspaceusage', 'sqm', 'sqft', 'timezone',\n",
            "       'airTemperature', 'cloudCoverage', 'dewTemperature', 'precipDepth1HR',\n",
            "       'precipDepth6HR', 'seaLvlPressure', 'windDirection', 'windSpeed',\n",
            "       'season', 'site_id'],\n",
            "      dtype='object')\n"
          ]
        }
      ],
      "source": [
        "print(X_train.dtypes)\n",
        "print(X_train.columns)"
      ]
    },
    {
      "cell_type": "code",
      "execution_count": 9,
      "id": "b58ae7fe-13d2-4a1a-af3b-269174937c99",
      "metadata": {
        "id": "b58ae7fe-13d2-4a1a-af3b-269174937c99"
      },
      "outputs": [],
      "source": [
        "# Define features and types based on your dataset\n",
        "numerical_features = ['sqm', 'sqft', 'airTemperature', 'cloudCoverage', 'dewTemperature',\n",
        "                      'precipDepth1HR', 'precipDepth6HR', 'seaLvlPressure', 'windDirection', 'windSpeed']\n",
        "categorical_features = ['timezone', 'season', 'sub_primaryspaceusage', 'site_id']"
      ]
    },
    {
      "cell_type": "code",
      "execution_count": 10,
      "id": "5c5739e3-c3ea-47dc-981f-97e0492ab58d",
      "metadata": {
        "id": "5c5739e3-c3ea-47dc-981f-97e0492ab58d"
      },
      "outputs": [],
      "source": [
        "# Create a preprocessing pipeline\n",
        "preprocessor = ColumnTransformer(\n",
        "    transformers=[\n",
        "        ('num', MinMaxScaler(), numerical_features),\n",
        "        ('cat', OneHotEncoder(handle_unknown='ignore'), categorical_features)\n",
        "    ])"
      ]
    },
    {
      "cell_type": "code",
      "execution_count": 11,
      "id": "e0d053dc-d81e-4900-a948-5069b0448264",
      "metadata": {
        "id": "e0d053dc-d81e-4900-a948-5069b0448264"
      },
      "outputs": [],
      "source": [
        "# Create a preprocessing pipeline\n",
        "preprocessor = ColumnTransformer(\n",
        "    transformers=[\n",
        "        ('num', MinMaxScaler(), numerical_features),\n",
        "        ('cat', OneHotEncoder(handle_unknown='ignore'), categorical_features)\n",
        "    ])\n",
        "\n",
        "# Fit the preprocessor on the training data and transform both training and test data\n",
        "preprocessor.fit(X_train)\n",
        "X_train_processed = preprocessor.transform(X_train)\n",
        "X_test_processed = preprocessor.transform(X_test)"
      ]
    },
    {
      "cell_type": "code",
      "execution_count": 12,
      "id": "690e15d0-f313-44b4-a5c5-893dba33b1e5",
      "metadata": {
        "id": "690e15d0-f313-44b4-a5c5-893dba33b1e5"
      },
      "outputs": [],
      "source": [
        "# Convert the processed data back to dense DataFrames\n",
        "X_train_processed_df = pd.DataFrame(X_train_processed, columns=preprocessor.get_feature_names_out())\n",
        "X_test_processed_df = pd.DataFrame(X_test_processed, columns=preprocessor.get_feature_names_out())"
      ]
    },
    {
      "cell_type": "code",
      "execution_count": 13,
      "id": "cc586e03-be9e-49b2-969c-6e8a9779abb9",
      "metadata": {
        "colab": {
          "base_uri": "https://localhost:8080/"
        },
        "id": "cc586e03-be9e-49b2-969c-6e8a9779abb9",
        "outputId": "7e1aabac-b339-4e6a-fb9d-388b020b9e72"
      },
      "outputs": [
        {
          "output_type": "execute_result",
          "data": {
            "text/plain": [
              "Index(['num__sqm', 'num__sqft', 'num__airTemperature', 'num__cloudCoverage',\n",
              "       'num__dewTemperature', 'num__precipDepth1HR', 'num__precipDepth6HR',\n",
              "       'num__seaLvlPressure', 'num__windDirection', 'num__windSpeed',\n",
              "       'cat__timezone_US/Central', 'cat__timezone_US/Eastern',\n",
              "       'cat__season_Fall', 'cat__season_Spring', 'cat__season_Summer',\n",
              "       'cat__season_Winter', 'cat__sub_primaryspaceusage_Auditorium',\n",
              "       'cat__sub_primaryspaceusage_Classroom',\n",
              "       'cat__sub_primaryspaceusage_College Classroom',\n",
              "       'cat__sub_primaryspaceusage_College Laboratory',\n",
              "       'cat__sub_primaryspaceusage_Research',\n",
              "       'cat__sub_primaryspaceusage_Student Union', 'cat__site_id_3',\n",
              "       'cat__site_id_4', 'cat__site_id_6', 'cat__site_id_8', 'cat__site_id_10',\n",
              "       'cat__site_id_12'],\n",
              "      dtype='object')"
            ]
          },
          "metadata": {},
          "execution_count": 13
        }
      ],
      "source": [
        "# Checking the columns\n",
        "X_train_processed_df.columns"
      ]
    },
    {
      "cell_type": "code",
      "execution_count": 14,
      "id": "87f5a2f9-ac3f-48b0-a39d-9c0e12c1dc7e",
      "metadata": {
        "id": "87f5a2f9-ac3f-48b0-a39d-9c0e12c1dc7e"
      },
      "outputs": [],
      "source": [
        "y_train_scaled = np.log1p(y_train.values.reshape(-1, 1))\n",
        "y_test_scaled = np.log1p(y_test.values.reshape(-1, 1))"
      ]
    },
    {
      "cell_type": "markdown",
      "id": "c4767549-1ebf-4c31-932a-ab5bdbfdcef0",
      "metadata": {
        "id": "c4767549-1ebf-4c31-932a-ab5bdbfdcef0"
      },
      "source": [
        "### Neural Networks"
      ]
    },
    {
      "cell_type": "code",
      "execution_count": 15,
      "id": "b4a7606f-2b26-4d29-98cb-1ae7c9079bf6",
      "metadata": {
        "id": "b4a7606f-2b26-4d29-98cb-1ae7c9079bf6"
      },
      "outputs": [],
      "source": [
        "# Define the neural network model\n",
        "model = Sequential()\n",
        "model.add(Dense(64, input_dim=X_train_processed_df.shape[1], activation='relu')) # Adjust input_dim based on your features\n",
        "model.add(Dense(32, activation='relu'))\n",
        "model.add(Dense(1, activation='linear'))  # Output layer, adjust units and activation based on your output\n",
        "\n",
        "# Compile the model\n",
        "model.compile(loss='mean_squared_error', optimizer='adam')"
      ]
    },
    {
      "cell_type": "code",
      "execution_count": 16,
      "id": "976e600f-2ffd-42e2-882f-ffd0b9acc3d7",
      "metadata": {
        "colab": {
          "base_uri": "https://localhost:8080/"
        },
        "id": "976e600f-2ffd-42e2-882f-ffd0b9acc3d7",
        "outputId": "87a53a6f-92b1-4e99-d98b-ed1fbeb24a8a"
      },
      "outputs": [
        {
          "output_type": "stream",
          "name": "stdout",
          "text": [
            "Epoch 1/10\n",
            "5381/5381 [==============================] - 11s 2ms/step - loss: 8.5920\n",
            "Epoch 2/10\n",
            "5381/5381 [==============================] - 9s 2ms/step - loss: 7.5115\n",
            "Epoch 3/10\n",
            "5381/5381 [==============================] - 10s 2ms/step - loss: 7.1748\n",
            "Epoch 4/10\n",
            "5381/5381 [==============================] - 11s 2ms/step - loss: 6.9742\n",
            "Epoch 5/10\n",
            "5381/5381 [==============================] - 11s 2ms/step - loss: 6.8136\n",
            "Epoch 6/10\n",
            "5381/5381 [==============================] - 9s 2ms/step - loss: 6.6513\n",
            "Epoch 7/10\n",
            "5381/5381 [==============================] - 11s 2ms/step - loss: 6.4497\n",
            "Epoch 8/10\n",
            "5381/5381 [==============================] - 10s 2ms/step - loss: 6.2565\n",
            "Epoch 9/10\n",
            "5381/5381 [==============================] - 10s 2ms/step - loss: 6.0669\n",
            "Epoch 10/10\n",
            "5381/5381 [==============================] - 10s 2ms/step - loss: 5.8779\n",
            "1682/1682 [==============================] - 3s 1ms/step\n"
          ]
        }
      ],
      "source": [
        "# Fit the model to the training data\n",
        "model.fit(X_train_processed, y_train_scaled, epochs=10, batch_size=10, verbose=1)\n",
        "\n",
        "# Predict the values for X_train\n",
        "y_pred = model.predict(X_train_processed_df)"
      ]
    },
    {
      "cell_type": "code",
      "execution_count": 19,
      "id": "64dfe73b-87fb-4aa4-8ec4-e4f1eae73f1e",
      "metadata": {
        "colab": {
          "base_uri": "https://localhost:8080/"
        },
        "id": "64dfe73b-87fb-4aa4-8ec4-e4f1eae73f1e",
        "outputId": "9e6a144e-64a8-40e1-b0f2-c38526960f9e"
      },
      "outputs": [
        {
          "output_type": "stream",
          "name": "stdout",
          "text": [
            "Mean Squared Error: 5.619180881178215\n",
            "R-squared Score: 0.5146740526085418\n"
          ]
        }
      ],
      "source": [
        "# Assuming y_train_scaled and y_pred are both numpy arrays\n",
        "#mae = mean_absolute_error(y_train_scaled, y_pred)\n",
        "mse = mean_squared_error(y_train_scaled, y_pred)\n",
        "r2 = r2_score(y_train_scaled, y_pred)\n",
        "\n",
        "#print('Mean Absolute Error:', mae)\n",
        "print('Mean Squared Error:', mse)\n",
        "print('R-squared Score:', r2)\n"
      ]
    },
    {
      "cell_type": "code",
      "execution_count": 22,
      "id": "b14d4bbe-2b16-4426-acc8-a073dca0bee2",
      "metadata": {
        "colab": {
          "base_uri": "https://localhost:8080/"
        },
        "id": "b14d4bbe-2b16-4426-acc8-a073dca0bee2",
        "outputId": "76f63494-d47c-4533-b26f-68280ce3f38a"
      },
      "outputs": [
        {
          "output_type": "stream",
          "name": "stdout",
          "text": [
            "1677/1677 [==============================] - 3s 2ms/step\n",
            "Mean Squared Error: 7.309620919672645\n",
            "R-squared Score: 0.2696935771070813\n"
          ]
        }
      ],
      "source": [
        "# Predict the values for X_test\n",
        "y_pred = model.predict(X_test_processed_df)\n",
        "y_pred = np.nan_to_num(y_pred, nan=0)\n",
        "mse = mean_squared_error(y_test_scaled, y_pred)\n",
        "r2 = r2_score(y_test_scaled, y_pred)\n",
        "print('Mean Squared Error:', mse)\n",
        "print('R-squared Score:', r2)"
      ]
    },
    {
      "cell_type": "code",
      "execution_count": 27,
      "id": "2931ff89-171d-4d32-a3f9-2a8ac01edbff",
      "metadata": {
        "colab": {
          "base_uri": "https://localhost:8080/"
        },
        "id": "2931ff89-171d-4d32-a3f9-2a8ac01edbff",
        "outputId": "cdd9be60-4c2d-42ed-f44b-920412c9be6b"
      },
      "outputs": [
        {
          "output_type": "stream",
          "name": "stdout",
          "text": [
            "Reloading Tuner from my_dir/quick_tune/tuner0.json\n",
            "Epoch 1/10\n",
            "190/190 [==============================] - 5s 11ms/step - loss: 28.7756 - mae: 4.4985 - mse: 28.7756 - val_loss: 17.8409 - val_mae: 3.7231 - val_mse: 17.8409\n",
            "Epoch 2/10\n",
            "190/190 [==============================] - 2s 10ms/step - loss: 8.8954 - mae: 2.2443 - mse: 8.8954 - val_loss: 17.2207 - val_mae: 3.6281 - val_mse: 17.2207\n",
            "Epoch 3/10\n",
            "190/190 [==============================] - 2s 11ms/step - loss: 8.2636 - mae: 2.1298 - mse: 8.2636 - val_loss: 17.0714 - val_mae: 3.5963 - val_mse: 17.0714\n",
            "Epoch 4/10\n",
            "190/190 [==============================] - 3s 13ms/step - loss: 8.0075 - mae: 2.0889 - mse: 8.0075 - val_loss: 16.9305 - val_mae: 3.6085 - val_mse: 16.9305\n",
            "Epoch 5/10\n",
            "190/190 [==============================] - 3s 14ms/step - loss: 7.7791 - mae: 2.0516 - mse: 7.7791 - val_loss: 17.0200 - val_mae: 3.6074 - val_mse: 17.0200\n",
            "Epoch 6/10\n",
            "190/190 [==============================] - 2s 9ms/step - loss: 7.5820 - mae: 2.0116 - mse: 7.5820 - val_loss: 16.9679 - val_mae: 3.5830 - val_mse: 16.9679\n",
            "Epoch 7/10\n",
            "190/190 [==============================] - 2s 9ms/step - loss: 7.4337 - mae: 1.9805 - mse: 7.4337 - val_loss: 17.1718 - val_mae: 3.5781 - val_mse: 17.1718\n",
            "Epoch 8/10\n",
            "190/190 [==============================] - 2s 8ms/step - loss: 7.3221 - mae: 1.9558 - mse: 7.3221 - val_loss: 17.5647 - val_mae: 3.5863 - val_mse: 17.5647\n",
            "Epoch 9/10\n",
            "190/190 [==============================] - 1s 5ms/step - loss: 7.2381 - mae: 1.9366 - mse: 7.2381 - val_loss: 17.7397 - val_mae: 3.5803 - val_mse: 17.7397\n",
            "Epoch 10/10\n",
            "190/190 [==============================] - 1s 5ms/step - loss: 7.1825 - mae: 1.9252 - mse: 7.1825 - val_loss: 18.1341 - val_mae: 3.6092 - val_mse: 18.1341\n"
          ]
        }
      ],
      "source": [
        "import kerastuner as kt\n",
        "from tensorflow import keras\n",
        "from tensorflow.keras import layers\n",
        "\n",
        "def build_model(hp):\n",
        "    model = keras.Sequential()\n",
        "    model.add(layers.Dense(\n",
        "        units=hp.Int('input_units', min_value=32, max_value=256, step=64),  # Reduced max value and increased step\n",
        "        activation='relu',\n",
        "        input_shape=(X_train_processed.shape[1],)\n",
        "    ))\n",
        "\n",
        "    # Reduced the maximum number of layers\n",
        "    for i in range(hp.Int('n_layers', 1, 3)):\n",
        "        model.add(layers.Dense(\n",
        "            units=hp.Int(f'layer_{i}_units', min_value=32, max_value=256, step=64),  # Simplify layers\n",
        "            activation='relu'\n",
        "        ))\n",
        "\n",
        "    model.add(layers.Dense(1))  # Assuming a single output; adjust based on your problem\n",
        "\n",
        "    model.compile(\n",
        "        optimizer=keras.optimizers.Adam(hp.Choice('learning_rate', values=[1e-3, 1e-4])),  # Simplified choices\n",
        "        loss='mse',  # Assuming regression; change if necessary\n",
        "        metrics=['mae', 'mse']  # Assuming regression; change if necessary\n",
        "    )\n",
        "\n",
        "    return model\n",
        "\n",
        "tuner = kt.RandomSearch(\n",
        "    build_model,\n",
        "    objective='val_mse',  # Assuming regression; change if necessary\n",
        "    max_trials=10,  # Reduced number of trials for faster execution\n",
        "    executions_per_trial=2,  # Reduced for quicker assessments\n",
        "    directory='my_dir',\n",
        "    project_name='quick_tune'\n",
        ")\n",
        "\n",
        "# Note: Adjust validation_split based on your dataset size\n",
        "tuner.search(\n",
        "    X_train_processed_df, y_train_scaled,\n",
        "    epochs=5,  # Reduced number of epochs for tuning\n",
        "    validation_split=0.1,  # Adjust based on your dataset\n",
        "    batch_size=256  # Increased batch size for faster processing\n",
        ")\n",
        "\n",
        "# Get the optimal hyperparameters\n",
        "best_hps = tuner.get_best_hyperparameters(num_trials=1)[0]\n",
        "\n",
        "# Build the model with the best hyperparameters and train it on the data\n",
        "model = tuner.hypermodel.build(best_hps)\n",
        "history = model.fit(\n",
        "    X_train_processed_df, y_train_scaled,\n",
        "    epochs=10,  # You can increase this for the final model training\n",
        "    validation_split=0.1,  # Keep consistent with tuning phase or adjust as necessary\n",
        "    batch_size=256  # Set a fixed batch size\n",
        ")"
      ]
    },
    {
      "cell_type": "code",
      "source": [
        "# Check and replace NaN values in the test features (if X_test_processed_df is a DataFrame)\n",
        "if X_test_processed_df.isna().any().any():  # This checks the whole DataFrame\n",
        "    X_test_processed_df = X_test_processed_df.fillna(0)  # Replace NaN with 0 or use another appropriate method\n",
        "\n",
        "# Check and replace NaN values in the test labels (if y_test_scaled is a NumPy array)\n",
        "if np.isnan(y_test_scaled).any():  # This checks the NumPy array\n",
        "    y_test_scaled = np.nan_to_num(y_test_scaled)  # Replace NaN with 0 (default)"
      ],
      "metadata": {
        "id": "9g9iyZJWsDBg"
      },
      "id": "9g9iyZJWsDBg",
      "execution_count": null,
      "outputs": []
    },
    {
      "cell_type": "code",
      "execution_count": 32,
      "id": "986074e5-7c8e-44d5-b79b-ddc10c7aeaea",
      "metadata": {
        "colab": {
          "base_uri": "https://localhost:8080/"
        },
        "id": "986074e5-7c8e-44d5-b79b-ddc10c7aeaea",
        "outputId": "3566bf01-3dee-472e-92fb-47a099c7b338"
      },
      "outputs": [
        {
          "output_type": "stream",
          "name": "stdout",
          "text": [
            "210/210 [==============================] - 1s 4ms/step - loss: 7.6370 - mae: 2.0457 - mse: 7.6370\n",
            "Test Loss: 7.636962890625, Test MAE: 2.045722484588623, Test MSE: 7.636962890625\n"
          ]
        }
      ],
      "source": [
        "# Assuming your test set is named X_test_processed_df and y_test_scaled\n",
        "test_loss, test_mae, test_mse = model.evaluate(X_test_processed_df, y_test_scaled, batch_size=256)\n",
        "print(f'Test Loss: {test_loss}, Test MAE: {test_mae}, Test MSE: {test_mse}')"
      ]
    },
    {
      "cell_type": "code",
      "execution_count": 34,
      "id": "b2c47c37-ea06-42e3-abfc-4c2c4ab5b88d",
      "metadata": {
        "colab": {
          "base_uri": "https://localhost:8080/"
        },
        "id": "b2c47c37-ea06-42e3-abfc-4c2c4ab5b88d",
        "outputId": "89c237cd-0e5d-4f4d-be23-49b58196926f"
      },
      "outputs": [
        {
          "output_type": "stream",
          "name": "stdout",
          "text": [
            "210/210 [==============================] - 1s 2ms/step\n",
            "R-squared Score: 0.23698891832818003\n"
          ]
        }
      ],
      "source": [
        "y_pred = model.predict(X_test_processed_df, batch_size=256)\n",
        "\n",
        "# Calculate R-squared score\n",
        "r_squared = r2_score(y_test_scaled, y_pred)\n",
        "print(f'R-squared Score: {r_squared}')"
      ]
    },
    {
      "cell_type": "code",
      "execution_count": null,
      "id": "e494f96b-79a6-49e9-835c-385618ef96b2",
      "metadata": {
        "id": "e494f96b-79a6-49e9-835c-385618ef96b2"
      },
      "outputs": [],
      "source": []
    }
  ],
  "metadata": {
    "colab": {
      "provenance": []
    },
    "kernelspec": {
      "display_name": "Python 3 (ipykernel)",
      "language": "python",
      "name": "python3"
    },
    "language_info": {
      "codemirror_mode": {
        "name": "ipython",
        "version": 3
      },
      "file_extension": ".py",
      "mimetype": "text/x-python",
      "name": "python",
      "nbconvert_exporter": "python",
      "pygments_lexer": "ipython3",
      "version": "3.11.8"
    }
  },
  "nbformat": 4,
  "nbformat_minor": 5
}