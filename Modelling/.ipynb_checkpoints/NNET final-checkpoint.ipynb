{
 "cells": [
  {
   "cell_type": "code",
   "execution_count": 16,
   "id": "926ab547-6052-4da9-86b9-afee80e6cea0",
   "metadata": {
    "id": "926ab547-6052-4da9-86b9-afee80e6cea0"
   },
   "outputs": [],
   "source": [
    "# Importing the required libraries\n",
    "import pandas as pd\n",
    "import numpy as np\n",
    "from sklearn.model_selection import train_test_split\n",
    "from sklearn.preprocessing import StandardScaler, OneHotEncoder, MinMaxScaler\n",
    "from sklearn.impute import SimpleImputer\n",
    "from sklearn.compose import ColumnTransformer\n",
    "from sklearn.pipeline import Pipeline\n",
    "from sklearn.metrics import mean_squared_error,  r2_score\n",
    "from sklearn.base import BaseEstimator, TransformerMixin\n",
    "import numpy as np\n",
    "import pandas as pd\n",
    "from sklearn.preprocessing import LabelEncoder\n",
    "from tensorflow.keras.models import Sequential\n",
    "from tensorflow.keras.layers import Dense"
   ]
  },
  {
   "cell_type": "code",
   "execution_count": 2,
   "id": "b07f2110-9548-444e-8d6d-658ce5e322e9",
   "metadata": {
    "id": "b07f2110-9548-444e-8d6d-658ce5e322e9"
   },
   "outputs": [],
   "source": [
    "# Load datasets\n",
    "\n",
    "# Train Data\n",
    "temp_df = pd.read_csv(\"../../data/cleaned/train.csv\", nrows=0)  # Read only the header\n",
    "total_columns = len(temp_df.columns)\n",
    "columns_to_use = temp_df.columns[1:total_columns]\n",
    "train_data = pd.read_csv(\"../../data/cleaned/train.csv\", usecols=columns_to_use)\n",
    "\n",
    "# Test Data\n",
    "test_data = pd.read_csv(\"../../data/cleaned/test.csv\", usecols=columns_to_use)\n",
    "\n",
    "# Dropping the columns that are not relevant to our analysis\n",
    "# train_data = train_data.drop(columns=['building_name', 'site_name','date'])\n",
    "# test_data = test_data.drop(columns=['building_name', 'site_name','date'])\n",
    "\n",
    "\n",
    "\n",
    "train_data = train_data[(train_data['meter'] == 'electricity') | (train_data['meter'] == 'chilledwater') | (train_data['meter'] == 'steam')\n",
    "| (train_data['meter'] == 'hotwater') | (train_data['meter'] == 'gas')]\n",
    "\n",
    "test_data = test_data[(test_data['meter'] == 'electricity') | (test_data['meter'] == 'chilledwater') | (test_data['meter'] == 'steam')\n",
    "| (test_data['meter'] == 'hotwater') | (test_data['meter'] == 'gas')]\n",
    "\n",
    "\n",
    "# Building index on building_id for furhter assessment\n",
    "train_data.set_index('building_id', inplace=True)\n",
    "test_data.set_index('building_id', inplace=True)"
   ]
  },
  {
   "cell_type": "code",
   "execution_count": 3,
   "id": "29a8a71e-1bf9-4aed-b66b-7ebb82124a94",
   "metadata": {
    "colab": {
     "base_uri": "https://localhost:8080/"
    },
    "id": "29a8a71e-1bf9-4aed-b66b-7ebb82124a94",
    "outputId": "91ce0ee4-5060-47e7-d0a5-42183024d923"
   },
   "outputs": [
    {
     "name": "stdout",
     "output_type": "stream",
     "text": [
      "                     building_name        meter        date  meter_reading  \\\n",
      "building_id                                                                  \n",
      "313            Hog_education_Sonia        steam  2016-11-16     55207.3826   \n",
      "53           Bear_education_Pattie  electricity  2016-03-21      3084.5000   \n",
      "\n",
      "            site_name sub_primaryspaceusage      sqm      sqft    timezone  \\\n",
      "building_id                                                                  \n",
      "313               Hog    College Laboratory  17103.3  184098.0  US/Central   \n",
      "53               Bear             Education   8032.9   86465.0  US/Pacific   \n",
      "\n",
      "             airTemperature  cloudCoverage  dewTemperature  precipDepth1HR  \\\n",
      "building_id                                                                  \n",
      "313               12.008991       1.487829         5.98461        0.448363   \n",
      "53                 8.442544       2.023483        -0.94057        0.445467   \n",
      "\n",
      "             precipDepth6HR  seaLvlPressure  windDirection  windSpeed  season  \\\n",
      "building_id                                                                     \n",
      "313               11.296646     1012.619151     231.119643   3.905044    Fall   \n",
      "53                12.071454     1017.584203     242.844949   3.696509  Spring   \n",
      "\n",
      "             site_id  \n",
      "building_id           \n",
      "313                8  \n",
      "53                 1  \n",
      "-------------------------------------------------------------\n",
      "                    building_name        meter        date  meter_reading  \\\n",
      "building_id                                                                 \n",
      "258           Fox_education_Lilly     hotwater  2017-05-20    511908.1710   \n",
      "22           Bear_education_Derek  electricity  2017-01-20      4561.3176   \n",
      "\n",
      "            site_name sub_primaryspaceusage      sqm      sqft     timezone  \\\n",
      "building_id                                                                   \n",
      "258               Fox    College Laboratory  12236.3  131710.0  US/Mountain   \n",
      "22               Bear             Education   6331.0   68146.0   US/Pacific   \n",
      "\n",
      "             airTemperature  cloudCoverage  dewTemperature  precipDepth1HR  \\\n",
      "building_id                                                                  \n",
      "258               16.701096       2.000438        8.926754        1.533186   \n",
      "22                 6.751974       1.900159        3.746491        1.903048   \n",
      "\n",
      "             precipDepth6HR  seaLvlPressure  windDirection  windSpeed  season  \\\n",
      "building_id                                                                     \n",
      "258               13.552373     1018.209368     154.532064   3.720833  Spring   \n",
      "22                12.002908     1014.226538     118.129922   2.886842  Winter   \n",
      "\n",
      "             site_id  \n",
      "building_id           \n",
      "258                7  \n",
      "22                 1  \n"
     ]
    }
   ],
   "source": [
    "# Inspecting the data frames\n",
    "print(train_data.sample(2))\n",
    "print('-------------------------------------------------------------')\n",
    "print(test_data.sample(2))"
   ]
  },
  {
   "cell_type": "code",
   "execution_count": 4,
   "id": "47c6226d-be30-43eb-ac25-375d3505d0a6",
   "metadata": {
    "id": "47c6226d-be30-43eb-ac25-375d3505d0a6"
   },
   "outputs": [],
   "source": [
    "# Separating into X and Y dataframes\n",
    "X_train = train_data.drop(columns=['meter_reading'])  # Exclude target variable\n",
    "y_train = train_data['meter_reading']\n",
    "\n",
    "X_test = test_data.drop(columns=['meter_reading'])  # Exclude target variable\n",
    "y_test = test_data['meter_reading']"
   ]
  },
  {
   "cell_type": "code",
   "execution_count": 5,
   "id": "f2eafd74-2b4e-4cd8-85a5-74f3aee323ee",
   "metadata": {
    "id": "f2eafd74-2b4e-4cd8-85a5-74f3aee323ee"
   },
   "outputs": [],
   "source": [
    "# Convert 'site_id' from numeric to categorical\n",
    "X_train['site_id'] = X_train['site_id'].astype('category')\n",
    "X_test['site_id'] = X_test['site_id'].astype('category')"
   ]
  },
  {
   "cell_type": "code",
   "execution_count": 6,
   "id": "78a819b1-8b89-4913-866b-75025a6e4c98",
   "metadata": {
    "colab": {
     "base_uri": "https://localhost:8080/"
    },
    "id": "78a819b1-8b89-4913-866b-75025a6e4c98",
    "outputId": "a43ae84b-1709-4070-b4be-928bff8b7d2f",
    "scrolled": true
   },
   "outputs": [
    {
     "name": "stdout",
     "output_type": "stream",
     "text": [
      "building_name              object\n",
      "meter                      object\n",
      "date                       object\n",
      "site_name                  object\n",
      "sub_primaryspaceusage      object\n",
      "sqm                       float64\n",
      "sqft                      float64\n",
      "timezone                   object\n",
      "airTemperature            float64\n",
      "cloudCoverage             float64\n",
      "dewTemperature            float64\n",
      "precipDepth1HR            float64\n",
      "precipDepth6HR            float64\n",
      "seaLvlPressure            float64\n",
      "windDirection             float64\n",
      "windSpeed                 float64\n",
      "season                     object\n",
      "site_id                  category\n",
      "dtype: object\n",
      "Index(['building_name', 'meter', 'date', 'site_name', 'sub_primaryspaceusage',\n",
      "       'sqm', 'sqft', 'timezone', 'airTemperature', 'cloudCoverage',\n",
      "       'dewTemperature', 'precipDepth1HR', 'precipDepth6HR', 'seaLvlPressure',\n",
      "       'windDirection', 'windSpeed', 'season', 'site_id'],\n",
      "      dtype='object')\n"
     ]
    }
   ],
   "source": [
    "print(X_train.dtypes)\n",
    "print(X_train.columns)"
   ]
  },
  {
   "cell_type": "code",
   "execution_count": 7,
   "id": "b58ae7fe-13d2-4a1a-af3b-269174937c99",
   "metadata": {
    "id": "b58ae7fe-13d2-4a1a-af3b-269174937c99"
   },
   "outputs": [],
   "source": [
    "# Define features and types based on your dataset\n",
    "numerical_features = ['sqm', 'sqft', 'airTemperature', 'cloudCoverage', 'dewTemperature',\n",
    "                      'precipDepth1HR', 'precipDepth6HR', 'seaLvlPressure', 'windDirection', 'windSpeed']\n",
    "categorical_features = ['timezone', 'season', 'sub_primaryspaceusage', 'site_id']"
   ]
  },
  {
   "cell_type": "code",
   "execution_count": 8,
   "id": "5c5739e3-c3ea-47dc-981f-97e0492ab58d",
   "metadata": {
    "id": "5c5739e3-c3ea-47dc-981f-97e0492ab58d"
   },
   "outputs": [],
   "source": [
    "# Create a preprocessing pipeline\n",
    "preprocessor = ColumnTransformer(\n",
    "    transformers=[\n",
    "        ('num', MinMaxScaler(), numerical_features),\n",
    "        ('cat', OneHotEncoder(handle_unknown='ignore'), categorical_features)\n",
    "    ])"
   ]
  },
  {
   "cell_type": "code",
   "execution_count": 9,
   "id": "e0d053dc-d81e-4900-a948-5069b0448264",
   "metadata": {
    "id": "e0d053dc-d81e-4900-a948-5069b0448264"
   },
   "outputs": [],
   "source": [
    "# Create a preprocessing pipeline\n",
    "preprocessor = ColumnTransformer(\n",
    "    transformers=[\n",
    "        ('num', MinMaxScaler(), numerical_features),\n",
    "        ('cat', OneHotEncoder(handle_unknown='ignore'), categorical_features)\n",
    "    ])\n",
    "\n",
    "# Fit the preprocessor on the training data and transform both training and test data\n",
    "preprocessor.fit(X_train)\n",
    "X_train_processed = preprocessor.transform(X_train)\n",
    "X_test_processed = preprocessor.transform(X_test)"
   ]
  },
  {
   "cell_type": "code",
   "execution_count": 10,
   "id": "690e15d0-f313-44b4-a5c5-893dba33b1e5",
   "metadata": {
    "id": "690e15d0-f313-44b4-a5c5-893dba33b1e5"
   },
   "outputs": [],
   "source": [
    "# Convert the processed data back to dense DataFrames\n",
    "X_train_processed_df = pd.DataFrame(X_train_processed.toarray(), columns=preprocessor.get_feature_names_out())\n",
    "X_test_processed_df = pd.DataFrame(X_test_processed.toarray(), columns=preprocessor.get_feature_names_out())"
   ]
  },
  {
   "cell_type": "code",
   "execution_count": 11,
   "id": "cc586e03-be9e-49b2-969c-6e8a9779abb9",
   "metadata": {
    "colab": {
     "base_uri": "https://localhost:8080/"
    },
    "id": "cc586e03-be9e-49b2-969c-6e8a9779abb9",
    "outputId": "c89aa0f9-8206-43c9-b197-7e1de28d0f3c"
   },
   "outputs": [
    {
     "data": {
      "text/plain": [
       "Index(['num__sqm', 'num__sqft', 'num__airTemperature', 'num__cloudCoverage',\n",
       "       'num__dewTemperature', 'num__precipDepth1HR', 'num__precipDepth6HR',\n",
       "       'num__seaLvlPressure', 'num__windDirection', 'num__windSpeed',\n",
       "       'cat__timezone_Europe/Dublin', 'cat__timezone_Europe/London',\n",
       "       'cat__timezone_US/Central', 'cat__timezone_US/Eastern',\n",
       "       'cat__timezone_US/Mountain', 'cat__timezone_US/Pacific',\n",
       "       'cat__season_Fall', 'cat__season_Spring', 'cat__season_Summer',\n",
       "       'cat__season_Winter', 'cat__sub_primaryspaceusage_Academic',\n",
       "       'cat__sub_primaryspaceusage_Auditorium',\n",
       "       'cat__sub_primaryspaceusage_Classroom',\n",
       "       'cat__sub_primaryspaceusage_College Classroom',\n",
       "       'cat__sub_primaryspaceusage_College Laboratory',\n",
       "       'cat__sub_primaryspaceusage_Education',\n",
       "       'cat__sub_primaryspaceusage_K-12 School',\n",
       "       'cat__sub_primaryspaceusage_Other - Education',\n",
       "       'cat__sub_primaryspaceusage_Primary/Secondary Classroom',\n",
       "       'cat__sub_primaryspaceusage_Research',\n",
       "       'cat__sub_primaryspaceusage_School',\n",
       "       'cat__sub_primaryspaceusage_Student Center',\n",
       "       'cat__sub_primaryspaceusage_Student Union', 'cat__site_id_1',\n",
       "       'cat__site_id_2', 'cat__site_id_3', 'cat__site_id_4', 'cat__site_id_5',\n",
       "       'cat__site_id_6', 'cat__site_id_7', 'cat__site_id_8', 'cat__site_id_9',\n",
       "       'cat__site_id_10', 'cat__site_id_11', 'cat__site_id_12',\n",
       "       'cat__site_id_13', 'cat__site_id_14', 'cat__site_id_15'],\n",
       "      dtype='object')"
      ]
     },
     "execution_count": 11,
     "metadata": {},
     "output_type": "execute_result"
    }
   ],
   "source": [
    "# Checking the columns\n",
    "X_train_processed_df.columns"
   ]
  },
  {
   "cell_type": "code",
   "execution_count": 12,
   "id": "87f5a2f9-ac3f-48b0-a39d-9c0e12c1dc7e",
   "metadata": {
    "id": "87f5a2f9-ac3f-48b0-a39d-9c0e12c1dc7e"
   },
   "outputs": [],
   "source": [
    "y_train_scaled = np.log1p(y_train.values.reshape(-1, 1))\n",
    "y_test_scaled = np.log1p(y_test.values.reshape(-1, 1))"
   ]
  },
  {
   "cell_type": "markdown",
   "id": "c4767549-1ebf-4c31-932a-ab5bdbfdcef0",
   "metadata": {},
   "source": [
    "### Neural Networks"
   ]
  },
  {
   "cell_type": "code",
   "execution_count": 18,
   "id": "b4a7606f-2b26-4d29-98cb-1ae7c9079bf6",
   "metadata": {},
   "outputs": [
    {
     "name": "stderr",
     "output_type": "stream",
     "text": [
      "2024-03-06 19:03:43.273043: I metal_plugin/src/device/metal_device.cc:1154] Metal device set to: Apple M2\n",
      "2024-03-06 19:03:43.273093: I metal_plugin/src/device/metal_device.cc:296] systemMemory: 8.00 GB\n",
      "2024-03-06 19:03:43.273104: I metal_plugin/src/device/metal_device.cc:313] maxCacheSize: 2.67 GB\n",
      "2024-03-06 19:03:43.273485: I tensorflow/core/common_runtime/pluggable_device/pluggable_device_factory.cc:306] Could not identify NUMA node of platform GPU ID 0, defaulting to 0. Your kernel may not have been built with NUMA support.\n",
      "2024-03-06 19:03:43.273911: I tensorflow/core/common_runtime/pluggable_device/pluggable_device_factory.cc:272] Created TensorFlow device (/job:localhost/replica:0/task:0/device:GPU:0 with 0 MB memory) -> physical PluggableDevice (device: 0, name: METAL, pci bus id: <undefined>)\n"
     ]
    }
   ],
   "source": [
    "# Define the neural network model\n",
    "model = Sequential()\n",
    "model.add(Dense(64, input_dim=X_train.shape[1], activation='relu')) # Adjust input_dim based on your features\n",
    "model.add(Dense(32, activation='relu'))\n",
    "model.add(Dense(1, activation='linear'))  # Output layer, adjust units and activation based on your output\n",
    "\n",
    "# Compile the model\n",
    "model.compile(loss='mean_squared_error', optimizer='adam')"
   ]
  },
  {
   "cell_type": "code",
   "execution_count": null,
   "id": "976e600f-2ffd-42e2-882f-ffd0b9acc3d7",
   "metadata": {},
   "outputs": [],
   "source": [
    "# Fit the model to the training data\n",
    "model.fit(X_train, y_train, epochs=100, batch_size=10, verbose=1)\n",
    "\n",
    "# Predict the values for X_train\n",
    "y_pred = model.predict(X_train)"
   ]
  },
  {
   "cell_type": "code",
   "execution_count": null,
   "id": "64dfe73b-87fb-4aa4-8ec4-e4f1eae73f1e",
   "metadata": {},
   "outputs": [],
   "source": [
    "\n"
   ]
  },
  {
   "cell_type": "code",
   "execution_count": null,
   "id": "b14d4bbe-2b16-4426-acc8-a073dca0bee2",
   "metadata": {},
   "outputs": [],
   "source": []
  },
  {
   "cell_type": "code",
   "execution_count": null,
   "id": "2931ff89-171d-4d32-a3f9-2a8ac01edbff",
   "metadata": {},
   "outputs": [],
   "source": []
  },
  {
   "cell_type": "code",
   "execution_count": null,
   "id": "986074e5-7c8e-44d5-b79b-ddc10c7aeaea",
   "metadata": {},
   "outputs": [],
   "source": []
  },
  {
   "cell_type": "code",
   "execution_count": null,
   "id": "a307d282-00ad-46de-8089-65ac6611181b",
   "metadata": {},
   "outputs": [],
   "source": []
  },
  {
   "cell_type": "code",
   "execution_count": null,
   "id": "dd775187-b271-4eac-9d2c-c33fc24e7864",
   "metadata": {},
   "outputs": [],
   "source": []
  },
  {
   "cell_type": "code",
   "execution_count": null,
   "id": "b2c47c37-ea06-42e3-abfc-4c2c4ab5b88d",
   "metadata": {},
   "outputs": [],
   "source": []
  },
  {
   "cell_type": "code",
   "execution_count": null,
   "id": "e494f96b-79a6-49e9-835c-385618ef96b2",
   "metadata": {},
   "outputs": [],
   "source": []
  },
  {
   "cell_type": "markdown",
   "id": "265ea3b7-826f-48c6-8fd4-e55f47b18759",
   "metadata": {
    "id": "265ea3b7-826f-48c6-8fd4-e55f47b18759"
   },
   "source": [
    "## LightGBM"
   ]
  },
  {
   "cell_type": "markdown",
   "id": "9662aace-7c36-4967-b8aa-d7d7ca1bdd88",
   "metadata": {
    "id": "9662aace-7c36-4967-b8aa-d7d7ca1bdd88"
   },
   "source": [
    "### Light GBM for all meter values with hyperparameter tuning"
   ]
  },
  {
   "cell_type": "code",
   "execution_count": null,
   "id": "yhJI97hxwH_t",
   "metadata": {
    "colab": {
     "base_uri": "https://localhost:8080/"
    },
    "id": "yhJI97hxwH_t",
    "outputId": "76181c8e-82ec-4b74-bd5e-6436cdb48a8d"
   },
   "outputs": [],
   "source": [
    "from lightgbm import LGBMRegressor\n",
    "from sklearn.model_selection import GridSearchCV\n",
    "\n",
    "# Define the parameter grid for hyperparameter tuning\n",
    "param_grid = {\n",
    "    'num_leaves': [20, 31, 40, 50],\n",
    "    'learning_rate': [0.01, 0.05, 0.1],\n",
    "    'feature_fraction': [0.8, 0.9],\n",
    "}\n",
    "\n",
    "\n",
    "unique_meters = train_data['meter'].unique()\n",
    "results = []\n",
    "\n",
    "for meter_value in unique_meters:\n",
    "    print(f\"Processing meter value: {meter_value}\")\n",
    "\n",
    "    # Splitting data for the specific meter value\n",
    "    X = train_data[train_data['meter'] == meter_value].drop(columns=['meter_reading', 'meter'])\n",
    "    y = train_data[train_data['meter'] == meter_value]['meter_reading']\n",
    "\n",
    "    # Convert 'site_id' from numeric to categorical\n",
    "    X['site_id'] = X['site_id'].astype('category')\n",
    "\n",
    "    # Splitting data into training and testing sets\n",
    "    X_train, X_test, y_train, y_test = train_test_split(X, y, test_size=0.2, random_state=42)\n",
    "\n",
    "    # Define and apply preprocessing pipeline\n",
    "    preprocessor = ColumnTransformer(transformers=[\n",
    "        ('num', MinMaxScaler(), numerical_features),\n",
    "        ('cat', OneHotEncoder(handle_unknown='ignore'), categorical_features)\n",
    "    ])\n",
    "\n",
    "    X_train_processed = preprocessor.fit_transform(X_train)\n",
    "    X_test_processed = preprocessor.transform(X_test)\n",
    "\n",
    "    # Scale the target variable\n",
    "    y_scaler = MinMaxScaler()\n",
    "    y_train_scaled = y_scaler.fit_transform(np.array(y_train).reshape(-1, 1))\n",
    "    y_test_scaled = y_scaler.transform(np.array(y_test).reshape(-1, 1))\n",
    "\n",
    "    # Preparing dataset for LightGBM\n",
    "    model = LGBMRegressor(boosting_type='gbdt', force_col_wise=True)\n",
    "\n",
    "    # Set up GridSearchCV\n",
    "    grid = GridSearchCV(estimator=model, param_grid=param_grid, scoring='neg_mean_squared_error', cv=3)\n",
    "\n",
    "    # Fit the grid search to the data\n",
    "    grid.fit(X_train_processed, y_train_scaled.flatten())\n",
    "\n",
    "    # Get the best parameters\n",
    "    best_params = grid.best_params_\n",
    "\n",
    "    # Train a final model with the best parameters\n",
    "    final_model = LGBMRegressor(boosting_type='rf', force_col_wise=True, **best_params)\n",
    "    final_model.fit(X_train_processed, y_train_scaled.flatten())\n",
    "\n",
    "    # Model prediction and evaluation\n",
    "    y_pred_scaled = final_model.predict(X_test_processed)\n",
    "    rsquared = r2_score(y_test_scaled, y_pred_scaled)\n",
    "\n",
    "\n",
    "    results.append({\n",
    "        'meter_value': meter_value,\n",
    "        'best_params': best_params,\n",
    "        'r-squared': rsquared\n",
    "    })\n",
    "\n",
    "# Convert results to a DataFrame and print\n",
    "results_df = pd.DataFrame(results)\n",
    "print(results_df)"
   ]
  },
  {
   "cell_type": "code",
   "execution_count": null,
   "id": "kuufP4GZURKi",
   "metadata": {
    "colab": {
     "base_uri": "https://localhost:8080/"
    },
    "id": "kuufP4GZURKi",
    "outputId": "f61c4cdc-09e0-4ff5-b720-16788b813cc8"
   },
   "outputs": [],
   "source": [
    "import ast\n",
    "\n",
    "results_df['best_params'] = results_df['best_params'].apply(lambda x: ast.literal_eval(x) if isinstance(x, str) else x)\n",
    "\n",
    "# Convert the DataFrame to a dictionary where keys are meter values and values are the best parameter sets\n",
    "best_params_dict = pd.Series(results_df.best_params.values, index=results_df.meter_value).to_dict()\n",
    "\n",
    "results = []\n",
    "for meter_value in unique_meters:\n",
    "    print(f\"Fitting model for meter type: {meter_value}\")\n",
    "\n",
    "    # Filtering and preprocessing the training data\n",
    "    X_train = train_data[train_data['meter'] == meter_value].drop(columns=['meter_reading', 'meter'])\n",
    "    y_train = train_data[train_data['meter'] == meter_value]['meter_reading']\n",
    "    X_train['site_id'] = X_train['site_id'].astype('category')  # Convert 'site_id' to categorical\n",
    "\n",
    "    # Apply the same preprocessing as before\n",
    "    X_train_processed = preprocessor.fit_transform(X_train)\n",
    "    y_train_scaled = y_scaler.fit_transform(np.array(y_train).reshape(-1, 1))\n",
    "\n",
    "    # Filtering and preprocessing the test data\n",
    "    X_test = test_data[test_data['meter'] == meter_value]\n",
    "    X_test['site_id'] = X_test['site_id'].astype('category')  # Convert 'site_id' to categorical\n",
    "    X_test_processed = preprocessor.transform(X_test)\n",
    "\n",
    "    # Define and train the final model using the best parameters found for this meter type\n",
    "    best_params = best_params_dict[meter_value]  # Retrieve best parameters for the current meter type\n",
    "    final_model = LGBMRegressor(boosting_type='rf', force_col_wise=True, **best_params)\n",
    "    final_model.fit(X_train_processed, y_train_scaled.flatten())\n",
    "\n",
    "    # Predict on the test dataset\n",
    "    y_pred_scaled = final_model.predict(X_test_processed)\n",
    "    y_pred = y_scaler.inverse_transform(y_pred_scaled.reshape(-1, 1))  # Convert predictions back to original scale\n",
    "\n",
    "    results.append({\n",
    "        'meter_value': meter_value,\n",
    "        'predictions': y_pred.flatten()\n",
    "    })\n"
   ]
  },
  {
   "cell_type": "code",
   "execution_count": null,
   "id": "98z9JG0vUrkI",
   "metadata": {
    "colab": {
     "base_uri": "https://localhost:8080/"
    },
    "id": "98z9JG0vUrkI",
    "outputId": "25ee822a-bba7-49f4-b9a8-00a6728e76a6"
   },
   "outputs": [],
   "source": [
    "from sklearn.metrics import mean_squared_error, r2_score\n",
    "\n",
    "# Ensure results is a list containing dictionaries with 'meter_value' and 'predictions'\n",
    "updated_results = []  # This will store the extended results including the new metrics\n",
    "\n",
    "for result in results:\n",
    "    meter_value = result['meter_value']\n",
    "    predictions = result['predictions']\n",
    "\n",
    "    # Extract the actual values from the test data\n",
    "    y_true = test_data[test_data['meter'] == meter_value]['meter_reading'].values  # Ensure this column name matches your actual data\n",
    "\n",
    "    # Check if y_true and predictions have the same length\n",
    "    if len(predictions) != len(y_true):\n",
    "        print(f\"Error: Mismatched number of predictions and true values for meter {meter_value}\")\n",
    "        continue  # Skip to the next loop iteration\n",
    "\n",
    "    # Calculate metrics\n",
    "    mse = mean_squared_error(y_true, predictions)\n",
    "    r_squared = r2_score(y_true, predictions)\n",
    "    negative_mse = -mse\n",
    "\n",
    "    # Update the results with the new metrics\n",
    "    updated_results.append({\n",
    "        'meter_value': meter_value,\n",
    "        'mse': mse,\n",
    "        'r_squared': r_squared,\n",
    "        'negative_mse': negative_mse\n",
    "    })\n",
    "\n",
    "# Convert updated results to a DataFrame and print\n",
    "updated_results_df = pd.DataFrame(updated_results)\n",
    "print(updated_results_df)\n"
   ]
  },
  {
   "cell_type": "code",
   "execution_count": 14,
   "id": "2486d24f-941a-43a0-a94e-329e787a895d",
   "metadata": {},
   "outputs": [
    {
     "data": {
      "text/plain": [
       "Index(['num__sqm', 'num__sqft', 'num__airTemperature', 'num__cloudCoverage',\n",
       "       'num__dewTemperature', 'num__precipDepth1HR', 'num__precipDepth6HR',\n",
       "       'num__seaLvlPressure', 'num__windDirection', 'num__windSpeed',\n",
       "       'cat__timezone_Europe/Dublin', 'cat__timezone_Europe/London',\n",
       "       'cat__timezone_US/Central', 'cat__timezone_US/Eastern',\n",
       "       'cat__timezone_US/Mountain', 'cat__timezone_US/Pacific',\n",
       "       'cat__season_Fall', 'cat__season_Spring', 'cat__season_Summer',\n",
       "       'cat__season_Winter', 'cat__sub_primaryspaceusage_Academic',\n",
       "       'cat__sub_primaryspaceusage_Auditorium',\n",
       "       'cat__sub_primaryspaceusage_Classroom',\n",
       "       'cat__sub_primaryspaceusage_College Classroom',\n",
       "       'cat__sub_primaryspaceusage_College Laboratory',\n",
       "       'cat__sub_primaryspaceusage_Education',\n",
       "       'cat__sub_primaryspaceusage_K-12 School',\n",
       "       'cat__sub_primaryspaceusage_Other - Education',\n",
       "       'cat__sub_primaryspaceusage_Primary/Secondary Classroom',\n",
       "       'cat__sub_primaryspaceusage_Research',\n",
       "       'cat__sub_primaryspaceusage_School',\n",
       "       'cat__sub_primaryspaceusage_Student Center',\n",
       "       'cat__sub_primaryspaceusage_Student Union', 'cat__site_id_1',\n",
       "       'cat__site_id_2', 'cat__site_id_3', 'cat__site_id_4', 'cat__site_id_5',\n",
       "       'cat__site_id_6', 'cat__site_id_7', 'cat__site_id_8', 'cat__site_id_9',\n",
       "       'cat__site_id_10', 'cat__site_id_11', 'cat__site_id_12',\n",
       "       'cat__site_id_13', 'cat__site_id_14', 'cat__site_id_15'],\n",
       "      dtype='object')"
      ]
     },
     "execution_count": 14,
     "metadata": {},
     "output_type": "execute_result"
    }
   ],
   "source": [
    "X_train_processed_df.columns"
   ]
  },
  {
   "cell_type": "code",
   "execution_count": 15,
   "id": "cd649a95-f1e9-4639-bef3-bc669b0450c0",
   "metadata": {},
   "outputs": [
    {
     "data": {
      "text/plain": [
       "array([[1.36225778],\n",
       "       [1.327075  ],\n",
       "       [1.30087263],\n",
       "       ...,\n",
       "       [7.26893232],\n",
       "       [7.18440168],\n",
       "       [6.90135987]])"
      ]
     },
     "execution_count": 15,
     "metadata": {},
     "output_type": "execute_result"
    }
   ],
   "source": [
    "y_train_scaled"
   ]
  },
  {
   "cell_type": "code",
   "execution_count": null,
   "id": "9180eafc-3ff5-4742-b075-b610e4ef2a8e",
   "metadata": {},
   "outputs": [],
   "source": []
  },
  {
   "cell_type": "code",
   "execution_count": null,
   "id": "3f98bf7e-5e1f-42fa-bc3e-63e99c59d6fb",
   "metadata": {},
   "outputs": [],
   "source": []
  }
 ],
 "metadata": {
  "colab": {
   "provenance": []
  },
  "kernelspec": {
   "display_name": "Python 3 (ipykernel)",
   "language": "python",
   "name": "python3"
  },
  "language_info": {
   "codemirror_mode": {
    "name": "ipython",
    "version": 3
   },
   "file_extension": ".py",
   "mimetype": "text/x-python",
   "name": "python",
   "nbconvert_exporter": "python",
   "pygments_lexer": "ipython3",
   "version": "3.11.8"
  }
 },
 "nbformat": 4,
 "nbformat_minor": 5
}
