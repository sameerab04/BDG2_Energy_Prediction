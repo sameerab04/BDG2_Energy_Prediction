{
 "cells": [
  {
   "cell_type": "code",
   "execution_count": 1,
   "id": "926ab547-6052-4da9-86b9-afee80e6cea0",
   "metadata": {},
   "outputs": [],
   "source": [
    "# Importing the required libraries \n",
    "import pandas as pd\n",
    "import numpy as np\n",
    "from sklearn.model_selection import train_test_split\n",
    "from sklearn.preprocessing import StandardScaler, OneHotEncoder, MinMaxScaler\n",
    "from sklearn.impute import SimpleImputer\n",
    "from sklearn.compose import ColumnTransformer\n",
    "from sklearn.pipeline import Pipeline\n",
    "from sklearn.metrics import mean_squared_error,  r2_score\n",
    "from sklearn.base import BaseEstimator, TransformerMixin\n",
    "import numpy as np\n",
    "import pandas as pd\n",
    "from sklearn.preprocessing import LabelEncoder\n",
    "import lightgbm as lgb"
   ]
  },
  {
   "cell_type": "code",
   "execution_count": 2,
   "id": "b07f2110-9548-444e-8d6d-658ce5e322e9",
   "metadata": {},
   "outputs": [],
   "source": [
    "# Load datasets\n",
    "\n",
    "# Train Data \n",
    "temp_df = pd.read_csv(\"../../data/cleaned/train.csv\", nrows=0)  # Read only the header\n",
    "total_columns = len(temp_df.columns)\n",
    "columns_to_use = temp_df.columns[1:total_columns] \n",
    "train_data = pd.read_csv(\"../../data/cleaned/train.csv\", usecols=columns_to_use)\n",
    "\n",
    "# Test Data \n",
    "test_data = pd.read_csv(\"../../data/cleaned/test.csv\", usecols=columns_to_use)\n",
    "\n",
    "# Dropping the columns that are not relevant to our analysis \n",
    "train_data = train_data.drop(columns=['building_name', 'site_name','date'])\n",
    "test_data = test_data.drop(columns=['building_name', 'site_name','date'])\n",
    "\n",
    "# Building index on building_id for furhter assessment \n",
    "train_data.set_index('building_id', inplace=True)\n",
    "test_data.set_index('building_id', inplace=True)"
   ]
  },
  {
   "cell_type": "code",
   "execution_count": 3,
   "id": "67ee79ef-e6fb-45e0-bc70-09a5d0c52c7e",
   "metadata": {},
   "outputs": [],
   "source": [
    "# Filtering for solar meter_reading\n",
    "train_data = train_data[train_data['meter'] == 'solar']\n",
    "test_data = test_data[test_data['meter'] == 'solar']\n",
    "\n",
    "train_data = train_data.drop(columns=['meter'])\n",
    "test_data = test_data.drop(columns=['meter'])"
   ]
  },
  {
   "cell_type": "code",
   "execution_count": 4,
   "id": "29a8a71e-1bf9-4aed-b66b-7ebb82124a94",
   "metadata": {},
   "outputs": [
    {
     "name": "stdout",
     "output_type": "stream",
     "text": [
      "             meter_reading sub_primaryspaceusage      sqm      sqft  \\\n",
      "building_id                                                           \n",
      "71                    8.42              Academic  10551.9  113580.0   \n",
      "71                  103.03              Academic  10551.9  113580.0   \n",
      "\n",
      "                timezone  airTemperature  cloudCoverage  dewTemperature  \\\n",
      "building_id                                                               \n",
      "71           US/Mountain        5.466886       2.170902        1.214254   \n",
      "71           US/Mountain       15.610307       2.110612        8.263158   \n",
      "\n",
      "             precipDepth1HR  precipDepth6HR  seaLvlPressure  windDirection  \\\n",
      "building_id                                                                  \n",
      "71                 1.619233       11.996276     1024.178292     197.804775   \n",
      "71                 1.006206       12.470690     1015.009984     155.936066   \n",
      "\n",
      "             windSpeed  season  site_id  \n",
      "building_id                              \n",
      "71            3.289743  Winter        2  \n",
      "71            4.238158  Spring        2  \n",
      "-------------------------------------------------------------\n",
      "             meter_reading sub_primaryspaceusage      sqm      sqft  \\\n",
      "building_id                                                           \n",
      "71                  0.0000              Academic  10551.9  113580.0   \n",
      "71                 67.9999              Academic  10551.9  113580.0   \n",
      "\n",
      "                timezone  airTemperature  cloudCoverage  dewTemperature  \\\n",
      "building_id                                                               \n",
      "71           US/Mountain        4.745638       2.053876       -2.193736   \n",
      "71           US/Mountain        6.755831       2.296504        2.112655   \n",
      "\n",
      "             precipDepth1HR  precipDepth6HR  seaLvlPressure  windDirection  \\\n",
      "building_id                                                                  \n",
      "71                 0.279531       10.891002     1015.447819     194.376452   \n",
      "71                 0.352633       11.522170     1020.566810     140.615660   \n",
      "\n",
      "             windSpeed  season  site_id  \n",
      "building_id                              \n",
      "71            4.238581  Winter        2  \n",
      "71            2.411414  Winter        2  \n"
     ]
    }
   ],
   "source": [
    "# Inspecting the data frames\n",
    "print(train_data.sample(2))\n",
    "print('-------------------------------------------------------------')\n",
    "print(test_data.sample(2))"
   ]
  },
  {
   "cell_type": "code",
   "execution_count": 5,
   "id": "47c6226d-be30-43eb-ac25-375d3505d0a6",
   "metadata": {},
   "outputs": [],
   "source": [
    "# Separating into X and Y dataframes \n",
    "X_train = train_data.drop(columns=['meter_reading'])  # Exclude target variable\n",
    "y_train = train_data['meter_reading']\n",
    "\n",
    "X_test = test_data.drop(columns=['meter_reading'])  # Exclude target variable\n",
    "y_test = test_data['meter_reading']"
   ]
  },
  {
   "cell_type": "code",
   "execution_count": 6,
   "id": "f2eafd74-2b4e-4cd8-85a5-74f3aee323ee",
   "metadata": {},
   "outputs": [],
   "source": [
    "# Convert 'site_id' from numeric to categorical \n",
    "X_train['site_id'] = X_train['site_id'].astype('category')\n",
    "X_test['site_id'] = X_test['site_id'].astype('category')"
   ]
  },
  {
   "cell_type": "code",
   "execution_count": 7,
   "id": "78a819b1-8b89-4913-866b-75025a6e4c98",
   "metadata": {},
   "outputs": [
    {
     "name": "stdout",
     "output_type": "stream",
     "text": [
      "sub_primaryspaceusage      object\n",
      "sqm                       float64\n",
      "sqft                      float64\n",
      "timezone                   object\n",
      "airTemperature            float64\n",
      "cloudCoverage             float64\n",
      "dewTemperature            float64\n",
      "precipDepth1HR            float64\n",
      "precipDepth6HR            float64\n",
      "seaLvlPressure            float64\n",
      "windDirection             float64\n",
      "windSpeed                 float64\n",
      "season                     object\n",
      "site_id                  category\n",
      "dtype: object\n",
      "Index(['sub_primaryspaceusage', 'sqm', 'sqft', 'timezone', 'airTemperature',\n",
      "       'cloudCoverage', 'dewTemperature', 'precipDepth1HR', 'precipDepth6HR',\n",
      "       'seaLvlPressure', 'windDirection', 'windSpeed', 'season', 'site_id'],\n",
      "      dtype='object')\n"
     ]
    }
   ],
   "source": [
    "print(X_train.dtypes)\n",
    "print(X_train.columns)"
   ]
  },
  {
   "cell_type": "code",
   "execution_count": 8,
   "id": "b58ae7fe-13d2-4a1a-af3b-269174937c99",
   "metadata": {},
   "outputs": [],
   "source": [
    "# Define features and types based on your dataset\n",
    "numerical_features = ['sqm', 'sqft', 'airTemperature', 'cloudCoverage', 'dewTemperature',\n",
    "                      'precipDepth1HR', 'precipDepth6HR', 'seaLvlPressure', 'windDirection', 'windSpeed']\n",
    "categorical_features = ['timezone', 'season', 'sub_primaryspaceusage', 'site_id']"
   ]
  },
  {
   "cell_type": "code",
   "execution_count": 9,
   "id": "e0d053dc-d81e-4900-a948-5069b0448264",
   "metadata": {},
   "outputs": [],
   "source": [
    "# Create a preprocessing pipeline\n",
    "preprocessor = ColumnTransformer(\n",
    "    transformers=[\n",
    "        ('num', MinMaxScaler(), numerical_features),\n",
    "        ('cat', OneHotEncoder(handle_unknown='ignore'), categorical_features)\n",
    "    ])\n",
    "\n",
    "# Fit the preprocessor on the training data and transform both training and test data\n",
    "preprocessor.fit(X_train)\n",
    "X_train_processed = preprocessor.transform(X_train)\n",
    "X_test_processed = preprocessor.transform(X_test)"
   ]
  },
  {
   "cell_type": "code",
   "execution_count": 10,
   "id": "690e15d0-f313-44b4-a5c5-893dba33b1e5",
   "metadata": {},
   "outputs": [],
   "source": [
    "# Convert the processed data back to dense DataFrames\n",
    "X_train_processed_df = pd.DataFrame(X_train_processed, columns=preprocessor.get_feature_names_out())\n",
    "X_test_processed_df = pd.DataFrame(X_test_processed, columns=preprocessor.get_feature_names_out())"
   ]
  },
  {
   "cell_type": "code",
   "execution_count": 11,
   "id": "cc586e03-be9e-49b2-969c-6e8a9779abb9",
   "metadata": {},
   "outputs": [
    {
     "data": {
      "text/plain": [
       "Index(['num__sqm', 'num__sqft', 'num__airTemperature', 'num__cloudCoverage',\n",
       "       'num__dewTemperature', 'num__precipDepth1HR', 'num__precipDepth6HR',\n",
       "       'num__seaLvlPressure', 'num__windDirection', 'num__windSpeed',\n",
       "       'cat__timezone_US/Mountain', 'cat__season_Fall', 'cat__season_Spring',\n",
       "       'cat__season_Summer', 'cat__season_Winter',\n",
       "       'cat__sub_primaryspaceusage_Academic',\n",
       "       'cat__sub_primaryspaceusage_Student Center', 'cat__site_id_2'],\n",
       "      dtype='object')"
      ]
     },
     "execution_count": 11,
     "metadata": {},
     "output_type": "execute_result"
    }
   ],
   "source": [
    "# Checking the columns \n",
    "X_train_processed_df.columns"
   ]
  },
  {
   "cell_type": "code",
   "execution_count": 12,
   "id": "87f5a2f9-ac3f-48b0-a39d-9c0e12c1dc7e",
   "metadata": {},
   "outputs": [],
   "source": [
    "# Assume y_train and y_test are Pandas Series with 'meter_reading' for training and testing datasets\n",
    "scaler = MinMaxScaler()\n",
    "\n",
    "# Fit scaler on the training set\n",
    "y_train_scaled = scaler.fit_transform(y_train.values.reshape(-1, 1))\n",
    "\n",
    "# Only transform the test set, do not fit the scaler to it to avoid data leakage\n",
    "y_test_scaled = scaler.transform(y_test.values.reshape(-1, 1))"
   ]
  },
  {
   "cell_type": "markdown",
   "id": "265ea3b7-826f-48c6-8fd4-e55f47b18759",
   "metadata": {},
   "source": [
    "## LightGBM"
   ]
  },
  {
   "cell_type": "code",
   "execution_count": 14,
   "id": "7f86fc67-a941-4238-8028-2c18ee881beb",
   "metadata": {},
   "outputs": [],
   "source": [
    "# Prepare the dataset for LightGBM\n",
    "lgb_train = lgb.Dataset(X_train_processed, label=y_train_scaled)\n",
    "lgb_eval = lgb.Dataset(X_test_processed, label=y_test_scaled, reference=lgb_train)"
   ]
  },
  {
   "cell_type": "code",
   "execution_count": 15,
   "id": "4474b708-fa94-4c82-b911-23a45a080e28",
   "metadata": {},
   "outputs": [],
   "source": [
    "# Specify your model parameters here\n",
    "params = {\n",
    "    'objective': 'regression',\n",
    "    'metric': 'rmse',\n",
    "    'boosting_type': 'rf',\n",
    "    'num_leaves': 31,\n",
    "    'learning_rate': 0.05,\n",
    "    'feature_fraction': 0.9,\n",
    "    'force_col_wise' : True\n",
    "}"
   ]
  },
  {
   "cell_type": "code",
   "execution_count": 16,
   "id": "ac76f1ee-1e64-4acb-b0c0-56877c5cb8ee",
   "metadata": {},
   "outputs": [
    {
     "name": "stdout",
     "output_type": "stream",
     "text": [
      "[LightGBM] [Info] Total Bins 2058\n",
      "[LightGBM] [Info] Number of data points in the train set: 1098, number of used features: 16\n",
      "[LightGBM] [Info] Start training from score 0.070944\n"
     ]
    },
    {
     "name": "stderr",
     "output_type": "stream",
     "text": [
      "/Users/mahimiteshshah/anaconda3/lib/python3.11/site-packages/lightgbm/basic.py:335: UserWarning: Converting column-vector to 1d array\n",
      "  _log_warning('Converting column-vector to 1d array')\n"
     ]
    }
   ],
   "source": [
    "# Train the model\n",
    "gbm = lgb.train(\n",
    "    params,  # Your defined parameters\n",
    "    lgb_train,  # Training dataset\n",
    "    num_boost_round=10,  # Number of boosting rounds\n",
    "    valid_sets=[lgb_eval],  # Validation dataset for early stopping\n",
    ")"
   ]
  },
  {
   "cell_type": "code",
   "execution_count": 18,
   "id": "33db807a-fcab-4a0a-9f65-36355020a273",
   "metadata": {},
   "outputs": [
    {
     "name": "stdout",
     "output_type": "stream",
     "text": [
      "Negative Mean Squared Error: -0.029281184887184574\n"
     ]
    }
   ],
   "source": [
    "# Continue with prediction using the best iteration\n",
    "y_pred = gbm.predict(X_test_processed, num_iteration=gbm.best_iteration)\n",
    "\n",
    "# Calculate Mean Squared Error (MSE)\n",
    "mse = mean_squared_error(y_test_scaled, y_pred)\n",
    "\n",
    "# Calculate Negative Mean Squared Error\n",
    "negative_mse = -mse\n",
    "\n",
    "print(f'Negative Mean Squared Error: {negative_mse}')"
   ]
  }
 ],
 "metadata": {
  "kernelspec": {
   "display_name": "Python 3 (ipykernel)",
   "language": "python",
   "name": "python3"
  },
  "language_info": {
   "codemirror_mode": {
    "name": "ipython",
    "version": 3
   },
   "file_extension": ".py",
   "mimetype": "text/x-python",
   "name": "python",
   "nbconvert_exporter": "python",
   "pygments_lexer": "ipython3",
   "version": "3.11.8"
  }
 },
 "nbformat": 4,
 "nbformat_minor": 5
}
