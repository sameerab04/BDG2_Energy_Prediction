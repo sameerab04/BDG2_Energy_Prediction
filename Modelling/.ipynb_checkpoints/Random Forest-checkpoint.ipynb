{
 "cells": [
  {
   "cell_type": "code",
   "execution_count": 1,
   "id": "926ab547-6052-4da9-86b9-afee80e6cea0",
   "metadata": {},
   "outputs": [],
   "source": [
    "# Importing the required libraries \n",
    "import pandas as pd\n",
    "import numpy as np\n",
    "from sklearn.model_selection import train_test_split\n",
    "from sklearn.preprocessing import StandardScaler, OneHotEncoder, MinMaxScaler\n",
    "from sklearn.impute import SimpleImputer\n",
    "from sklearn.compose import ColumnTransformer\n",
    "from sklearn.pipeline import Pipeline\n",
    "from sklearn.metrics import mean_squared_error,  r2_score\n",
    "from sklearn.base import BaseEstimator, TransformerMixin\n",
    "import numpy as np\n",
    "import pandas as pd\n",
    "from sklearn.preprocessing import LabelEncoder\n",
    "from sklearn.ensemble import RandomForestRegressor"
   ]
  },
  {
   "cell_type": "code",
   "execution_count": 2,
   "id": "b07f2110-9548-444e-8d6d-658ce5e322e9",
   "metadata": {},
   "outputs": [],
   "source": [
    "# Load datasets\n",
    "\n",
    "# Train Data \n",
    "temp_df = pd.read_csv(\"../../data/cleaned/train.csv\", nrows=0)  # Read only the header\n",
    "total_columns = len(temp_df.columns)\n",
    "columns_to_use = temp_df.columns[1:total_columns] \n",
    "train_data = pd.read_csv(\"../../data/cleaned/train.csv\", usecols=columns_to_use)\n",
    "\n",
    "# Test Data \n",
    "test_data = pd.read_csv(\"../../data/cleaned/test.csv\", usecols=columns_to_use)\n",
    "\n",
    "# Dropping the columns that are not relevant to our analysis \n",
    "train_data = train_data.drop(columns=['building_name', 'site_name','date'])\n",
    "test_data = test_data.drop(columns=['building_name', 'site_name','date'])\n",
    "\n",
    "# Building index on building_id for furhter assessment \n",
    "train_data.set_index('building_id', inplace=True)\n",
    "test_data.set_index('building_id', inplace=True)"
   ]
  },
  {
   "cell_type": "code",
   "execution_count": 3,
   "id": "67ee79ef-e6fb-45e0-bc70-09a5d0c52c7e",
   "metadata": {},
   "outputs": [],
   "source": [
    "# Filtering for solar meter_reading\n",
    "train_data = train_data[train_data['meter'] == 'solar']\n",
    "test_data = test_data[test_data['meter'] == 'solar']\n",
    "\n",
    "train_data = train_data.drop(columns=['meter'])\n",
    "test_data = test_data.drop(columns=['meter'])"
   ]
  },
  {
   "cell_type": "code",
   "execution_count": 4,
   "id": "29a8a71e-1bf9-4aed-b66b-7ebb82124a94",
   "metadata": {},
   "outputs": [
    {
     "name": "stdout",
     "output_type": "stream",
     "text": [
      "             meter_reading sub_primaryspaceusage      sqm      sqft  \\\n",
      "building_id                                                           \n",
      "72                  218.47        Student Center  17358.0  186840.0   \n",
      "68                    0.00              Academic  11254.8  121146.0   \n",
      "\n",
      "                timezone  airTemperature  cloudCoverage  dewTemperature  \\\n",
      "building_id                                                               \n",
      "72           US/Mountain       22.499341       1.961674       13.727692   \n",
      "68           US/Mountain       21.304167       1.935755       13.459868   \n",
      "\n",
      "             precipDepth1HR  precipDepth6HR  seaLvlPressure  windDirection  \\\n",
      "building_id                                                                  \n",
      "72                 1.130758       17.704461     1017.221018     193.535068   \n",
      "68                 0.763789       12.655104     1014.832614     145.953550   \n",
      "\n",
      "             windSpeed  season  site_id  \n",
      "building_id                              \n",
      "72            3.547777  Summer        2  \n",
      "68            3.036641  Spring        2  \n",
      "-------------------------------------------------------------\n",
      "             meter_reading sub_primaryspaceusage      sqm      sqft  \\\n",
      "building_id                                                           \n",
      "71                  100.61              Academic  10551.9  113580.0   \n",
      "71                  102.33              Academic  10551.9  113580.0   \n",
      "\n",
      "                timezone  airTemperature  cloudCoverage  dewTemperature  \\\n",
      "building_id                                                               \n",
      "71           US/Mountain       17.551754       1.557055       11.017982   \n",
      "71           US/Mountain       16.199561       1.828138        9.858553   \n",
      "\n",
      "             precipDepth1HR  precipDepth6HR  seaLvlPressure  windDirection  \\\n",
      "building_id                                                                  \n",
      "71                 0.773752       11.492366     1020.701576     184.693534   \n",
      "71                 0.594560       11.545137     1016.028075     169.632753   \n",
      "\n",
      "             windSpeed season  site_id  \n",
      "building_id                             \n",
      "71            4.394142   Fall        2  \n",
      "71            4.401535   Fall        2  \n"
     ]
    }
   ],
   "source": [
    "# Inspecting the data frames\n",
    "print(train_data.sample(2))\n",
    "print('-------------------------------------------------------------')\n",
    "print(test_data.sample(2))"
   ]
  },
  {
   "cell_type": "code",
   "execution_count": 5,
   "id": "47c6226d-be30-43eb-ac25-375d3505d0a6",
   "metadata": {},
   "outputs": [],
   "source": [
    "# Separating into X and Y dataframes \n",
    "X_train = train_data.drop(columns=['meter_reading'])  # Exclude target variable\n",
    "y_train = train_data['meter_reading']\n",
    "\n",
    "X_test = test_data.drop(columns=['meter_reading'])  # Exclude target variable\n",
    "y_test = test_data['meter_reading']"
   ]
  },
  {
   "cell_type": "code",
   "execution_count": 6,
   "id": "f2eafd74-2b4e-4cd8-85a5-74f3aee323ee",
   "metadata": {},
   "outputs": [],
   "source": [
    "# Convert 'site_id' from numeric to categorical \n",
    "X_train['site_id'] = X_train['site_id'].astype('category')\n",
    "X_test['site_id'] = X_test['site_id'].astype('category')"
   ]
  },
  {
   "cell_type": "code",
   "execution_count": 7,
   "id": "78a819b1-8b89-4913-866b-75025a6e4c98",
   "metadata": {},
   "outputs": [
    {
     "name": "stdout",
     "output_type": "stream",
     "text": [
      "sub_primaryspaceusage      object\n",
      "sqm                       float64\n",
      "sqft                      float64\n",
      "timezone                   object\n",
      "airTemperature            float64\n",
      "cloudCoverage             float64\n",
      "dewTemperature            float64\n",
      "precipDepth1HR            float64\n",
      "precipDepth6HR            float64\n",
      "seaLvlPressure            float64\n",
      "windDirection             float64\n",
      "windSpeed                 float64\n",
      "season                     object\n",
      "site_id                  category\n",
      "dtype: object\n",
      "Index(['sub_primaryspaceusage', 'sqm', 'sqft', 'timezone', 'airTemperature',\n",
      "       'cloudCoverage', 'dewTemperature', 'precipDepth1HR', 'precipDepth6HR',\n",
      "       'seaLvlPressure', 'windDirection', 'windSpeed', 'season', 'site_id'],\n",
      "      dtype='object')\n"
     ]
    }
   ],
   "source": [
    "print(X_train.dtypes)\n",
    "print(X_train.columns)"
   ]
  },
  {
   "cell_type": "code",
   "execution_count": 8,
   "id": "b58ae7fe-13d2-4a1a-af3b-269174937c99",
   "metadata": {},
   "outputs": [],
   "source": [
    "# Define features and types based on your dataset\n",
    "numerical_features = ['sqm', 'sqft', 'airTemperature', 'cloudCoverage', 'dewTemperature',\n",
    "                      'precipDepth1HR', 'precipDepth6HR', 'seaLvlPressure', 'windDirection', 'windSpeed']\n",
    "categorical_features = ['timezone', 'season', 'sub_primaryspaceusage', 'site_id']"
   ]
  },
  {
   "cell_type": "code",
   "execution_count": 9,
   "id": "e0d053dc-d81e-4900-a948-5069b0448264",
   "metadata": {},
   "outputs": [],
   "source": [
    "# Create a preprocessing pipeline\n",
    "preprocessor = ColumnTransformer(\n",
    "    transformers=[\n",
    "        ('num', MinMaxScaler(), numerical_features),\n",
    "        ('cat', OneHotEncoder(handle_unknown='ignore'), categorical_features)\n",
    "    ])\n",
    "\n",
    "# Fit the preprocessor on the training data and transform both training and test data\n",
    "preprocessor.fit(X_train)\n",
    "X_train_processed = preprocessor.transform(X_train)\n",
    "X_test_processed = preprocessor.transform(X_test)"
   ]
  },
  {
   "cell_type": "code",
   "execution_count": 10,
   "id": "690e15d0-f313-44b4-a5c5-893dba33b1e5",
   "metadata": {},
   "outputs": [],
   "source": [
    "# Convert the processed data back to dense DataFrames\n",
    "X_train_processed_df = pd.DataFrame(X_train_processed, columns=preprocessor.get_feature_names_out())\n",
    "X_test_processed_df = pd.DataFrame(X_test_processed, columns=preprocessor.get_feature_names_out())"
   ]
  },
  {
   "cell_type": "code",
   "execution_count": 11,
   "id": "cc586e03-be9e-49b2-969c-6e8a9779abb9",
   "metadata": {},
   "outputs": [
    {
     "data": {
      "text/plain": [
       "Index(['num__sqm', 'num__sqft', 'num__airTemperature', 'num__cloudCoverage',\n",
       "       'num__dewTemperature', 'num__precipDepth1HR', 'num__precipDepth6HR',\n",
       "       'num__seaLvlPressure', 'num__windDirection', 'num__windSpeed',\n",
       "       'cat__timezone_US/Mountain', 'cat__season_Fall', 'cat__season_Spring',\n",
       "       'cat__season_Summer', 'cat__season_Winter',\n",
       "       'cat__sub_primaryspaceusage_Academic',\n",
       "       'cat__sub_primaryspaceusage_Student Center', 'cat__site_id_2'],\n",
       "      dtype='object')"
      ]
     },
     "execution_count": 11,
     "metadata": {},
     "output_type": "execute_result"
    }
   ],
   "source": [
    "# Checking the columns \n",
    "X_train_processed_df.columns"
   ]
  },
  {
   "cell_type": "code",
   "execution_count": 12,
   "id": "87f5a2f9-ac3f-48b0-a39d-9c0e12c1dc7e",
   "metadata": {},
   "outputs": [],
   "source": [
    "# Assume y_train and y_test are Pandas Series with 'meter_reading' for training and testing datasets\n",
    "scaler = MinMaxScaler()\n",
    "\n",
    "# Fit scaler on the training set\n",
    "y_train_scaled = scaler.fit_transform(y_train.values.reshape(-1, 1))\n",
    "\n",
    "# Only transform the test set, do not fit the scaler to it to avoid data leakage\n",
    "y_test_scaled = scaler.transform(y_test.values.reshape(-1, 1))"
   ]
  },
  {
   "cell_type": "markdown",
   "id": "265ea3b7-826f-48c6-8fd4-e55f47b18759",
   "metadata": {},
   "source": [
    "### Random Forest"
   ]
  },
  {
   "cell_type": "code",
   "execution_count": 13,
   "id": "9117a519-616c-401d-bd14-46bb44073ac4",
   "metadata": {},
   "outputs": [
    {
     "name": "stderr",
     "output_type": "stream",
     "text": [
      "/Users/mahimiteshshah/anaconda3/lib/python3.11/site-packages/sklearn/base.py:1151: DataConversionWarning: A column-vector y was passed when a 1d array was expected. Please change the shape of y to (n_samples,), for example using ravel().\n",
      "  return fit_method(estimator, *args, **kwargs)\n"
     ]
    },
    {
     "data": {
      "text/html": [
       "<style>#sk-container-id-1 {color: black;}#sk-container-id-1 pre{padding: 0;}#sk-container-id-1 div.sk-toggleable {background-color: white;}#sk-container-id-1 label.sk-toggleable__label {cursor: pointer;display: block;width: 100%;margin-bottom: 0;padding: 0.3em;box-sizing: border-box;text-align: center;}#sk-container-id-1 label.sk-toggleable__label-arrow:before {content: \"▸\";float: left;margin-right: 0.25em;color: #696969;}#sk-container-id-1 label.sk-toggleable__label-arrow:hover:before {color: black;}#sk-container-id-1 div.sk-estimator:hover label.sk-toggleable__label-arrow:before {color: black;}#sk-container-id-1 div.sk-toggleable__content {max-height: 0;max-width: 0;overflow: hidden;text-align: left;background-color: #f0f8ff;}#sk-container-id-1 div.sk-toggleable__content pre {margin: 0.2em;color: black;border-radius: 0.25em;background-color: #f0f8ff;}#sk-container-id-1 input.sk-toggleable__control:checked~div.sk-toggleable__content {max-height: 200px;max-width: 100%;overflow: auto;}#sk-container-id-1 input.sk-toggleable__control:checked~label.sk-toggleable__label-arrow:before {content: \"▾\";}#sk-container-id-1 div.sk-estimator input.sk-toggleable__control:checked~label.sk-toggleable__label {background-color: #d4ebff;}#sk-container-id-1 div.sk-label input.sk-toggleable__control:checked~label.sk-toggleable__label {background-color: #d4ebff;}#sk-container-id-1 input.sk-hidden--visually {border: 0;clip: rect(1px 1px 1px 1px);clip: rect(1px, 1px, 1px, 1px);height: 1px;margin: -1px;overflow: hidden;padding: 0;position: absolute;width: 1px;}#sk-container-id-1 div.sk-estimator {font-family: monospace;background-color: #f0f8ff;border: 1px dotted black;border-radius: 0.25em;box-sizing: border-box;margin-bottom: 0.5em;}#sk-container-id-1 div.sk-estimator:hover {background-color: #d4ebff;}#sk-container-id-1 div.sk-parallel-item::after {content: \"\";width: 100%;border-bottom: 1px solid gray;flex-grow: 1;}#sk-container-id-1 div.sk-label:hover label.sk-toggleable__label {background-color: #d4ebff;}#sk-container-id-1 div.sk-serial::before {content: \"\";position: absolute;border-left: 1px solid gray;box-sizing: border-box;top: 0;bottom: 0;left: 50%;z-index: 0;}#sk-container-id-1 div.sk-serial {display: flex;flex-direction: column;align-items: center;background-color: white;padding-right: 0.2em;padding-left: 0.2em;position: relative;}#sk-container-id-1 div.sk-item {position: relative;z-index: 1;}#sk-container-id-1 div.sk-parallel {display: flex;align-items: stretch;justify-content: center;background-color: white;position: relative;}#sk-container-id-1 div.sk-item::before, #sk-container-id-1 div.sk-parallel-item::before {content: \"\";position: absolute;border-left: 1px solid gray;box-sizing: border-box;top: 0;bottom: 0;left: 50%;z-index: -1;}#sk-container-id-1 div.sk-parallel-item {display: flex;flex-direction: column;z-index: 1;position: relative;background-color: white;}#sk-container-id-1 div.sk-parallel-item:first-child::after {align-self: flex-end;width: 50%;}#sk-container-id-1 div.sk-parallel-item:last-child::after {align-self: flex-start;width: 50%;}#sk-container-id-1 div.sk-parallel-item:only-child::after {width: 0;}#sk-container-id-1 div.sk-dashed-wrapped {border: 1px dashed gray;margin: 0 0.4em 0.5em 0.4em;box-sizing: border-box;padding-bottom: 0.4em;background-color: white;}#sk-container-id-1 div.sk-label label {font-family: monospace;font-weight: bold;display: inline-block;line-height: 1.2em;}#sk-container-id-1 div.sk-label-container {text-align: center;}#sk-container-id-1 div.sk-container {/* jupyter's `normalize.less` sets `[hidden] { display: none; }` but bootstrap.min.css set `[hidden] { display: none !important; }` so we also need the `!important` here to be able to override the default hidden behavior on the sphinx rendered scikit-learn.org. See: https://github.com/scikit-learn/scikit-learn/issues/21755 */display: inline-block !important;position: relative;}#sk-container-id-1 div.sk-text-repr-fallback {display: none;}</style><div id=\"sk-container-id-1\" class=\"sk-top-container\"><div class=\"sk-text-repr-fallback\"><pre>RandomForestRegressor()</pre><b>In a Jupyter environment, please rerun this cell to show the HTML representation or trust the notebook. <br />On GitHub, the HTML representation is unable to render, please try loading this page with nbviewer.org.</b></div><div class=\"sk-container\" hidden><div class=\"sk-item\"><div class=\"sk-estimator sk-toggleable\"><input class=\"sk-toggleable__control sk-hidden--visually\" id=\"sk-estimator-id-1\" type=\"checkbox\" checked><label for=\"sk-estimator-id-1\" class=\"sk-toggleable__label sk-toggleable__label-arrow\">RandomForestRegressor</label><div class=\"sk-toggleable__content\"><pre>RandomForestRegressor()</pre></div></div></div></div></div>"
      ],
      "text/plain": [
       "RandomForestRegressor()"
      ]
     },
     "execution_count": 13,
     "metadata": {},
     "output_type": "execute_result"
    }
   ],
   "source": [
    "rf = RandomForestRegressor()\n",
    "rf.fit(X_train_processed, y_train_scaled)"
   ]
  },
  {
   "cell_type": "code",
   "execution_count": 14,
   "id": "b783f5f2-f2cb-4d73-8203-f8c24b263ea2",
   "metadata": {},
   "outputs": [],
   "source": [
    "y_pred = rf.predict(X_test_processed)"
   ]
  },
  {
   "cell_type": "code",
   "execution_count": 15,
   "id": "d0129121-015d-4f0e-b2dd-6edce2cfc110",
   "metadata": {},
   "outputs": [
    {
     "data": {
      "text/plain": [
       "-0.027587999444376166"
      ]
     },
     "execution_count": 15,
     "metadata": {},
     "output_type": "execute_result"
    }
   ],
   "source": [
    "-mean_squared_error(y_pred,y_test_scaled)"
   ]
  },
  {
   "cell_type": "code",
   "execution_count": null,
   "id": "402f071f-b225-4363-8102-433143f333a6",
   "metadata": {},
   "outputs": [],
   "source": []
  }
 ],
 "metadata": {
  "kernelspec": {
   "display_name": "Python 3 (ipykernel)",
   "language": "python",
   "name": "python3"
  },
  "language_info": {
   "codemirror_mode": {
    "name": "ipython",
    "version": 3
   },
   "file_extension": ".py",
   "mimetype": "text/x-python",
   "name": "python",
   "nbconvert_exporter": "python",
   "pygments_lexer": "ipython3",
   "version": "3.11.8"
  }
 },
 "nbformat": 4,
 "nbformat_minor": 5
}
