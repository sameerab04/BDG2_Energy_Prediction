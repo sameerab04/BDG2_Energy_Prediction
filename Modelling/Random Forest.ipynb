{
 "cells": [
  {
   "cell_type": "code",
   "execution_count": 1,
   "id": "926ab547-6052-4da9-86b9-afee80e6cea0",
   "metadata": {},
   "outputs": [
    {
     "name": "stderr",
     "output_type": "stream",
     "text": [
      "/var/folders/20/6gd3bgbx1kn0xfsyzbfxk8nm0000gn/T/ipykernel_81782/1230508344.py:2: DeprecationWarning: \n",
      "Pyarrow will become a required dependency of pandas in the next major release of pandas (pandas 3.0),\n",
      "(to allow more performant data types, such as the Arrow string type, and better interoperability with other libraries)\n",
      "but was not found to be installed on your system.\n",
      "If this would cause problems for you,\n",
      "please provide us feedback at https://github.com/pandas-dev/pandas/issues/54466\n",
      "        \n",
      "  import pandas as pd\n"
     ]
    }
   ],
   "source": [
    "# Importing the required libraries \n",
    "import pandas as pd\n",
    "import numpy as np\n",
    "from sklearn.model_selection import train_test_split\n",
    "from sklearn.preprocessing import StandardScaler, OneHotEncoder, MinMaxScaler\n",
    "from sklearn.impute import SimpleImputer\n",
    "from sklearn.compose import ColumnTransformer\n",
    "from sklearn.pipeline import Pipeline\n",
    "from sklearn.metrics import mean_squared_error,  r2_score\n",
    "from sklearn.base import BaseEstimator, TransformerMixin\n",
    "import numpy as np\n",
    "import pandas as pd\n",
    "from sklearn.preprocessing import LabelEncoder\n",
    "from sklearn.ensemble import RandomForestRegressor\n",
    "from sklearn.model_selection import RandomizedSearchCV\n",
    "from sklearn.ensemble import RandomForestRegressor\n",
    "from sklearn.impute import SimpleImputer\n",
    "import ast\n"
   ]
  },
  {
   "cell_type": "code",
   "execution_count": 2,
   "id": "e7379468",
   "metadata": {},
   "outputs": [],
   "source": [
    "# Load datasets\n",
    "\n",
    "# Train Data\n",
    "temp_df = pd.read_csv(\"../../data/cleaned/train.csv\", nrows=0)  # Read only the header\n",
    "total_columns = len(temp_df.columns)\n",
    "columns_to_use = temp_df.columns[1:total_columns]\n",
    "train_data = pd.read_csv(\"../../data/cleaned/train.csv\", usecols=columns_to_use)\n",
    "\n",
    "# Test Data\n",
    "test_data = pd.read_csv(\"../../data/cleaned/test.csv\", usecols=columns_to_use)\n",
    "\n",
    "\n",
    "# # Dropping the columns that are not relevant to our analysis\n",
    "train_data = train_data.drop(columns=['building_name', 'site_name','date'])\n",
    "test_data = test_data.drop(columns=['building_name', 'site_name','date'])\n",
    "\n",
    "\n",
    "train_data = train_data[(train_data['meter'] == 'electricity') | (train_data['meter'] == 'chilledwater') | (train_data['meter'] == 'steam')\n",
    "| (train_data['meter'] == 'hotwater') | (train_data['meter'] == 'gas')]\n",
    "\n",
    "test_data = test_data[(test_data['meter'] == 'electricity') | (test_data['meter'] == 'chilledwater') | (test_data['meter'] == 'steam')\n",
    "| (test_data['meter'] == 'hotwater') | (test_data['meter'] == 'gas')]\n",
    "\n",
    "\n",
    "# Building index on building_id for furhter assessment\n",
    "train_data.set_index('building_id', inplace=True)\n",
    "test_data.set_index('building_id', inplace=True)"
   ]
  },
  {
   "cell_type": "code",
   "execution_count": null,
   "id": "98f39ec0",
   "metadata": {},
   "outputs": [],
   "source": [
    "# Inspecting the data frames\n",
    "print(train_data.sample(2))\n",
    "print('-------------------------------------------------------------')\n",
    "print(test_data.sample(2))"
   ]
  },
  {
   "cell_type": "code",
   "execution_count": 4,
   "id": "34211e9c",
   "metadata": {},
   "outputs": [],
   "source": [
    "# Define features and types based on your dataset\n",
    "numerical_features = ['sqm', 'sqft', 'airTemperature', 'cloudCoverage', 'dewTemperature',\n",
    "                      'precipDepth1HR', 'precipDepth6HR', 'seaLvlPressure', 'windDirection', 'windSpeed']\n",
    "categorical_features = ['timezone', 'season', 'sub_primaryspaceusage', 'site_id']"
   ]
  },
  {
   "cell_type": "markdown",
   "id": "265ea3b7-826f-48c6-8fd4-e55f47b18759",
   "metadata": {},
   "source": [
    "### Random Forest"
   ]
  },
  {
   "cell_type": "markdown",
   "id": "cabb8150-3447-4577-b638-9a2a18f1f643",
   "metadata": {},
   "source": [
    "### Random Forest Parameter Tuning"
   ]
  },
  {
   "cell_type": "code",
   "execution_count": 6,
   "id": "829ba754-ddf8-4148-86b9-dd20ad8ce09f",
   "metadata": {},
   "outputs": [
    {
     "name": "stdout",
     "output_type": "stream",
     "text": [
      "Processing meter value: electricity\n",
      "Fitting 3 folds for each of 5 candidates, totalling 15 fits\n",
      "Best parameters for meter value electricity: {'n_estimators': 150, 'min_samples_split': 100, 'min_samples_leaf': 100, 'max_depth': 20}\n",
      "Processing meter value: chilledwater\n",
      "Fitting 3 folds for each of 5 candidates, totalling 15 fits\n",
      "Best parameters for meter value chilledwater: {'n_estimators': 100, 'min_samples_split': 100, 'min_samples_leaf': 100, 'max_depth': 20}\n",
      "Processing meter value: steam\n",
      "Fitting 3 folds for each of 5 candidates, totalling 15 fits\n",
      "Best parameters for meter value steam: {'n_estimators': 100, 'min_samples_split': 100, 'min_samples_leaf': 100, 'max_depth': None}\n",
      "Processing meter value: hotwater\n",
      "Fitting 3 folds for each of 5 candidates, totalling 15 fits\n",
      "Best parameters for meter value hotwater: {'n_estimators': 100, 'min_samples_split': 100, 'min_samples_leaf': 100, 'max_depth': 20}\n",
      "Processing meter value: gas\n",
      "Fitting 3 folds for each of 5 candidates, totalling 15 fits\n",
      "Best parameters for meter value gas: {'n_estimators': 150, 'min_samples_split': 100, 'min_samples_leaf': 100, 'max_depth': None}\n",
      "    meter_value  r-squared                                        best_params\n",
      "0   electricity   0.900766  {'n_estimators': 150, 'min_samples_split': 100...\n",
      "1  chilledwater   0.851433  {'n_estimators': 100, 'min_samples_split': 100...\n",
      "2         steam   0.322394  {'n_estimators': 100, 'min_samples_split': 100...\n",
      "3      hotwater   0.730532  {'n_estimators': 100, 'min_samples_split': 100...\n",
      "4           gas   0.805817  {'n_estimators': 150, 'min_samples_split': 100...\n"
     ]
    }
   ],
   "source": [
    "\n",
    "unique_meters = ['electricity','chilledwater', 'steam', 'hotwater', 'gas' ]\n",
    "\n",
    "results = []\n",
    "\n",
    "for meter_value in unique_meters:\n",
    "    print(f\"Processing meter value: {meter_value}\")\n",
    "\n",
    "    # Splitting data for the specific meter value\n",
    "    X = train_data[train_data['meter'] == meter_value].drop(columns=['meter_reading', 'meter'])\n",
    "    y = train_data[train_data['meter'] == meter_value]['meter_reading']\n",
    "\n",
    "    # Convert 'site_id' from numeric to categorical\n",
    "    X['site_id'] = X['site_id'].astype('category')\n",
    "\n",
    "    # Splitting data into training and testing sets\n",
    "    X_train, X_test, y_train, y_test = train_test_split(X, y, test_size=0.2, random_state=42)\n",
    "\n",
    "    # Define and apply preprocessing pipeline\n",
    "    preprocessor = ColumnTransformer(transformers=[\n",
    "        ('num', MinMaxScaler(), numerical_features),\n",
    "        ('cat', OneHotEncoder(handle_unknown='ignore'), categorical_features)\n",
    "    ])\n",
    "\n",
    "    X_train_processed = preprocessor.fit_transform(X_train)\n",
    "    X_test_processed = preprocessor.transform(X_test)\n",
    "\n",
    "    # Scale the target variable\n",
    "    y_train_scaled = np.log1p(y_train.values.reshape(-1, 1))\n",
    "\n",
    "    y_test_scaled = np.log1p(y_test.values.reshape(-1, 1))\n",
    "\n",
    "    rf = RandomForestRegressor()\n",
    "    param_distributions = {\n",
    "        'n_estimators': [100, 150],\n",
    "        'max_depth': [None, 10, 20],\n",
    "        'min_samples_split': [100],\n",
    "        'min_samples_leaf': [100]\n",
    "    }\n",
    "\n",
    "    rf_random = RandomizedSearchCV(estimator=rf, param_distributions=param_distributions,\n",
    "                                   n_iter=5,\n",
    "                                   cv=3,\n",
    "                                   verbose=1, random_state=42, n_jobs=-1)\n",
    "    \n",
    "    rf_random.fit(X_train_processed, y_train)\n",
    "    print(f\"Best parameters for meter value {meter_value}: {rf_random.best_params_}\")\n",
    "\n",
    "    y_pred = rf_random.best_estimator_.predict(X_test_processed)\n",
    "    r2 = r2_score(y_test, y_pred)\n",
    "    results.append({'meter_value': meter_value, 'r-squared': r2, 'best_params': rf_random.best_params_})\n",
    "\n",
    "results_df = pd.DataFrame(results)\n",
    "print(results_df[['meter_value', 'r-squared', 'best_params']])\n"
   ]
  },
  {
   "cell_type": "code",
   "execution_count": 10,
   "id": "3a7f5be6",
   "metadata": {},
   "outputs": [
    {
     "data": {
      "text/html": [
       "<div>\n",
       "<style scoped>\n",
       "    .dataframe tbody tr th:only-of-type {\n",
       "        vertical-align: middle;\n",
       "    }\n",
       "\n",
       "    .dataframe tbody tr th {\n",
       "        vertical-align: top;\n",
       "    }\n",
       "\n",
       "    .dataframe thead th {\n",
       "        text-align: right;\n",
       "    }\n",
       "</style>\n",
       "<table border=\"1\" class=\"dataframe\">\n",
       "  <thead>\n",
       "    <tr style=\"text-align: right;\">\n",
       "      <th></th>\n",
       "      <th>meter_value</th>\n",
       "      <th>r-squared</th>\n",
       "    </tr>\n",
       "  </thead>\n",
       "  <tbody>\n",
       "    <tr>\n",
       "      <th>0</th>\n",
       "      <td>electricity</td>\n",
       "      <td>0.900766</td>\n",
       "    </tr>\n",
       "    <tr>\n",
       "      <th>1</th>\n",
       "      <td>chilledwater</td>\n",
       "      <td>0.851433</td>\n",
       "    </tr>\n",
       "    <tr>\n",
       "      <th>2</th>\n",
       "      <td>steam</td>\n",
       "      <td>0.322394</td>\n",
       "    </tr>\n",
       "    <tr>\n",
       "      <th>3</th>\n",
       "      <td>hotwater</td>\n",
       "      <td>0.730532</td>\n",
       "    </tr>\n",
       "    <tr>\n",
       "      <th>4</th>\n",
       "      <td>gas</td>\n",
       "      <td>0.805817</td>\n",
       "    </tr>\n",
       "  </tbody>\n",
       "</table>\n",
       "</div>"
      ],
      "text/plain": [
       "    meter_value  r-squared\n",
       "0   electricity   0.900766\n",
       "1  chilledwater   0.851433\n",
       "2         steam   0.322394\n",
       "3      hotwater   0.730532\n",
       "4           gas   0.805817"
      ]
     },
     "execution_count": 10,
     "metadata": {},
     "output_type": "execute_result"
    }
   ],
   "source": [
    "results_df[['meter_value', 'r-squared']]"
   ]
  },
  {
   "cell_type": "markdown",
   "id": "9302361a",
   "metadata": {},
   "source": [
    "# Predictions"
   ]
  },
  {
   "cell_type": "code",
   "execution_count": 25,
   "id": "0db5ffc1-0188-4aa3-a545-807f6cdc77f6",
   "metadata": {},
   "outputs": [
    {
     "name": "stdout",
     "output_type": "stream",
     "text": [
      "Fitting model for meter type: electricity\n",
      "Fitting model for meter type: chilledwater\n",
      "Fitting model for meter type: steam\n",
      "Fitting model for meter type: hotwater\n",
      "Fitting model for meter type: gas\n"
     ]
    }
   ],
   "source": [
    "\n",
    "\n",
    "# Convert the string representation of dictionaries to actual dictionaries\n",
    "results_df['best_params'] = results_df['best_params'].apply(lambda x: ast.literal_eval(x) if isinstance(x, str) else x)\n",
    "\n",
    "# Convert the DataFrame to a dictionary where keys are meter values and values are the best parameter sets\n",
    "best_params_dict = pd.Series(results_df.best_params.values, index=results_df.meter_value).to_dict()\n",
    "\n",
    "results = []\n",
    "for meter_value in unique_meters:\n",
    "    print(f\"Fitting model for meter type: {meter_value}\")\n",
    "\n",
    "    # Filtering the training data\n",
    "    X_train = train_data[train_data['meter'] == meter_value].drop(columns=['meter_reading', 'meter'])\n",
    "    y_train = train_data[train_data['meter'] == meter_value]['meter_reading']\n",
    "\n",
    "    # Define preprocessing steps for the pipeline\n",
    "    numeric_features = X_train.select_dtypes(include=['float64', 'int64']).columns\n",
    "    categorical_features = X_train.select_dtypes(include=['object']).columns\n",
    "\n",
    "    numeric_transformer = Pipeline(steps=[\n",
    "        ('imputer', SimpleImputer(strategy='median')),  # Impute missing values with median\n",
    "    ])\n",
    "\n",
    "    categorical_transformer = Pipeline(steps=[\n",
    "        ('imputer', SimpleImputer(strategy='constant', fill_value='Missing')),  # Impute missing values with 'Missing'\n",
    "        ('onehot', OneHotEncoder(handle_unknown='ignore'))  # One-hot encode categorical features\n",
    "    ])\n",
    "\n",
    "    preprocessor = ColumnTransformer(\n",
    "        transformers=[\n",
    "            ('num', numeric_transformer, numeric_features),\n",
    "            ('cat', categorical_transformer, categorical_features)\n",
    "        ])\n",
    "\n",
    "    # Define and train the final model using the best parameters found for this meter type\n",
    "    best_params = best_params_dict[meter_value]  # Retrieve best parameters for the current meter type\n",
    "    final_model = RandomForestRegressor(**best_params)\n",
    "    model_pipeline = Pipeline(steps=[('preprocessor', preprocessor), ('model', final_model)])\n",
    "    model_pipeline.fit(X_train, y_train)\n",
    "\n",
    "    # Filtering and preprocessing the test data\n",
    "    X_test = test_data[test_data['meter'] == meter_value]\n",
    "    y_test = X_test['meter_reading']\n",
    "    X_test = X_test.drop(columns=['meter_reading', 'meter'])\n",
    "\n",
    "    # Predict on the test dataset\n",
    "    y_pred = model_pipeline.predict(X_test)\n",
    "\n",
    "    # Evaluate the model on the test data\n",
    "    mse = mean_squared_error(y_test, y_pred)\n",
    "    r2 = r2_score(y_test, y_pred)\n",
    "\n",
    "    results.append({\n",
    "        'meter_value': meter_value,\n",
    "        'mse': mse,\n",
    "        'r_squared': r2,\n",
    "        'predictions': y_pred\n",
    "    })\n",
    "\n"
   ]
  },
  {
   "cell_type": "code",
   "execution_count": 28,
   "id": "460f9230",
   "metadata": {},
   "outputs": [
    {
     "name": "stdout",
     "output_type": "stream",
     "text": [
      "Meter value: electricity, R-squared: 0.8526786664889417\n",
      "Meter value: chilledwater, R-squared: 0.6125232218931265\n",
      "Meter value: steam, R-squared: -16013.703113977832\n",
      "Meter value: hotwater, R-squared: 0.5622079015059647\n",
      "Meter value: gas, R-squared: 0.73969688287177\n"
     ]
    }
   ],
   "source": [
    "for result in results:\n",
    "    meter_value = result['meter_value']\n",
    "    r_squared = result['r_squared']\n",
    "    print(f\"Meter value: {meter_value}, R-squared: {r_squared}\")"
   ]
  },
  {
   "cell_type": "code",
   "execution_count": null,
   "id": "6f959551",
   "metadata": {},
   "outputs": [],
   "source": []
  }
 ],
 "metadata": {
  "kernelspec": {
   "display_name": "work_env",
   "language": "python",
   "name": "work_env"
  },
  "language_info": {
   "codemirror_mode": {
    "name": "ipython",
    "version": 3
   },
   "file_extension": ".py",
   "mimetype": "text/x-python",
   "name": "python",
   "nbconvert_exporter": "python",
   "pygments_lexer": "ipython3",
   "version": "3.11.6"
  }
 },
 "nbformat": 4,
 "nbformat_minor": 5
}
