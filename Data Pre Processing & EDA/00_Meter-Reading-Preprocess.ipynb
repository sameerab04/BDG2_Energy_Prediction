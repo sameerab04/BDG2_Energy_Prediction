{
 "cells": [
  {
   "cell_type": "markdown",
   "metadata": {},
   "source": [
    "## Meter Readings datasets"
   ]
  },
  {
   "cell_type": "markdown",
   "metadata": {},
   "source": [
    "Since we have the meter readings for various types of energy sources like hotwater, gas and solar - let us first integrate all the data tablesinto one dataframe with all the meter readings for modelling ease. "
   ]
  },
  {
   "cell_type": "code",
   "execution_count": 1,
   "metadata": {},
   "outputs": [],
   "source": [
    "# Importing the required libraries \n",
    "import pandas as pd\n",
    "import numpy as np\n",
    "from glob import glob\n",
    "import matplotlib.pyplot as plt"
   ]
  },
  {
   "cell_type": "code",
   "execution_count": 2,
   "metadata": {},
   "outputs": [],
   "source": [
    "# Specifying the filepath for the raw data and the cleaned file\n",
    "path_raw = \"../data/meters/raw/\"\n",
    "path_cleaned = \"../data/meters/cleaned/\""
   ]
  },
  {
   "cell_type": "code",
   "execution_count": 3,
   "metadata": {},
   "outputs": [
    {
     "data": {
      "text/plain": [
       "['../data/meters/raw/hotwater.csv',\n",
       " '../data/meters/raw/gas.csv',\n",
       " '../data/meters/raw/solar.csv',\n",
       " '../data/meters/raw/electricity.csv',\n",
       " '../data/meters/raw/water.csv',\n",
       " '../data/meters/raw/chilledwater.csv',\n",
       " '../data/meters/raw/irrigation.csv',\n",
       " '../data/meters/raw/steam.csv']"
      ]
     },
     "execution_count": 3,
     "metadata": {},
     "output_type": "execute_result"
    }
   ],
   "source": [
    "# Files in directory\n",
    "files = glob(path_raw + \"*.csv\")\n",
    "files"
   ]
  },
  {
   "cell_type": "code",
   "execution_count": 4,
   "metadata": {},
   "outputs": [
    {
     "data": {
      "text/html": [
       "<div>\n",
       "<style scoped>\n",
       "    .dataframe tbody tr th:only-of-type {\n",
       "        vertical-align: middle;\n",
       "    }\n",
       "\n",
       "    .dataframe tbody tr th {\n",
       "        vertical-align: top;\n",
       "    }\n",
       "\n",
       "    .dataframe thead th {\n",
       "        text-align: right;\n",
       "    }\n",
       "</style>\n",
       "<table border=\"1\" class=\"dataframe\">\n",
       "  <thead>\n",
       "    <tr style=\"text-align: right;\">\n",
       "      <th></th>\n",
       "      <th>timestamp</th>\n",
       "      <th>building_id</th>\n",
       "      <th>meter_reading</th>\n",
       "      <th>meter</th>\n",
       "    </tr>\n",
       "  </thead>\n",
       "  <tbody>\n",
       "    <tr>\n",
       "      <th>27603028</th>\n",
       "      <td>2016-09-20 04:00:00</td>\n",
       "      <td>Hog_office_Judith</td>\n",
       "      <td>0.0000</td>\n",
       "      <td>electricity</td>\n",
       "    </tr>\n",
       "    <tr>\n",
       "      <th>17755728</th>\n",
       "      <td>2016-02-20 00:00:00</td>\n",
       "      <td>Bear_education_Chad</td>\n",
       "      <td>598.4326</td>\n",
       "      <td>electricity</td>\n",
       "    </tr>\n",
       "    <tr>\n",
       "      <th>19865635</th>\n",
       "      <td>2016-08-30 19:00:00</td>\n",
       "      <td>Lamb_education_Jane</td>\n",
       "      <td>5.7000</td>\n",
       "      <td>electricity</td>\n",
       "    </tr>\n",
       "    <tr>\n",
       "      <th>17396294</th>\n",
       "      <td>2017-02-28 14:00:00</td>\n",
       "      <td>Bear_education_Santos</td>\n",
       "      <td>12.5067</td>\n",
       "      <td>electricity</td>\n",
       "    </tr>\n",
       "    <tr>\n",
       "      <th>12324254</th>\n",
       "      <td>2016-12-14 14:00:00</td>\n",
       "      <td>Rat_assembly_Jennie</td>\n",
       "      <td>1.0800</td>\n",
       "      <td>electricity</td>\n",
       "    </tr>\n",
       "  </tbody>\n",
       "</table>\n",
       "</div>"
      ],
      "text/plain": [
       "                    timestamp            building_id  meter_reading  \\\n",
       "27603028  2016-09-20 04:00:00      Hog_office_Judith         0.0000   \n",
       "17755728  2016-02-20 00:00:00    Bear_education_Chad       598.4326   \n",
       "19865635  2016-08-30 19:00:00    Lamb_education_Jane         5.7000   \n",
       "17396294  2017-02-28 14:00:00  Bear_education_Santos        12.5067   \n",
       "12324254  2016-12-14 14:00:00    Rat_assembly_Jennie         1.0800   \n",
       "\n",
       "                meter  \n",
       "27603028  electricity  \n",
       "17755728  electricity  \n",
       "19865635  electricity  \n",
       "17396294  electricity  \n",
       "12324254  electricity  "
      ]
     },
     "execution_count": 4,
     "metadata": {},
     "output_type": "execute_result"
    }
   ],
   "source": [
    "# Wrangling the data in a manner that concats all the above files pivots it into a usable format \n",
    "\n",
    "# Initiliase list to store all the data frames \n",
    "dfs = []  \n",
    "\n",
    "for file in files:  \n",
    "   # Get meter type from filename\n",
    "    meter_type = file.split(\"/\")[-1].split(\".\")[0]  \n",
    "    file_path = file  \n",
    "    meter = pd.read_csv(file_path) \n",
    "    \n",
    "    # Pivoting the dataset \n",
    "    meter = pd.melt(meter, id_vars=\"timestamp\", var_name=\"building_id\", value_name=\"meter_reading\")\n",
    "    meter[\"meter\"] = meter_type  \n",
    "    dfs.append(meter) \n",
    "\n",
    "# Concatenate all DataFrames in the list into one DataFrame\n",
    "complete_data = pd.concat(dfs, axis=0, ignore_index=True)\n",
    "\n",
    "# Inspecting the dataset \n",
    "complete_data.sample(5)"
   ]
  },
  {
   "cell_type": "code",
   "execution_count": 5,
   "metadata": {},
   "outputs": [
    {
     "data": {
      "image/png": "[encoded data removed]",
      "text/plain": [
       "<Figure size 640x480 with 1 Axes>"
      ]
     },
     "metadata": {},
     "output_type": "display_data"
    }
   ],
   "source": [
    "# Check the meter counts \n",
    "meter_counts = complete_data[\"meter\"].value_counts()\n",
    "\n",
    "# Plot the results\n",
    "meter_counts.plot(kind='bar', color='skyblue')\n",
    "plt.title('Distribution of Meter Types')\n",
    "plt.xlabel('Meter Type')\n",
    "plt.ylabel('Count')\n",
    "plt.xticks(rotation=45) \n",
    "plt.show()"
   ]
  },
  {
   "cell_type": "markdown",
   "metadata": {},
   "source": [
    "Electricity meters are significantly more prevalent than other types, highlighting a primary focus on electrical consumption. Chilledwater and steam meters suggest attention to climate control, whereas other utilities like gas and water are monitored less frequently. The least common meter type is solar."
   ]
  },
  {
   "cell_type": "code",
   "execution_count": 6,
   "metadata": {},
   "outputs": [
    {
     "data": {
      "text/plain": [
       "1636"
      ]
     },
     "execution_count": 6,
     "metadata": {},
     "output_type": "execute_result"
    }
   ],
   "source": [
    "# Check number of buildings for which the data is recorded \n",
    "len(np.unique(complete_data[\"building_id\"]))"
   ]
  },
  {
   "cell_type": "code",
   "execution_count": 7,
   "metadata": {},
   "outputs": [
    {
     "data": {
      "text/html": [
       "<div>\n",
       "<style scoped>\n",
       "    .dataframe tbody tr th:only-of-type {\n",
       "        vertical-align: middle;\n",
       "    }\n",
       "\n",
       "    .dataframe tbody tr th {\n",
       "        vertical-align: top;\n",
       "    }\n",
       "\n",
       "    .dataframe thead th {\n",
       "        text-align: right;\n",
       "    }\n",
       "</style>\n",
       "<table border=\"1\" class=\"dataframe\">\n",
       "  <thead>\n",
       "    <tr style=\"text-align: right;\">\n",
       "      <th></th>\n",
       "      <th>timestamp</th>\n",
       "      <th>building_id</th>\n",
       "      <th>meter_reading</th>\n",
       "      <th>meter</th>\n",
       "    </tr>\n",
       "  </thead>\n",
       "  <tbody>\n",
       "    <tr>\n",
       "      <th>31178841</th>\n",
       "      <td>2016-05-11 09:00:00</td>\n",
       "      <td>Eagle_education_Brooke</td>\n",
       "      <td>818.3372</td>\n",
       "      <td>electricity</td>\n",
       "    </tr>\n",
       "    <tr>\n",
       "      <th>8865374</th>\n",
       "      <td>2016-08-23 14:00:00</td>\n",
       "      <td>Robin_office_Victor</td>\n",
       "      <td>95.6230</td>\n",
       "      <td>electricity</td>\n",
       "    </tr>\n",
       "    <tr>\n",
       "      <th>17281046</th>\n",
       "      <td>2016-01-09 14:00:00</td>\n",
       "      <td>Bear_education_Chana</td>\n",
       "      <td>16.7500</td>\n",
       "      <td>electricity</td>\n",
       "    </tr>\n",
       "    <tr>\n",
       "      <th>6644911</th>\n",
       "      <td>2017-07-07 07:00:00</td>\n",
       "      <td>Panther_education_Tina</td>\n",
       "      <td>3.4006</td>\n",
       "      <td>electricity</td>\n",
       "    </tr>\n",
       "    <tr>\n",
       "      <th>11411210</th>\n",
       "      <td>2016-11-13 02:00:00</td>\n",
       "      <td>Fox_education_Wendell</td>\n",
       "      <td>524.7100</td>\n",
       "      <td>electricity</td>\n",
       "    </tr>\n",
       "    <tr>\n",
       "      <th>33111724</th>\n",
       "      <td>2016-09-15 04:00:00</td>\n",
       "      <td>Cockatoo_office_Margaret</td>\n",
       "      <td>2.5500</td>\n",
       "      <td>electricity</td>\n",
       "    </tr>\n",
       "    <tr>\n",
       "      <th>12802129</th>\n",
       "      <td>2017-06-07 01:00:00</td>\n",
       "      <td>Rat_public_Chrissy</td>\n",
       "      <td>58.0300</td>\n",
       "      <td>electricity</td>\n",
       "    </tr>\n",
       "  </tbody>\n",
       "</table>\n",
       "</div>"
      ],
      "text/plain": [
       "                    timestamp               building_id  meter_reading  \\\n",
       "31178841  2016-05-11 09:00:00    Eagle_education_Brooke       818.3372   \n",
       "8865374   2016-08-23 14:00:00       Robin_office_Victor        95.6230   \n",
       "17281046  2016-01-09 14:00:00      Bear_education_Chana        16.7500   \n",
       "6644911   2017-07-07 07:00:00    Panther_education_Tina         3.4006   \n",
       "11411210  2016-11-13 02:00:00     Fox_education_Wendell       524.7100   \n",
       "33111724  2016-09-15 04:00:00  Cockatoo_office_Margaret         2.5500   \n",
       "12802129  2017-06-07 01:00:00        Rat_public_Chrissy        58.0300   \n",
       "\n",
       "                meter  \n",
       "31178841  electricity  \n",
       "8865374   electricity  \n",
       "17281046  electricity  \n",
       "6644911   electricity  \n",
       "11411210  electricity  \n",
       "33111724  electricity  \n",
       "12802129  electricity  "
      ]
     },
     "execution_count": 7,
     "metadata": {},
     "output_type": "execute_result"
    }
   ],
   "source": [
    "# Rounds meter reading to to 4 decimals places \n",
    "complete_data[\"meter_reading\"] = round(complete_data[\"meter_reading\"],4)\n",
    "\n",
    "# Inspecting the Data Again\n",
    "complete_data.sample(7)"
   ]
  },
  {
   "cell_type": "markdown",
   "metadata": {},
   "source": [
    "Meter reading are currently hourly as we can see, although we do not need the data to be as granular and hence we will group by day to get hourly meter readings. "
   ]
  },
  {
   "cell_type": "code",
   "execution_count": 8,
   "metadata": {},
   "outputs": [
    {
     "data": {
      "text/html": [
       "<div>\n",
       "<style scoped>\n",
       "    .dataframe tbody tr th:only-of-type {\n",
       "        vertical-align: middle;\n",
       "    }\n",
       "\n",
       "    .dataframe tbody tr th {\n",
       "        vertical-align: top;\n",
       "    }\n",
       "\n",
       "    .dataframe thead th {\n",
       "        text-align: right;\n",
       "    }\n",
       "</style>\n",
       "<table border=\"1\" class=\"dataframe\">\n",
       "  <thead>\n",
       "    <tr style=\"text-align: right;\">\n",
       "      <th></th>\n",
       "      <th>building_id</th>\n",
       "      <th>meter</th>\n",
       "      <th>date</th>\n",
       "      <th>meter_reading</th>\n",
       "    </tr>\n",
       "  </thead>\n",
       "  <tbody>\n",
       "    <tr>\n",
       "      <th>411979</th>\n",
       "      <td>Cockatoo_education_Claudine</td>\n",
       "      <td>electricity</td>\n",
       "      <td>2017-03-02</td>\n",
       "      <td>1036.0000</td>\n",
       "    </tr>\n",
       "    <tr>\n",
       "      <th>1359765</th>\n",
       "      <td>Lamb_assembly_Kurt</td>\n",
       "      <td>gas</td>\n",
       "      <td>2016-04-15</td>\n",
       "      <td>493.4430</td>\n",
       "    </tr>\n",
       "    <tr>\n",
       "      <th>1292038</th>\n",
       "      <td>Hog_office_Shon</td>\n",
       "      <td>electricity</td>\n",
       "      <td>2016-12-27</td>\n",
       "      <td>1638.5540</td>\n",
       "    </tr>\n",
       "    <tr>\n",
       "      <th>722029</th>\n",
       "      <td>Eagle_office_Chauncey</td>\n",
       "      <td>electricity</td>\n",
       "      <td>2017-06-16</td>\n",
       "      <td>13986.7089</td>\n",
       "    </tr>\n",
       "    <tr>\n",
       "      <th>593389</th>\n",
       "      <td>Crow_education_Winston</td>\n",
       "      <td>electricity</td>\n",
       "      <td>2017-07-02</td>\n",
       "      <td>10410.4370</td>\n",
       "    </tr>\n",
       "  </tbody>\n",
       "</table>\n",
       "</div>"
      ],
      "text/plain": [
       "                         building_id        meter        date  meter_reading\n",
       "411979   Cockatoo_education_Claudine  electricity  2017-03-02      1036.0000\n",
       "1359765           Lamb_assembly_Kurt          gas  2016-04-15       493.4430\n",
       "1292038              Hog_office_Shon  electricity  2016-12-27      1638.5540\n",
       "722029         Eagle_office_Chauncey  electricity  2017-06-16     13986.7089\n",
       "593389        Crow_education_Winston  electricity  2017-07-02     10410.4370"
      ]
     },
     "execution_count": 8,
     "metadata": {},
     "output_type": "execute_result"
    }
   ],
   "source": [
    "# Convert 'timestamp' to datetime \n",
    "complete_data['timestamp'] = pd.to_datetime(complete_data['timestamp'])\n",
    "# Create a new date column from 'timestamp' for grouping\n",
    "complete_data['date'] = complete_data['timestamp'].dt.date\n",
    "\n",
    "numeric_cols = [col for col in complete_data.columns if complete_data[col].dtype.kind in 'biufc' and col not in ['date', 'timestamp']]\n",
    "\n",
    "# Grouping by building ID, meter type and date \n",
    "grouped_data = complete_data.groupby(by=[\"building_id\", \"meter\", \"date\"])[numeric_cols].sum().reset_index()\n",
    "grouped_data.sample(5)"
   ]
  },
  {
   "cell_type": "code",
   "execution_count": 9,
   "metadata": {},
   "outputs": [],
   "source": [
    "# Generate the cleaned file for meter readings, grouped by day\n",
    "grouped_data.to_csv(path_cleaned + \"allmeters_daily.csv\", index=False)"
   ]
  },
  {
   "cell_type": "code",
   "execution_count": 10,
   "metadata": {},
   "outputs": [
    {
     "data": {
      "text/html": [
       "<div>\n",
       "<style scoped>\n",
       "    .dataframe tbody tr th:only-of-type {\n",
       "        vertical-align: middle;\n",
       "    }\n",
       "\n",
       "    .dataframe tbody tr th {\n",
       "        vertical-align: top;\n",
       "    }\n",
       "\n",
       "    .dataframe thead th {\n",
       "        text-align: right;\n",
       "    }\n",
       "</style>\n",
       "<table border=\"1\" class=\"dataframe\">\n",
       "  <thead>\n",
       "    <tr style=\"text-align: right;\">\n",
       "      <th></th>\n",
       "      <th>building_id</th>\n",
       "      <th>meter</th>\n",
       "      <th>date</th>\n",
       "      <th>meter_reading</th>\n",
       "    </tr>\n",
       "  </thead>\n",
       "  <tbody>\n",
       "    <tr>\n",
       "      <th>0</th>\n",
       "      <td>Bear_assembly_Angel</td>\n",
       "      <td>electricity</td>\n",
       "      <td>2016-01-01</td>\n",
       "      <td>12808.1620</td>\n",
       "    </tr>\n",
       "    <tr>\n",
       "      <th>1</th>\n",
       "      <td>Bear_assembly_Angel</td>\n",
       "      <td>electricity</td>\n",
       "      <td>2016-01-02</td>\n",
       "      <td>9251.0003</td>\n",
       "    </tr>\n",
       "    <tr>\n",
       "      <th>2</th>\n",
       "      <td>Bear_assembly_Angel</td>\n",
       "      <td>electricity</td>\n",
       "      <td>2016-01-03</td>\n",
       "      <td>14071.6500</td>\n",
       "    </tr>\n",
       "    <tr>\n",
       "      <th>3</th>\n",
       "      <td>Bear_assembly_Angel</td>\n",
       "      <td>electricity</td>\n",
       "      <td>2016-01-04</td>\n",
       "      <td>12860.3758</td>\n",
       "    </tr>\n",
       "    <tr>\n",
       "      <th>4</th>\n",
       "      <td>Bear_assembly_Angel</td>\n",
       "      <td>electricity</td>\n",
       "      <td>2016-01-05</td>\n",
       "      <td>12212.8585</td>\n",
       "    </tr>\n",
       "  </tbody>\n",
       "</table>\n",
       "</div>"
      ],
      "text/plain": [
       "           building_id        meter        date  meter_reading\n",
       "0  Bear_assembly_Angel  electricity  2016-01-01     12808.1620\n",
       "1  Bear_assembly_Angel  electricity  2016-01-02      9251.0003\n",
       "2  Bear_assembly_Angel  electricity  2016-01-03     14071.6500\n",
       "3  Bear_assembly_Angel  electricity  2016-01-04     12860.3758\n",
       "4  Bear_assembly_Angel  electricity  2016-01-05     12212.8585"
      ]
     },
     "execution_count": 10,
     "metadata": {},
     "output_type": "execute_result"
    }
   ],
   "source": [
    "all_meters_daily = pd.read_csv(path_cleaned + \"allmeters_daily.csv\")\n",
    "all_meters_daily.head()"
   ]
  }
 ],
 "metadata": {
  "kernelspec": {
   "display_name": "work_env",
   "language": "python",
   "name": "work_env"
  },
  "language_info": {
   "codemirror_mode": {
    "name": "ipython",
    "version": 3
   },
   "file_extension": ".py",
   "mimetype": "text/x-python",
   "name": "python",
   "nbconvert_exporter": "python",
   "pygments_lexer": "ipython3",
   "version": "3.11.6"
  },
  "toc-showcode": false,
  "toc-showtags": false
 },
 "nbformat": 4,
 "nbformat_minor": 4
}
